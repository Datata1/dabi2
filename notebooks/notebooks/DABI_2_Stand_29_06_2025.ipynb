{
  "cells": [
    {
      "cell_type": "code",
      "execution_count": null,
      "metadata": {
        "id": "cRu2U2l9XTm1"
      },
      "outputs": [],
      "source": [
        "from __future__ import annotations\n",
        "\n",
        "from IPython.display import Markdown as md\n",
        "from IPython.display import display, HTML\n",
        "\n",
        "from sklearn.preprocessing import OneHotEncoder, StandardScaler, FunctionTransformer, MinMaxScaler\n",
        "from sklearn.linear_model import LogisticRegressionCV, LinearRegression\n",
        "from sklearn.model_selection import train_test_split, TimeSeriesSplit\n",
        "from sklearn.metrics import f1_score, accuracy_score, r2_score\n",
        "from sklearn.base import BaseEstimator, TransformerMixin\n",
        "from sklearn.ensemble import RandomForestClassifier\n",
        "from sklearn.compose import ColumnTransformer\n",
        "from sklearn.impute import SimpleImputer\n",
        "from sklearn.pipeline import Pipeline\n",
        "from sklearn.cluster import KMeans\n",
        "\n",
        "from statsmodels.tsa.seasonal import seasonal_decompose, STL\n",
        "\n",
        "from scipy.stats import chi2_contingency\n",
        "\n",
        "from typing import Literal, Union, List, Optional, Sequence, Tuple, Callable, Any, Dict\n",
        "\n",
        "from google.colab import drive\n",
        "\n",
        "import numpy as np\n",
        "import pandas as pd\n",
        "import seaborn as sns\n",
        "import pyarrow.parquet as pq\n",
        "import matplotlib.pyplot as plt\n",
        "\n",
        "import plotly.express as px\n",
        "import plotly.graph_objects as go\n",
        "\n",
        "import holidays\n",
        "\n",
        "import sys\n",
        "import gc\n",
        "import os"
      ]
    },
    {
      "cell_type": "code",
      "execution_count": null,
      "metadata": {
        "colab": {
          "base_uri": "https://localhost:8080/"
        },
        "id": "dhjQUHeJXZ_l",
        "outputId": "c58745e5-224f-4b23-a1fe-d37d4a4f728c"
      },
      "outputs": [
        {
          "output_type": "stream",
          "name": "stdout",
          "text": [
            "Drive already mounted at /content/drive/; to attempt to forcibly remount, call drive.mount(\"/content/drive/\", force_remount=True).\n",
            "/content/drive/MyDrive/DABI 2\n"
          ]
        }
      ],
      "source": [
        "drive.mount(\"/content/drive/\")\n",
        "%cd \"drive/MyDrive/DABI 2\""
      ]
    },
    {
      "cell_type": "markdown",
      "source": [
        "# Utility functions"
      ],
      "metadata": {
        "id": "m3-ofqjbLX-H"
      }
    },
    {
      "cell_type": "code",
      "source": [
        "#@title Function for printing logs, if needed\n",
        "def _log_print(log: bool, content: str, content_type: Literal[\"header\", \"bullet\", \"text\"], indent_layer: int = 0, newline: Union[None, Literal[\"start\", \"end\"]] = None) -> None:\n",
        "    if log:\n",
        "        print(f\"{chr(10) if newline == 'start' else ''}{''.join([chr(9)]) * indent_layer}{'- ' if content_type == 'bullet' else '--- ' if content_type == 'header' else ''}{content}{' ---' if content_type == 'header' else ''}{chr(10) if newline == 'end' else ''}\")"
      ],
      "metadata": {
        "id": "BRDb3WcHLZ5s",
        "cellView": "form",
        "outputId": "f421b8f0-91e7-49c8-f754-19993850d4ac",
        "colab": {
          "base_uri": "https://localhost:8080/",
          "height": 211
        }
      },
      "execution_count": 1,
      "outputs": [
        {
          "output_type": "error",
          "ename": "NameError",
          "evalue": "name 'Literal' is not defined",
          "traceback": [
            "\u001b[0;31m---------------------------------------------------------------------------\u001b[0m",
            "\u001b[0;31mNameError\u001b[0m                                 Traceback (most recent call last)",
            "\u001b[0;32m/tmp/ipython-input-1-792425366.py\u001b[0m in \u001b[0;36m<cell line: 0>\u001b[0;34m()\u001b[0m\n\u001b[1;32m      1\u001b[0m \u001b[0;31m#@title Function for printing logs, if needed\u001b[0m\u001b[0;34m\u001b[0m\u001b[0;34m\u001b[0m\u001b[0m\n\u001b[0;32m----> 2\u001b[0;31m \u001b[0;32mdef\u001b[0m \u001b[0m_log_print\u001b[0m\u001b[0;34m(\u001b[0m\u001b[0mlog\u001b[0m\u001b[0;34m:\u001b[0m \u001b[0mbool\u001b[0m\u001b[0;34m,\u001b[0m \u001b[0mcontent\u001b[0m\u001b[0;34m:\u001b[0m \u001b[0mstr\u001b[0m\u001b[0;34m,\u001b[0m \u001b[0mcontent_type\u001b[0m\u001b[0;34m:\u001b[0m \u001b[0mLiteral\u001b[0m\u001b[0;34m[\u001b[0m\u001b[0;34m\"header\"\u001b[0m\u001b[0;34m,\u001b[0m \u001b[0;34m\"bullet\"\u001b[0m\u001b[0;34m,\u001b[0m \u001b[0;34m\"text\"\u001b[0m\u001b[0;34m]\u001b[0m\u001b[0;34m,\u001b[0m \u001b[0mindent_layer\u001b[0m\u001b[0;34m:\u001b[0m \u001b[0mint\u001b[0m \u001b[0;34m=\u001b[0m \u001b[0;36m0\u001b[0m\u001b[0;34m,\u001b[0m \u001b[0mnewline\u001b[0m\u001b[0;34m:\u001b[0m \u001b[0mUnion\u001b[0m\u001b[0;34m[\u001b[0m\u001b[0;32mNone\u001b[0m\u001b[0;34m,\u001b[0m \u001b[0mLiteral\u001b[0m\u001b[0;34m[\u001b[0m\u001b[0;34m\"start\"\u001b[0m\u001b[0;34m,\u001b[0m \u001b[0;34m\"end\"\u001b[0m\u001b[0;34m]\u001b[0m\u001b[0;34m]\u001b[0m \u001b[0;34m=\u001b[0m \u001b[0;32mNone\u001b[0m\u001b[0;34m)\u001b[0m \u001b[0;34m->\u001b[0m \u001b[0;32mNone\u001b[0m\u001b[0;34m:\u001b[0m\u001b[0;34m\u001b[0m\u001b[0;34m\u001b[0m\u001b[0m\n\u001b[0m\u001b[1;32m      3\u001b[0m     \u001b[0;32mif\u001b[0m \u001b[0mlog\u001b[0m\u001b[0;34m:\u001b[0m\u001b[0;34m\u001b[0m\u001b[0;34m\u001b[0m\u001b[0m\n\u001b[1;32m      4\u001b[0m         \u001b[0mprint\u001b[0m\u001b[0;34m(\u001b[0m\u001b[0;34mf\"{chr(10) if newline == 'start' else ''}{''.join([chr(9)]) * indent_layer}{'- ' if content_type == 'bullet' else '--- ' if content_type == 'header' else ''}{content}{' ---' if content_type == 'header' else ''}{chr(10) if newline == 'end' else ''}\"\u001b[0m\u001b[0;34m)\u001b[0m\u001b[0;34m\u001b[0m\u001b[0;34m\u001b[0m\u001b[0m\n",
            "\u001b[0;31mNameError\u001b[0m: name 'Literal' is not defined"
          ]
        }
      ]
    },
    {
      "cell_type": "code",
      "source": [
        "#@title Function for chunking denormalized data (helps processing said data without frying Google Colab's RAM)\n",
        "def process_data_by_chunks(  #Aufteilung der Daten, um Arbeitsspeicher zu schonen\n",
        "        orders_path: str,\n",
        "        orders_products_path: str,\n",
        "        output_chunk_dir: str,\n",
        "        percentage_per_chunk: float\n",
        ") -> None:\n",
        "    os.makedirs(output_chunk_dir, exist_ok=True) #Zielordenr anlegen\n",
        "\n",
        "    orders_df_for_ids = pd.read_parquet(\"orders.parquet\", columns=['user_id'])\n",
        "    unique_user_ids = sorted(orders_df_for_ids['user_id'].unique())\n",
        "\n",
        "    del orders_df_for_ids\n",
        "    gc.collect()\n",
        "\n",
        "    print(f\"Found {len(unique_user_ids)} unique `user_ids` in total.\")\n",
        "\n",
        "    num_users = len(unique_user_ids) #Nutzer IDs in gleich große Chunks aufteilen\n",
        "    users_per_chunk = max(1, int(num_users * percentage_per_chunk))\n",
        "    user_id_chunks_sets = []\n",
        "\n",
        "    for i in range(0, num_users, users_per_chunk):\n",
        "        user_id_chunks_sets.append(set(unique_user_ids[i:i + users_per_chunk]))#Jede Teilmenge gleich als Set ablegen\n",
        "\n",
        "    print(f\"Define {len(user_id_chunks_sets)} user chunks with approx. {percentage_per_chunk * 100}% of users per chunk.\")\n",
        "\n",
        "    orders_products_read_chunk_size = 500000 #Chunk größe\n",
        "\n",
        "    parquet_orders_reader = pq.ParquetFile(orders_path)\n",
        "\n",
        "    for i, target_user_ids_set in enumerate(user_id_chunks_sets):\n",
        "        current_chunk_number = i + 1\n",
        "        print(f\"\\n--- Computing user chunk {current_chunk_number}/{len(user_id_chunks_sets)} ---\")\n",
        "\n",
        "        chunk_orders_data = []\n",
        "        num_orders_row_groups = parquet_orders_reader.num_row_groups\n",
        "\n",
        "        for rg_idx in range(num_orders_row_groups):\n",
        "            rg_table = parquet_orders_reader.read_row_group(rg_idx, columns=[\"user_id\", \"order_id\", \"order_date\"])\n",
        "            rg_df = rg_table.to_pandas()\n",
        "\n",
        "            filtered_orders_chunk = rg_df[rg_df.user_id.isin(target_user_ids_set)]\n",
        "            if not filtered_orders_chunk.empty:\n",
        "                chunk_orders_data.append(filtered_orders_chunk)\n",
        "\n",
        "            del rg_df, rg_table\n",
        "            gc.collect()\n",
        "\n",
        "        if not chunk_orders_data:\n",
        "            print(f\"Could not find `orders` data for user chunk {current_chunk_number}. Skipping.\")\n",
        "            continue\n",
        "\n",
        "        current_orders_df = pd.concat(chunk_orders_data, ignore_index=True)\n",
        "\n",
        "        del chunk_orders_data\n",
        "        gc.collect()\n",
        "\n",
        "        print(f\"\\t- No. loaded `orders` for this chunk: {len(current_orders_df)} rows.\")\n",
        "\n",
        "        target_order_ids_for_chunk = set(current_orders_df.order_id.unique())\n",
        "\n",
        "        chunk_orders_products_data = []\n",
        "        for op_chunk_pd in pd.read_csv(orders_products_path, chunksize=orders_products_read_chunk_size):\n",
        "            filtered_op_chunk = op_chunk_pd[op_chunk_pd.order_id.isin(target_order_ids_for_chunk)]\n",
        "\n",
        "            if not filtered_op_chunk.empty:\n",
        "                chunk_orders_products_data.append(filtered_op_chunk)\n",
        "\n",
        "            del op_chunk_pd\n",
        "            gc.collect()\n",
        "\n",
        "        final_merged_chunk_df = None\n",
        "\n",
        "        if chunk_orders_products_data:\n",
        "            current_orders_products_df = pd.concat(chunk_orders_products_data, ignore_index=True)\n",
        "\n",
        "            del chunk_orders_products_data\n",
        "            gc.collect()\n",
        "\n",
        "            print(f\"  - No. loaded `orders_products` for this chunk: {len(current_orders_products_df)} rows.\")\n",
        "\n",
        "            print(f\"  - Merging `orders` ({len(current_orders_df)} rows) with `orders_products` ({len(current_orders_products_df)} rows)...\")\n",
        "            final_merged_chunk_df = current_orders_df.merge(current_orders_products_df, on=\"order_id\")\n",
        "\n",
        "            del current_orders_products_df\n",
        "            gc.collect()\n",
        "        else:\n",
        "            print(f\"  - No 'orders_products' data for user chunk {current_chunk_number} has been found. Procceding with `orders` data.\")\n",
        "            final_merged_chunk_df = current_orders_df\n",
        "\n",
        "        output_filepath = os.path.join(output_chunk_dir, f\"{current_chunk_number}_orders_products_user_chunk.parquet\")\n",
        "        final_merged_chunk_df.to_parquet(output_filepath, index=False)\n",
        "        print(f\"  - Chunk {current_chunk_number} stored in {output_filepath}\")\n",
        "\n",
        "        del final_merged_chunk_df\n",
        "        del current_orders_df\n",
        "        gc.collect()\n",
        "\n",
        "        print(f\"  - Shared location for chunk {current_chunk_number}.\")\n",
        "\n",
        "    print(\"\\nDone! All user chunks have been computed and stored.\")"
      ],
      "metadata": {
        "id": "APgpdxjxgaEc"
      },
      "execution_count": null,
      "outputs": []
    },
    {
      "cell_type": "markdown",
      "source": [
        "# Initial data load and chunking"
      ],
      "metadata": {
        "id": "LX-JaoIWHf1Q"
      }
    },
    {
      "cell_type": "code",
      "source": [
        "process_data_by_chunks(\"orders.parquet\", \"order_products_denormalized.csv\", \"chunks\", 0.1)"
      ],
      "metadata": {
        "id": "pUKVPTpqlPZP"
      },
      "execution_count": null,
      "outputs": []
    },
    {
      "cell_type": "code",
      "execution_count": null,
      "metadata": {
        "id": "ufuKjrtnXbS9"
      },
      "outputs": [],
      "source": [
        "orders = pd.read_parquet(\"orders.parquet\")\n",
        "tip_temp = pd.read_csv(\"tip_testdaten_template_V2.csv\", usecols=[\"order_id\", \"tip\"])\n",
        "tips = pd.read_csv(\"tips_public.csv\", usecols=[\"order_id\", \"tip\"])"
      ]
    },
    {
      "cell_type": "code",
      "execution_count": null,
      "metadata": {
        "id": "N93oRNjOXdAI"
      },
      "outputs": [],
      "source": [
        "tips[\"tip\"] = tips.tip.astype(int)\n",
        "orders_tips = orders.merge(tips).sort_values([\"user_id\", \"order_date\"])"
      ]
    },
    {
      "cell_type": "markdown",
      "source": [
        "# Train an autoregressive classifier\n",
        "\n",
        "**Current objectives:**\n",
        "- Create lag features\n",
        "- Identify an appropriate splitting method (training/testing)\n",
        "- Identify a suitable classifier\n",
        "\n",
        "---\n",
        "\n",
        "Creating the lag features (the **auto** part of autoregressive) is done as easily as said. We must, however, keep one very important thing in mind - not only are we provided with one timeseries, but rather one timeseries for every single user within the dataset. Meaning, creating the lag features requires one extra step. We must shift the tip data for each user by the number of lags we require, which is done by using a simple `groupby` for each lag.\n",
        "\n",
        "Finding an appropriate way to split our data would not give us a hard time either. Randomly *train-test-*splitting our data will most likely lead to some unwanted behavior from our model. Thus, we chose the `TimeSeriesSplit`, which keeps the training data temporally earlier than the test data.\n",
        "\n",
        "In general, probably most classifiers would work here, as we are only dealing with a binary classification. For the sake of simplicity, we have settled for `LogisticRegressionCV`."
      ],
      "metadata": {
        "id": "KlLAM3jKH08S"
      }
    },
    {
      "cell_type": "code",
      "execution_count": null,
      "metadata": {
        "id": "PRGRWfHPXnC0"
      },
      "outputs": [],
      "source": [
        "#@title First function to train an AR(n) model\n",
        "def train_ar(X: pd.DataFrame, lags: int, log_print: bool = True) -> float:\n",
        "    \"\"\"\n",
        "    Trains and evaluates an Autoregressive (AR) model to predict users' tip probability\n",
        "    based on historical tipping behavior.\n",
        "\n",
        "    This function prepares the input data by creating lagged tip features,\n",
        "    encodes user IDs, and performs time-series cross-validation to\n",
        "    robustly evaluate model performance.\n",
        "\n",
        "    Args:\n",
        "        X (pd.DataFrame): Input DataFrame containing 'order_date', 'user_id', and 'tip' data.\n",
        "                          'tip' is expected to be a binary (0 or 1) target variable.\n",
        "        lags (int): The number of historical orders (lags) to include as features\n",
        "                    in the autoregressive model (e.g., 1 for AR(1), 2 for AR(2)).\n",
        "\n",
        "    Returns:\n",
        "        float: The mean accuracy across all cross-validation folds,\n",
        "               indicating the model's performance in predicting tip probability.\n",
        "    \"\"\"\n",
        "    _log_print(log_print, f\"Prepare training for AR({lags})\", \"header\")\n",
        "    # Create a copy of the DataFrame and select only the necessary columns\n",
        "    # to avoid modifying the original DataFrame and reduce memory footprint.\n",
        "    X_processed = X.copy()[[\"order_date\", \"user_id\", \"tip\"]]\n",
        "\n",
        "    # Sort data by user and then by order date to ensure correct lagging.\n",
        "    X_processed.sort_values([\"order_date\", \"user_id\"], inplace=True)\n",
        "    # Set 'order_date' as the index for time-series operations,\n",
        "    # though TimeSeriesSplit primarily relies on positional indexing.\n",
        "    X_processed.set_index(\"order_date\", inplace=True)\n",
        "\n",
        "    _log_print(log_print, \"Begin preprocessing\", \"header\", 1)\n",
        "    # Generate shifted tip features. For each lag, create a new column\n",
        "    # showing the tip status from a previous order for the same user.\n",
        "    for lag in range(1, lags + 1):\n",
        "        X_processed[f\"tip_t-{lag}\"] = X_processed.groupby(\"user_id\").tip.shift(lag)\n",
        "\n",
        "    # Drop rows that contain NaN values introduced by the shifting operation.\n",
        "    X_processed.dropna(inplace=True)\n",
        "\n",
        "    # Separate the target variable 'tip' from the features.\n",
        "    y = X_processed.pop(\"tip\")\n",
        "\n",
        "    # Define the preprocessing steps for the features.\n",
        "    preprocessor = ColumnTransformer(\n",
        "        transformers=[\n",
        "            (\"user_encoder\", OneHotEncoder(handle_unknown=\"ignore\"), [\"user_id\"])\n",
        "        ],\n",
        "        remainder=\"passthrough\"\n",
        "    )\n",
        "\n",
        "    # Initialize TimeSeriesSplit for robust cross-validation on time-series data.\n",
        "    # This ensures that validation data always comes *after* training data chronologically,\n",
        "    # preventing data leakage from the future.\n",
        "    tscv = TimeSeriesSplit(n_splits=5)\n",
        "    fold_scores = [] # List to store accuracy for each fold.\n",
        "\n",
        "    # Iterate through each fold generated by TimeSeriesSplit.\n",
        "    for i, (train_idx, test_idx) in enumerate(tscv.split(X_processed)):\n",
        "        _log_print(log_print, f\"Fold {i + 1}\", \"header\", 1)\n",
        "\n",
        "        # Split data into training and test sets based on TimeSeriesSplit indices.\n",
        "        X_train, X_test = X_processed.iloc[train_idx], X_processed.iloc[test_idx]\n",
        "        y_train, y_test = y.iloc[train_idx], y.iloc[test_idx]\n",
        "\n",
        "        # Fit the preprocessor on the training data and transform both train/test sets.\n",
        "        preprocessor.fit(X_train)\n",
        "        X_train_transformed = preprocessor.transform(X_train)\n",
        "        X_test_transformed = preprocessor.transform(X_test)\n",
        "\n",
        "        _log_print(log_print, \"Training\", \"bullet\", 2)\n",
        "\n",
        "        # Initialize and train the Logistic Regression model with built-in cross-validation.\n",
        "        # 'cv=5' for internal CV, 'n_jobs=-1' to use all available CPU cores,\n",
        "        # 'max_iter=1000' for convergence.\n",
        "        model = LogisticRegressionCV(cv=5, n_jobs=-1, max_iter=1000)\n",
        "        model.fit(X_train_transformed, y_train)\n",
        "\n",
        "        # Make predictions on the transformed test set.\n",
        "        y_pred = model.predict(X_test_transformed)\n",
        "\n",
        "        _log_print(log_print, \"Testing\", \"bullet\", 2)\n",
        "        # Calculate accuracy for the current fold and append to the list.\n",
        "        accuracy = accuracy_score(y_test, y_pred)\n",
        "        fold_scores.append(accuracy)\n",
        "        _log_print(log_print, f\"Accuracy for fold {i + 1}: {accuracy:.4f}\", \"bullet\", 2, newline=\"end\")\n",
        "\n",
        "    # Return the average accuracy across all cross-validation folds.\n",
        "    return np.mean(fold_scores)"
      ]
    },
    {
      "cell_type": "code",
      "execution_count": null,
      "metadata": {
        "id": "lhfUMzQOXp1t",
        "colab": {
          "base_uri": "https://localhost:8080/"
        },
        "outputId": "1b76be1f-5859-4725-d959-45bb432db6d8"
      },
      "outputs": [
        {
          "output_type": "stream",
          "name": "stdout",
          "text": [
            "--- Prepare training for AR(1) ---\n",
            "\t--- Begin preprocessing ---\n",
            "\t--- Fold 1 ---\n",
            "\t\t- Training\n",
            "\t\t- Testing\n",
            "\t\t- Accuracy for fold 1: 0.7342\n",
            "\n",
            "\t--- Fold 2 ---\n",
            "\t\t- Training\n",
            "\t\t- Testing\n",
            "\t\t- Accuracy for fold 2: 0.7388\n",
            "\n",
            "\t--- Fold 3 ---\n",
            "\t\t- Training\n",
            "\t\t- Testing\n",
            "\t\t- Accuracy for fold 3: 0.7314\n",
            "\n",
            "\t--- Fold 4 ---\n",
            "\t\t- Training\n",
            "\t\t- Testing\n",
            "\t\t- Accuracy for fold 4: 0.7311\n",
            "\n",
            "\t--- Fold 5 ---\n",
            "\t\t- Training\n",
            "\t\t- Testing\n",
            "\t\t- Accuracy for fold 5: 0.7314\n",
            "\n",
            "--- Prepare training for AR(2) ---\n",
            "\t--- Begin preprocessing ---\n",
            "\t--- Fold 1 ---\n",
            "\t\t- Training\n",
            "\t\t- Testing\n",
            "\t\t- Accuracy for fold 1: 0.7353\n",
            "\n",
            "\t--- Fold 2 ---\n",
            "\t\t- Training\n",
            "\t\t- Testing\n",
            "\t\t- Accuracy for fold 2: 0.7414\n",
            "\n",
            "\t--- Fold 3 ---\n",
            "\t\t- Training\n",
            "\t\t- Testing\n",
            "\t\t- Accuracy for fold 3: 0.7486\n",
            "\n",
            "\t--- Fold 4 ---\n",
            "\t\t- Training\n",
            "\t\t- Testing\n",
            "\t\t- Accuracy for fold 4: 0.7343\n",
            "\n",
            "\t--- Fold 5 ---\n",
            "\t\t- Training\n",
            "\t\t- Testing\n",
            "\t\t- Accuracy for fold 5: 0.7502\n",
            "\n"
          ]
        }
      ],
      "source": [
        "acc_ar_1 = train_ar(orders_tips, 1)\n",
        "acc_ar_2 = train_ar(orders_tips, 2)\n",
        "df_performance = pd.DataFrame({\"Accuracy\": [acc_ar_1, acc_ar_2]}, index=[\"AR(1)\", \"AR(2)\"])"
      ]
    },
    {
      "cell_type": "code",
      "source": [
        "df_performance"
      ],
      "metadata": {
        "colab": {
          "base_uri": "https://localhost:8080/",
          "height": 125
        },
        "id": "o1UwauiHkVvV",
        "outputId": "4b853d9b-c799-4341-b77f-95c71944b532"
      },
      "execution_count": null,
      "outputs": [
        {
          "output_type": "execute_result",
          "data": {
            "text/plain": [
              "       Accuracy\n",
              "AR(1)  0.733377\n",
              "AR(2)  0.741966"
            ],
            "text/html": [
              "\n",
              "  <div id=\"df-31afcfa4-5640-4b1d-bf8f-999f66c17658\" class=\"colab-df-container\">\n",
              "    <div>\n",
              "<style scoped>\n",
              "    .dataframe tbody tr th:only-of-type {\n",
              "        vertical-align: middle;\n",
              "    }\n",
              "\n",
              "    .dataframe tbody tr th {\n",
              "        vertical-align: top;\n",
              "    }\n",
              "\n",
              "    .dataframe thead th {\n",
              "        text-align: right;\n",
              "    }\n",
              "</style>\n",
              "<table border=\"1\" class=\"dataframe\">\n",
              "  <thead>\n",
              "    <tr style=\"text-align: right;\">\n",
              "      <th></th>\n",
              "      <th>Accuracy</th>\n",
              "    </tr>\n",
              "  </thead>\n",
              "  <tbody>\n",
              "    <tr>\n",
              "      <th>AR(1)</th>\n",
              "      <td>0.733377</td>\n",
              "    </tr>\n",
              "    <tr>\n",
              "      <th>AR(2)</th>\n",
              "      <td>0.741966</td>\n",
              "    </tr>\n",
              "  </tbody>\n",
              "</table>\n",
              "</div>\n",
              "    <div class=\"colab-df-buttons\">\n",
              "\n",
              "  <div class=\"colab-df-container\">\n",
              "    <button class=\"colab-df-convert\" onclick=\"convertToInteractive('df-31afcfa4-5640-4b1d-bf8f-999f66c17658')\"\n",
              "            title=\"Convert this dataframe to an interactive table.\"\n",
              "            style=\"display:none;\">\n",
              "\n",
              "  <svg xmlns=\"http://www.w3.org/2000/svg\" height=\"24px\" viewBox=\"0 -960 960 960\">\n",
              "    <path d=\"M120-120v-720h720v720H120Zm60-500h600v-160H180v160Zm220 220h160v-160H400v160Zm0 220h160v-160H400v160ZM180-400h160v-160H180v160Zm440 0h160v-160H620v160ZM180-180h160v-160H180v160Zm440 0h160v-160H620v160Z\"/>\n",
              "  </svg>\n",
              "    </button>\n",
              "\n",
              "  <style>\n",
              "    .colab-df-container {\n",
              "      display:flex;\n",
              "      gap: 12px;\n",
              "    }\n",
              "\n",
              "    .colab-df-convert {\n",
              "      background-color: #E8F0FE;\n",
              "      border: none;\n",
              "      border-radius: 50%;\n",
              "      cursor: pointer;\n",
              "      display: none;\n",
              "      fill: #1967D2;\n",
              "      height: 32px;\n",
              "      padding: 0 0 0 0;\n",
              "      width: 32px;\n",
              "    }\n",
              "\n",
              "    .colab-df-convert:hover {\n",
              "      background-color: #E2EBFA;\n",
              "      box-shadow: 0px 1px 2px rgba(60, 64, 67, 0.3), 0px 1px 3px 1px rgba(60, 64, 67, 0.15);\n",
              "      fill: #174EA6;\n",
              "    }\n",
              "\n",
              "    .colab-df-buttons div {\n",
              "      margin-bottom: 4px;\n",
              "    }\n",
              "\n",
              "    [theme=dark] .colab-df-convert {\n",
              "      background-color: #3B4455;\n",
              "      fill: #D2E3FC;\n",
              "    }\n",
              "\n",
              "    [theme=dark] .colab-df-convert:hover {\n",
              "      background-color: #434B5C;\n",
              "      box-shadow: 0px 1px 3px 1px rgba(0, 0, 0, 0.15);\n",
              "      filter: drop-shadow(0px 1px 2px rgba(0, 0, 0, 0.3));\n",
              "      fill: #FFFFFF;\n",
              "    }\n",
              "  </style>\n",
              "\n",
              "    <script>\n",
              "      const buttonEl =\n",
              "        document.querySelector('#df-31afcfa4-5640-4b1d-bf8f-999f66c17658 button.colab-df-convert');\n",
              "      buttonEl.style.display =\n",
              "        google.colab.kernel.accessAllowed ? 'block' : 'none';\n",
              "\n",
              "      async function convertToInteractive(key) {\n",
              "        const element = document.querySelector('#df-31afcfa4-5640-4b1d-bf8f-999f66c17658');\n",
              "        const dataTable =\n",
              "          await google.colab.kernel.invokeFunction('convertToInteractive',\n",
              "                                                    [key], {});\n",
              "        if (!dataTable) return;\n",
              "\n",
              "        const docLinkHtml = 'Like what you see? Visit the ' +\n",
              "          '<a target=\"_blank\" href=https://colab.research.google.com/notebooks/data_table.ipynb>data table notebook</a>'\n",
              "          + ' to learn more about interactive tables.';\n",
              "        element.innerHTML = '';\n",
              "        dataTable['output_type'] = 'display_data';\n",
              "        await google.colab.output.renderOutput(dataTable, element);\n",
              "        const docLink = document.createElement('div');\n",
              "        docLink.innerHTML = docLinkHtml;\n",
              "        element.appendChild(docLink);\n",
              "      }\n",
              "    </script>\n",
              "  </div>\n",
              "\n",
              "\n",
              "    <div id=\"df-1b05d7a0-ca1c-4a1c-bf89-d80460af631e\">\n",
              "      <button class=\"colab-df-quickchart\" onclick=\"quickchart('df-1b05d7a0-ca1c-4a1c-bf89-d80460af631e')\"\n",
              "                title=\"Suggest charts\"\n",
              "                style=\"display:none;\">\n",
              "\n",
              "<svg xmlns=\"http://www.w3.org/2000/svg\" height=\"24px\"viewBox=\"0 0 24 24\"\n",
              "     width=\"24px\">\n",
              "    <g>\n",
              "        <path d=\"M19 3H5c-1.1 0-2 .9-2 2v14c0 1.1.9 2 2 2h14c1.1 0 2-.9 2-2V5c0-1.1-.9-2-2-2zM9 17H7v-7h2v7zm4 0h-2V7h2v10zm4 0h-2v-4h2v4z\"/>\n",
              "    </g>\n",
              "</svg>\n",
              "      </button>\n",
              "\n",
              "<style>\n",
              "  .colab-df-quickchart {\n",
              "      --bg-color: #E8F0FE;\n",
              "      --fill-color: #1967D2;\n",
              "      --hover-bg-color: #E2EBFA;\n",
              "      --hover-fill-color: #174EA6;\n",
              "      --disabled-fill-color: #AAA;\n",
              "      --disabled-bg-color: #DDD;\n",
              "  }\n",
              "\n",
              "  [theme=dark] .colab-df-quickchart {\n",
              "      --bg-color: #3B4455;\n",
              "      --fill-color: #D2E3FC;\n",
              "      --hover-bg-color: #434B5C;\n",
              "      --hover-fill-color: #FFFFFF;\n",
              "      --disabled-bg-color: #3B4455;\n",
              "      --disabled-fill-color: #666;\n",
              "  }\n",
              "\n",
              "  .colab-df-quickchart {\n",
              "    background-color: var(--bg-color);\n",
              "    border: none;\n",
              "    border-radius: 50%;\n",
              "    cursor: pointer;\n",
              "    display: none;\n",
              "    fill: var(--fill-color);\n",
              "    height: 32px;\n",
              "    padding: 0;\n",
              "    width: 32px;\n",
              "  }\n",
              "\n",
              "  .colab-df-quickchart:hover {\n",
              "    background-color: var(--hover-bg-color);\n",
              "    box-shadow: 0 1px 2px rgba(60, 64, 67, 0.3), 0 1px 3px 1px rgba(60, 64, 67, 0.15);\n",
              "    fill: var(--button-hover-fill-color);\n",
              "  }\n",
              "\n",
              "  .colab-df-quickchart-complete:disabled,\n",
              "  .colab-df-quickchart-complete:disabled:hover {\n",
              "    background-color: var(--disabled-bg-color);\n",
              "    fill: var(--disabled-fill-color);\n",
              "    box-shadow: none;\n",
              "  }\n",
              "\n",
              "  .colab-df-spinner {\n",
              "    border: 2px solid var(--fill-color);\n",
              "    border-color: transparent;\n",
              "    border-bottom-color: var(--fill-color);\n",
              "    animation:\n",
              "      spin 1s steps(1) infinite;\n",
              "  }\n",
              "\n",
              "  @keyframes spin {\n",
              "    0% {\n",
              "      border-color: transparent;\n",
              "      border-bottom-color: var(--fill-color);\n",
              "      border-left-color: var(--fill-color);\n",
              "    }\n",
              "    20% {\n",
              "      border-color: transparent;\n",
              "      border-left-color: var(--fill-color);\n",
              "      border-top-color: var(--fill-color);\n",
              "    }\n",
              "    30% {\n",
              "      border-color: transparent;\n",
              "      border-left-color: var(--fill-color);\n",
              "      border-top-color: var(--fill-color);\n",
              "      border-right-color: var(--fill-color);\n",
              "    }\n",
              "    40% {\n",
              "      border-color: transparent;\n",
              "      border-right-color: var(--fill-color);\n",
              "      border-top-color: var(--fill-color);\n",
              "    }\n",
              "    60% {\n",
              "      border-color: transparent;\n",
              "      border-right-color: var(--fill-color);\n",
              "    }\n",
              "    80% {\n",
              "      border-color: transparent;\n",
              "      border-right-color: var(--fill-color);\n",
              "      border-bottom-color: var(--fill-color);\n",
              "    }\n",
              "    90% {\n",
              "      border-color: transparent;\n",
              "      border-bottom-color: var(--fill-color);\n",
              "    }\n",
              "  }\n",
              "</style>\n",
              "\n",
              "      <script>\n",
              "        async function quickchart(key) {\n",
              "          const quickchartButtonEl =\n",
              "            document.querySelector('#' + key + ' button');\n",
              "          quickchartButtonEl.disabled = true;  // To prevent multiple clicks.\n",
              "          quickchartButtonEl.classList.add('colab-df-spinner');\n",
              "          try {\n",
              "            const charts = await google.colab.kernel.invokeFunction(\n",
              "                'suggestCharts', [key], {});\n",
              "          } catch (error) {\n",
              "            console.error('Error during call to suggestCharts:', error);\n",
              "          }\n",
              "          quickchartButtonEl.classList.remove('colab-df-spinner');\n",
              "          quickchartButtonEl.classList.add('colab-df-quickchart-complete');\n",
              "        }\n",
              "        (() => {\n",
              "          let quickchartButtonEl =\n",
              "            document.querySelector('#df-1b05d7a0-ca1c-4a1c-bf89-d80460af631e button');\n",
              "          quickchartButtonEl.style.display =\n",
              "            google.colab.kernel.accessAllowed ? 'block' : 'none';\n",
              "        })();\n",
              "      </script>\n",
              "    </div>\n",
              "\n",
              "  <div id=\"id_92a649e9-3b84-44f7-8e5c-d0bb54f42b96\">\n",
              "    <style>\n",
              "      .colab-df-generate {\n",
              "        background-color: #E8F0FE;\n",
              "        border: none;\n",
              "        border-radius: 50%;\n",
              "        cursor: pointer;\n",
              "        display: none;\n",
              "        fill: #1967D2;\n",
              "        height: 32px;\n",
              "        padding: 0 0 0 0;\n",
              "        width: 32px;\n",
              "      }\n",
              "\n",
              "      .colab-df-generate:hover {\n",
              "        background-color: #E2EBFA;\n",
              "        box-shadow: 0px 1px 2px rgba(60, 64, 67, 0.3), 0px 1px 3px 1px rgba(60, 64, 67, 0.15);\n",
              "        fill: #174EA6;\n",
              "      }\n",
              "\n",
              "      [theme=dark] .colab-df-generate {\n",
              "        background-color: #3B4455;\n",
              "        fill: #D2E3FC;\n",
              "      }\n",
              "\n",
              "      [theme=dark] .colab-df-generate:hover {\n",
              "        background-color: #434B5C;\n",
              "        box-shadow: 0px 1px 3px 1px rgba(0, 0, 0, 0.15);\n",
              "        filter: drop-shadow(0px 1px 2px rgba(0, 0, 0, 0.3));\n",
              "        fill: #FFFFFF;\n",
              "      }\n",
              "    </style>\n",
              "    <button class=\"colab-df-generate\" onclick=\"generateWithVariable('df_performance')\"\n",
              "            title=\"Generate code using this dataframe.\"\n",
              "            style=\"display:none;\">\n",
              "\n",
              "  <svg xmlns=\"http://www.w3.org/2000/svg\" height=\"24px\"viewBox=\"0 0 24 24\"\n",
              "       width=\"24px\">\n",
              "    <path d=\"M7,19H8.4L18.45,9,17,7.55,7,17.6ZM5,21V16.75L18.45,3.32a2,2,0,0,1,2.83,0l1.4,1.43a1.91,1.91,0,0,1,.58,1.4,1.91,1.91,0,0,1-.58,1.4L9.25,21ZM18.45,9,17,7.55Zm-12,3A5.31,5.31,0,0,0,4.9,8.1,5.31,5.31,0,0,0,1,6.5,5.31,5.31,0,0,0,4.9,4.9,5.31,5.31,0,0,0,6.5,1,5.31,5.31,0,0,0,8.1,4.9,5.31,5.31,0,0,0,12,6.5,5.46,5.46,0,0,0,6.5,12Z\"/>\n",
              "  </svg>\n",
              "    </button>\n",
              "    <script>\n",
              "      (() => {\n",
              "      const buttonEl =\n",
              "        document.querySelector('#id_92a649e9-3b84-44f7-8e5c-d0bb54f42b96 button.colab-df-generate');\n",
              "      buttonEl.style.display =\n",
              "        google.colab.kernel.accessAllowed ? 'block' : 'none';\n",
              "\n",
              "      buttonEl.onclick = () => {\n",
              "        google.colab.notebook.generateWithVariable('df_performance');\n",
              "      }\n",
              "      })();\n",
              "    </script>\n",
              "  </div>\n",
              "\n",
              "    </div>\n",
              "  </div>\n"
            ],
            "application/vnd.google.colaboratory.intrinsic+json": {
              "type": "dataframe",
              "variable_name": "df_performance",
              "summary": "{\n  \"name\": \"df_performance\",\n  \"rows\": 2,\n  \"fields\": [\n    {\n      \"column\": \"Accuracy\",\n      \"properties\": {\n        \"dtype\": \"number\",\n        \"std\": 0.006073319982938163,\n        \"min\": 0.7333766309386772,\n        \"max\": 0.7419656024271799,\n        \"num_unique_values\": 2,\n        \"samples\": [\n          0.7419656024271799,\n          0.7333766309386772\n        ],\n        \"semantic_type\": \"\",\n        \"description\": \"\"\n      }\n    }\n  ]\n}"
            }
          },
          "metadata": {},
          "execution_count": 11
        }
      ]
    },
    {
      "cell_type": "code",
      "source": [
        "acc_ar_1 = 0.25489\n",
        "acc_ar_2 = 1.36384"
      ],
      "metadata": {
        "id": "KLoUjN5UgZzr"
      },
      "execution_count": null,
      "outputs": []
    },
    {
      "cell_type": "markdown",
      "source": [
        "**Interpretation**\n",
        "\n",
        "As it is apparent, the current AR model will correctly classify the user's tip behavior for their next order in about $ 73.34\\% $ of all\n",
        "cases, given the information about whether or not they tipped on their previous order. If this model, however, were to be given information regarding\n",
        "the users' tip behaviors for their most recent two orders, it will classify about $ 74.2\\% $ of all users' tip behavior for their next order correctly.\n",
        "Now begs the question, how far we can go back in our customers' order history, in order to make our predictions more accurate. The answer lies within the behavioral\n",
        "patterns of our customers' tipping behaviors. In order to understand these, we will analyze and interpret the (partial) autocorrelations of our data at hand."
      ],
      "metadata": {
        "id": "C074Xy42ifwd"
      }
    },
    {
      "cell_type": "code",
      "execution_count": null,
      "metadata": {
        "id": "RWQioiqQX0QC",
        "cellView": "form"
      },
      "outputs": [],
      "source": [
        "#@title Function for compiling the ACF\n",
        "def compute_acf_improved(df: pd.DataFrame, lags: int) -> pd.Series:\n",
        "    \"\"\"\n",
        "    Computes the autocorrelation function (ACF) for the tips of each user.\n",
        "\n",
        "    Args:\n",
        "        df (pd.DataFrame): DataFrame containing at least the colums 'tip' and\n",
        "                            'user_id'.\n",
        "        lags (int): The number of historical orders (lags) to include as features\n",
        "                    in the autoregressive model.\n",
        "\n",
        "    Returns:\n",
        "        pd.Series: Series containing the autocorrelation coefficients\n",
        "    \"\"\"\n",
        "    df_copy = df.copy()\n",
        "\n",
        "    # Generate shifted features\n",
        "    for lag_val in range(1, lags + 1):\n",
        "        df_copy[f\"tip_t-{lag_val}\"] = df_copy.groupby(\"user_id\").tip.shift(lag_val)\n",
        "\n",
        "    df_copy.dropna(inplace=True)\n",
        "\n",
        "    # Only select tip column and the shifted features for computation\n",
        "    cols_to_correlate = [\"tip\"] + [f\"tip_t-{lag_val}\" for lag_val in range(1, lags + 1)]\n",
        "\n",
        "    final_df = df_copy[df_copy.columns.intersection(cols_to_correlate)]\n",
        "\n",
        "    # Compute correlation\n",
        "    acf_results = final_df.corr()[\"tip\"]\n",
        "\n",
        "    # Drop row with index \"tip\" as it is redundant\n",
        "    # Rename indexes to address data points via their corresponding lag\n",
        "    return acf_results.drop(\"tip\").rename(index=lambda x: int(x.split('-')[1]))"
      ]
    },
    {
      "cell_type": "code",
      "source": [
        "#@title Function for computing the PACF\n",
        "def compute_pacf_improved(df: pd.DataFrame, lags: int) -> dict:\n",
        "    \"\"\"\n",
        "    Compute the partial autocorrelation function (PACF) per user.\n",
        "    Lags are created on users' base to avoid computation across\n",
        "    \"user limits\".\n",
        "\n",
        "    Args:\n",
        "        df (pd.DataFrame): DataFrame containing at least the colums 'tip' and\n",
        "                            'user_id'.\n",
        "        lags (int): The number of historical orders (lags) to include as features\n",
        "                    in the autoregressive model.\n",
        "\n",
        "    Returns:\n",
        "        dict: A dictionary containing the PACF coefficients\n",
        "    \"\"\"\n",
        "    df_copy = df.copy()\n",
        "    df_copy.sort_values([\"user_id\", \"order_date\"], inplace=True)\n",
        "\n",
        "    # Generate shifted features\n",
        "    for l in range(1, lags + 1):\n",
        "        df_copy[f\"tip_t-{l}\"] = df_copy.groupby(\"user_id\").tip.shift(l)\n",
        "\n",
        "    df_copy.dropna(inplace=True)\n",
        "\n",
        "    pacf_vals = {}\n",
        "\n",
        "    for lag in range(1, lags + 1):\n",
        "        if lag == 1:\n",
        "            # PACF(1) = ACF(1)\n",
        "            corr_val = df_copy[\"tip\"].corr(df_copy['tip_t-1'])\n",
        "            if not np.isnan(corr_val):\n",
        "                pacf_vals[lag] = corr_val\n",
        "        else:\n",
        "            # For PACF(k) regress Y_t on Y_{t-1}, ..., Y_{t-k+1}\n",
        "            # and Y_{t-k} on Y_{t-1}, ..., Y_{t-k+1}\n",
        "            # Then, correlate residuals\n",
        "            X_prime_cols = [f\"tip_t-{l}\" for l in range(1, lag)]\n",
        "\n",
        "            required_cols = [\"tip\", f\"tip_t-{lag}\"] + X_prime_cols\n",
        "\n",
        "            # Select relevant columns only\n",
        "            subset_for_lag = df_copy[df_copy.columns.intersection(required_cols)]\n",
        "\n",
        "            # Sicherstellen, dass subset_for_lag nicht leer ist nach intersection\n",
        "            if subset_for_lag.empty or len(subset_for_lag) < 2:  # Mindestens 2 Punkte für Korrelation\n",
        "                pacf_vals[lag] = np.nan  # Keine Berechnung möglich\n",
        "                continue\n",
        "\n",
        "            # Regression von Y_t auf Y_{t-1}, ..., Y_{t-k+1}\n",
        "            model_y = LinearRegression()\n",
        "            model_y.fit(subset_for_lag[X_prime_cols], subset_for_lag[\"tip\"])\n",
        "            residuals_y = subset_for_lag[\"tip\"] - model_y.predict(subset_for_lag[X_prime_cols])\n",
        "\n",
        "            # Regression von Y_{t-k} auf Y_{t-1}, ..., Y_{t-k+1}\n",
        "            model_xk = LinearRegression()\n",
        "            model_xk.fit(subset_for_lag[X_prime_cols], subset_for_lag[f\"tip_t-{lag}\"])\n",
        "            residuals_xk = subset_for_lag[f\"tip_t-{lag}\"] - model_xk.predict(subset_for_lag[X_prime_cols])\n",
        "\n",
        "            # Korrelation der Residuen\n",
        "            # Muss nan-Werte handhaben, falls sie durch die Regression entstehen\n",
        "            # np.corrcoef handhabt NaN, gibt NaN zurück, wenn alle nan sind\n",
        "            correlation = np.corrcoef(residuals_y, residuals_xk)[0, 1]\n",
        "            if not np.isnan(correlation):\n",
        "                pacf_vals[lag] = correlation\n",
        "            else:\n",
        "                pacf_vals[lag] = np.nan  # Falls Korrelation NaN ist\n",
        "\n",
        "    return pacf_vals"
      ],
      "metadata": {
        "cellView": "form",
        "id": "toiWfSeiJHPg"
      },
      "execution_count": null,
      "outputs": []
    },
    {
      "cell_type": "markdown",
      "metadata": {
        "id": "h5oOeKUseXrM"
      },
      "source": [
        "As previously mentioned, we'll make use of the autocorrelation function (ACF) and the partial autocorrelation function (PACF), in order to understand\n",
        "behavioral patterns in tipping across our customers. These metrics help us analyze how much past events (previous tips) influence current tipping behavior.\n",
        "\n",
        "---\n",
        "### What the functions do\n",
        "1. `compute_acf`: This function calculates the raw correlations between the current tip value (`tip_t`) and its lagged versions (e.g., `tip_t-1`, `tip_t-2`,\n",
        "$\\dots$). It does so separately for each user and then combines the results to compute the overall correlation matrix.\n",
        "- The ACF answers:\n",
        ">\"How much does tipping today relate to tipping $1$, $2$, $\\dots$, $k$ steps ago?\"\n",
        "2. `compute_pacf`: This function calculates the direct effect of a previous tip\n",
        "(e.g., `tip_t-k`) on the current tip (`tip_t`) while controlling for the intermediate lags (`tip_t-1` to `tip_t-k+1`).\n",
        "- For lag $1$, it simply computes the direct correlation between `tip` and `tip_t-1` (i.e. the ACF).\n",
        "- For higher lags, it uses a linear regression model to isolate the residual part of the current tip and then calculates how much that residual still correlates with `tip_t-k`.\n",
        "- PACF answers:\n",
        ">\"Does tipping two (or more) steps ago have a direct influence on current tipping - beyond what can be explained by more recent behavior?\"\n",
        "\n",
        "---\n",
        "### Why this matters\n",
        "- ACF and PACF give us insight into behavioral dependencies over time:\n",
        "    - A high lag $1$ PACF would suggest habitual tipping behavior (e.g., users who tipped last time tend to tip again).\n",
        "    - A low or negative lag $2+$ PACF might suggest reacionary behavior or that tipping decisions are not strongly dependent on older history.\n",
        "- These insights help us:\n",
        "    - Better model user behavior in prediction tasks\n",
        "    - Understand the memory effect in customer actions\n",
        "    - Identify opportunities for intervention (e.g., personalized nudges for users who previously tipped)"
      ]
    },
    {
      "cell_type": "code",
      "execution_count": null,
      "metadata": {
        "id": "PKZNOV9zhONL"
      },
      "outputs": [],
      "source": [
        "acf = compute_acf_improved(orders_tips, 10)\n",
        "pacf = compute_pacf_improved(orders_tips, 10)"
      ]
    },
    {
      "cell_type": "code",
      "source": [
        "pacf"
      ],
      "metadata": {
        "colab": {
          "base_uri": "https://localhost:8080/"
        },
        "id": "GpAlg8SNSeYx",
        "outputId": "63be288d-669e-4078-e7b7-4e002bef204c"
      },
      "execution_count": null,
      "outputs": [
        {
          "output_type": "execute_result",
          "data": {
            "text/plain": [
              "{1: np.float64(0.4589361534314325),\n",
              " 2: np.float64(0.2336097673439864),\n",
              " 3: np.float64(0.17548776559700544),\n",
              " 4: np.float64(0.1440740969825668),\n",
              " 5: np.float64(0.1191018616551626),\n",
              " 6: np.float64(0.10383451070207256),\n",
              " 7: np.float64(0.08997403679081724),\n",
              " 8: np.float64(0.08224974773295454),\n",
              " 9: np.float64(0.07258165082121364),\n",
              " 10: np.float64(0.06694395205541036)}"
            ]
          },
          "metadata": {},
          "execution_count": 14
        }
      ]
    },
    {
      "cell_type": "code",
      "execution_count": null,
      "metadata": {
        "id": "xnk1uu8dtoFl"
      },
      "outputs": [],
      "source": [
        "df_acf = pd.DataFrame({\"Lag\": acf.index, \"ACF\": acf.values}).iloc[1:]"
      ]
    },
    {
      "cell_type": "code",
      "execution_count": null,
      "metadata": {
        "id": "bi7nPVexnW8m",
        "cellView": "form"
      },
      "outputs": [],
      "source": [
        "#@title Function for plotting the (P)ACF\n",
        "def plot_corr(df: pd.DataFrame, func: Literal[\"ACF\", \"PACF\"], title: str) -> None:\n",
        "    fig = go.Figure()\n",
        "\n",
        "    # 1. Vertikale Linien\n",
        "    for i, row in df.iterrows():\n",
        "        fig.add_trace(go.Scatter(\n",
        "            x=[row[\"Lag\"], row[\"Lag\"]],\n",
        "            y=[0, row[func]],\n",
        "            mode=\"lines\",\n",
        "            line=dict(color='blue', width=1),\n",
        "            showlegend=False\n",
        "        ))\n",
        "\n",
        "    # 2. Punkte\n",
        "    fig.add_trace(go.Scatter(\n",
        "        x=df[\"Lag\"],\n",
        "        y=df[func],\n",
        "        mode=\"markers\",\n",
        "        marker=dict(size=8, color='blue'),\n",
        "        name=\"Coefficient\"\n",
        "    ))\n",
        "\n",
        "    # Layout\n",
        "    fig.update_layout(\n",
        "        title=title,\n",
        "        xaxis_title=\"Lag\",\n",
        "        xaxis_type=\"category\",\n",
        "        yaxis_title=func,\n",
        "        template=\"plotly_dark\"\n",
        "    )\n",
        "\n",
        "    fig.show()\n",
        "    fig.write_html(f\"{func.lower()}.html\")"
      ]
    },
    {
      "cell_type": "code",
      "execution_count": null,
      "metadata": {
        "colab": {
          "base_uri": "https://localhost:8080/",
          "height": 542
        },
        "id": "8TouVJlItqKh",
        "outputId": "7c0691ad-183f-414c-f755-b1c6eb84b30c"
      },
      "outputs": [
        {
          "output_type": "display_data",
          "data": {
            "text/html": [
              "<html>\n",
              "<head><meta charset=\"utf-8\" /></head>\n",
              "<body>\n",
              "    <div>            <script src=\"https://cdnjs.cloudflare.com/ajax/libs/mathjax/2.7.5/MathJax.js?config=TeX-AMS-MML_SVG\"></script><script type=\"text/javascript\">if (window.MathJax && window.MathJax.Hub && window.MathJax.Hub.Config) {window.MathJax.Hub.Config({SVG: {font: \"STIX-Web\"}});}</script>                <script type=\"text/javascript\">window.PlotlyConfig = {MathJaxConfig: 'local'};</script>\n",
              "        <script charset=\"utf-8\" src=\"https://cdn.plot.ly/plotly-2.35.2.min.js\"></script>                <div id=\"6c32c5c2-8f1b-4ae5-bf37-26460fd15d51\" class=\"plotly-graph-div\" style=\"height:525px; width:100%;\"></div>            <script type=\"text/javascript\">                                    window.PLOTLYENV=window.PLOTLYENV || {};                                    if (document.getElementById(\"6c32c5c2-8f1b-4ae5-bf37-26460fd15d51\")) {                    Plotly.newPlot(                        \"6c32c5c2-8f1b-4ae5-bf37-26460fd15d51\",                        [{\"line\":{\"color\":\"blue\",\"width\":1},\"mode\":\"lines\",\"showlegend\":false,\"x\":[2.0,2.0],\"y\":[0,0.3950732051461511],\"type\":\"scatter\"},{\"line\":{\"color\":\"blue\",\"width\":1},\"mode\":\"lines\",\"showlegend\":false,\"x\":[3.0,3.0],\"y\":[0,0.3771121850980298],\"type\":\"scatter\"},{\"line\":{\"color\":\"blue\",\"width\":1},\"mode\":\"lines\",\"showlegend\":false,\"x\":[4.0,4.0],\"y\":[0,0.3697142531155968],\"type\":\"scatter\"},{\"line\":{\"color\":\"blue\",\"width\":1},\"mode\":\"lines\",\"showlegend\":false,\"x\":[5.0,5.0],\"y\":[0,0.363069333079154],\"type\":\"scatter\"},{\"line\":{\"color\":\"blue\",\"width\":1},\"mode\":\"lines\",\"showlegend\":false,\"x\":[6.0,6.0],\"y\":[0,0.35943875209905213],\"type\":\"scatter\"},{\"line\":{\"color\":\"blue\",\"width\":1},\"mode\":\"lines\",\"showlegend\":false,\"x\":[7.0,7.0],\"y\":[0,0.3551953680287359],\"type\":\"scatter\"},{\"line\":{\"color\":\"blue\",\"width\":1},\"mode\":\"lines\",\"showlegend\":false,\"x\":[8.0,8.0],\"y\":[0,0.35332593710778765],\"type\":\"scatter\"},{\"line\":{\"color\":\"blue\",\"width\":1},\"mode\":\"lines\",\"showlegend\":false,\"x\":[9.0,9.0],\"y\":[0,0.3498567761777743],\"type\":\"scatter\"},{\"line\":{\"color\":\"blue\",\"width\":1},\"mode\":\"lines\",\"showlegend\":false,\"x\":[10.0,10.0],\"y\":[0,0.3467560827543211],\"type\":\"scatter\"},{\"marker\":{\"color\":\"blue\",\"size\":8},\"mode\":\"markers\",\"name\":\"Coefficient\",\"x\":[2,3,4,5,6,7,8,9,10],\"y\":[0.3950732051461511,0.3771121850980298,0.3697142531155968,0.363069333079154,0.35943875209905213,0.3551953680287359,0.35332593710778765,0.3498567761777743,0.3467560827543211],\"type\":\"scatter\"}],                        {\"template\":{\"data\":{\"barpolar\":[{\"marker\":{\"line\":{\"color\":\"rgb(17,17,17)\",\"width\":0.5},\"pattern\":{\"fillmode\":\"overlay\",\"size\":10,\"solidity\":0.2}},\"type\":\"barpolar\"}],\"bar\":[{\"error_x\":{\"color\":\"#f2f5fa\"},\"error_y\":{\"color\":\"#f2f5fa\"},\"marker\":{\"line\":{\"color\":\"rgb(17,17,17)\",\"width\":0.5},\"pattern\":{\"fillmode\":\"overlay\",\"size\":10,\"solidity\":0.2}},\"type\":\"bar\"}],\"carpet\":[{\"aaxis\":{\"endlinecolor\":\"#A2B1C6\",\"gridcolor\":\"#506784\",\"linecolor\":\"#506784\",\"minorgridcolor\":\"#506784\",\"startlinecolor\":\"#A2B1C6\"},\"baxis\":{\"endlinecolor\":\"#A2B1C6\",\"gridcolor\":\"#506784\",\"linecolor\":\"#506784\",\"minorgridcolor\":\"#506784\",\"startlinecolor\":\"#A2B1C6\"},\"type\":\"carpet\"}],\"choropleth\":[{\"colorbar\":{\"outlinewidth\":0,\"ticks\":\"\"},\"type\":\"choropleth\"}],\"contourcarpet\":[{\"colorbar\":{\"outlinewidth\":0,\"ticks\":\"\"},\"type\":\"contourcarpet\"}],\"contour\":[{\"colorbar\":{\"outlinewidth\":0,\"ticks\":\"\"},\"colorscale\":[[0.0,\"#0d0887\"],[0.1111111111111111,\"#46039f\"],[0.2222222222222222,\"#7201a8\"],[0.3333333333333333,\"#9c179e\"],[0.4444444444444444,\"#bd3786\"],[0.5555555555555556,\"#d8576b\"],[0.6666666666666666,\"#ed7953\"],[0.7777777777777778,\"#fb9f3a\"],[0.8888888888888888,\"#fdca26\"],[1.0,\"#f0f921\"]],\"type\":\"contour\"}],\"heatmapgl\":[{\"colorbar\":{\"outlinewidth\":0,\"ticks\":\"\"},\"colorscale\":[[0.0,\"#0d0887\"],[0.1111111111111111,\"#46039f\"],[0.2222222222222222,\"#7201a8\"],[0.3333333333333333,\"#9c179e\"],[0.4444444444444444,\"#bd3786\"],[0.5555555555555556,\"#d8576b\"],[0.6666666666666666,\"#ed7953\"],[0.7777777777777778,\"#fb9f3a\"],[0.8888888888888888,\"#fdca26\"],[1.0,\"#f0f921\"]],\"type\":\"heatmapgl\"}],\"heatmap\":[{\"colorbar\":{\"outlinewidth\":0,\"ticks\":\"\"},\"colorscale\":[[0.0,\"#0d0887\"],[0.1111111111111111,\"#46039f\"],[0.2222222222222222,\"#7201a8\"],[0.3333333333333333,\"#9c179e\"],[0.4444444444444444,\"#bd3786\"],[0.5555555555555556,\"#d8576b\"],[0.6666666666666666,\"#ed7953\"],[0.7777777777777778,\"#fb9f3a\"],[0.8888888888888888,\"#fdca26\"],[1.0,\"#f0f921\"]],\"type\":\"heatmap\"}],\"histogram2dcontour\":[{\"colorbar\":{\"outlinewidth\":0,\"ticks\":\"\"},\"colorscale\":[[0.0,\"#0d0887\"],[0.1111111111111111,\"#46039f\"],[0.2222222222222222,\"#7201a8\"],[0.3333333333333333,\"#9c179e\"],[0.4444444444444444,\"#bd3786\"],[0.5555555555555556,\"#d8576b\"],[0.6666666666666666,\"#ed7953\"],[0.7777777777777778,\"#fb9f3a\"],[0.8888888888888888,\"#fdca26\"],[1.0,\"#f0f921\"]],\"type\":\"histogram2dcontour\"}],\"histogram2d\":[{\"colorbar\":{\"outlinewidth\":0,\"ticks\":\"\"},\"colorscale\":[[0.0,\"#0d0887\"],[0.1111111111111111,\"#46039f\"],[0.2222222222222222,\"#7201a8\"],[0.3333333333333333,\"#9c179e\"],[0.4444444444444444,\"#bd3786\"],[0.5555555555555556,\"#d8576b\"],[0.6666666666666666,\"#ed7953\"],[0.7777777777777778,\"#fb9f3a\"],[0.8888888888888888,\"#fdca26\"],[1.0,\"#f0f921\"]],\"type\":\"histogram2d\"}],\"histogram\":[{\"marker\":{\"pattern\":{\"fillmode\":\"overlay\",\"size\":10,\"solidity\":0.2}},\"type\":\"histogram\"}],\"mesh3d\":[{\"colorbar\":{\"outlinewidth\":0,\"ticks\":\"\"},\"type\":\"mesh3d\"}],\"parcoords\":[{\"line\":{\"colorbar\":{\"outlinewidth\":0,\"ticks\":\"\"}},\"type\":\"parcoords\"}],\"pie\":[{\"automargin\":true,\"type\":\"pie\"}],\"scatter3d\":[{\"line\":{\"colorbar\":{\"outlinewidth\":0,\"ticks\":\"\"}},\"marker\":{\"colorbar\":{\"outlinewidth\":0,\"ticks\":\"\"}},\"type\":\"scatter3d\"}],\"scattercarpet\":[{\"marker\":{\"colorbar\":{\"outlinewidth\":0,\"ticks\":\"\"}},\"type\":\"scattercarpet\"}],\"scattergeo\":[{\"marker\":{\"colorbar\":{\"outlinewidth\":0,\"ticks\":\"\"}},\"type\":\"scattergeo\"}],\"scattergl\":[{\"marker\":{\"line\":{\"color\":\"#283442\"}},\"type\":\"scattergl\"}],\"scattermapbox\":[{\"marker\":{\"colorbar\":{\"outlinewidth\":0,\"ticks\":\"\"}},\"type\":\"scattermapbox\"}],\"scatterpolargl\":[{\"marker\":{\"colorbar\":{\"outlinewidth\":0,\"ticks\":\"\"}},\"type\":\"scatterpolargl\"}],\"scatterpolar\":[{\"marker\":{\"colorbar\":{\"outlinewidth\":0,\"ticks\":\"\"}},\"type\":\"scatterpolar\"}],\"scatter\":[{\"marker\":{\"line\":{\"color\":\"#283442\"}},\"type\":\"scatter\"}],\"scatterternary\":[{\"marker\":{\"colorbar\":{\"outlinewidth\":0,\"ticks\":\"\"}},\"type\":\"scatterternary\"}],\"surface\":[{\"colorbar\":{\"outlinewidth\":0,\"ticks\":\"\"},\"colorscale\":[[0.0,\"#0d0887\"],[0.1111111111111111,\"#46039f\"],[0.2222222222222222,\"#7201a8\"],[0.3333333333333333,\"#9c179e\"],[0.4444444444444444,\"#bd3786\"],[0.5555555555555556,\"#d8576b\"],[0.6666666666666666,\"#ed7953\"],[0.7777777777777778,\"#fb9f3a\"],[0.8888888888888888,\"#fdca26\"],[1.0,\"#f0f921\"]],\"type\":\"surface\"}],\"table\":[{\"cells\":{\"fill\":{\"color\":\"#506784\"},\"line\":{\"color\":\"rgb(17,17,17)\"}},\"header\":{\"fill\":{\"color\":\"#2a3f5f\"},\"line\":{\"color\":\"rgb(17,17,17)\"}},\"type\":\"table\"}]},\"layout\":{\"annotationdefaults\":{\"arrowcolor\":\"#f2f5fa\",\"arrowhead\":0,\"arrowwidth\":1},\"autotypenumbers\":\"strict\",\"coloraxis\":{\"colorbar\":{\"outlinewidth\":0,\"ticks\":\"\"}},\"colorscale\":{\"diverging\":[[0,\"#8e0152\"],[0.1,\"#c51b7d\"],[0.2,\"#de77ae\"],[0.3,\"#f1b6da\"],[0.4,\"#fde0ef\"],[0.5,\"#f7f7f7\"],[0.6,\"#e6f5d0\"],[0.7,\"#b8e186\"],[0.8,\"#7fbc41\"],[0.9,\"#4d9221\"],[1,\"#276419\"]],\"sequential\":[[0.0,\"#0d0887\"],[0.1111111111111111,\"#46039f\"],[0.2222222222222222,\"#7201a8\"],[0.3333333333333333,\"#9c179e\"],[0.4444444444444444,\"#bd3786\"],[0.5555555555555556,\"#d8576b\"],[0.6666666666666666,\"#ed7953\"],[0.7777777777777778,\"#fb9f3a\"],[0.8888888888888888,\"#fdca26\"],[1.0,\"#f0f921\"]],\"sequentialminus\":[[0.0,\"#0d0887\"],[0.1111111111111111,\"#46039f\"],[0.2222222222222222,\"#7201a8\"],[0.3333333333333333,\"#9c179e\"],[0.4444444444444444,\"#bd3786\"],[0.5555555555555556,\"#d8576b\"],[0.6666666666666666,\"#ed7953\"],[0.7777777777777778,\"#fb9f3a\"],[0.8888888888888888,\"#fdca26\"],[1.0,\"#f0f921\"]]},\"colorway\":[\"#636efa\",\"#EF553B\",\"#00cc96\",\"#ab63fa\",\"#FFA15A\",\"#19d3f3\",\"#FF6692\",\"#B6E880\",\"#FF97FF\",\"#FECB52\"],\"font\":{\"color\":\"#f2f5fa\"},\"geo\":{\"bgcolor\":\"rgb(17,17,17)\",\"lakecolor\":\"rgb(17,17,17)\",\"landcolor\":\"rgb(17,17,17)\",\"showlakes\":true,\"showland\":true,\"subunitcolor\":\"#506784\"},\"hoverlabel\":{\"align\":\"left\"},\"hovermode\":\"closest\",\"mapbox\":{\"style\":\"dark\"},\"paper_bgcolor\":\"rgb(17,17,17)\",\"plot_bgcolor\":\"rgb(17,17,17)\",\"polar\":{\"angularaxis\":{\"gridcolor\":\"#506784\",\"linecolor\":\"#506784\",\"ticks\":\"\"},\"bgcolor\":\"rgb(17,17,17)\",\"radialaxis\":{\"gridcolor\":\"#506784\",\"linecolor\":\"#506784\",\"ticks\":\"\"}},\"scene\":{\"xaxis\":{\"backgroundcolor\":\"rgb(17,17,17)\",\"gridcolor\":\"#506784\",\"gridwidth\":2,\"linecolor\":\"#506784\",\"showbackground\":true,\"ticks\":\"\",\"zerolinecolor\":\"#C8D4E3\"},\"yaxis\":{\"backgroundcolor\":\"rgb(17,17,17)\",\"gridcolor\":\"#506784\",\"gridwidth\":2,\"linecolor\":\"#506784\",\"showbackground\":true,\"ticks\":\"\",\"zerolinecolor\":\"#C8D4E3\"},\"zaxis\":{\"backgroundcolor\":\"rgb(17,17,17)\",\"gridcolor\":\"#506784\",\"gridwidth\":2,\"linecolor\":\"#506784\",\"showbackground\":true,\"ticks\":\"\",\"zerolinecolor\":\"#C8D4E3\"}},\"shapedefaults\":{\"line\":{\"color\":\"#f2f5fa\"}},\"sliderdefaults\":{\"bgcolor\":\"#C8D4E3\",\"bordercolor\":\"rgb(17,17,17)\",\"borderwidth\":1,\"tickwidth\":0},\"ternary\":{\"aaxis\":{\"gridcolor\":\"#506784\",\"linecolor\":\"#506784\",\"ticks\":\"\"},\"baxis\":{\"gridcolor\":\"#506784\",\"linecolor\":\"#506784\",\"ticks\":\"\"},\"bgcolor\":\"rgb(17,17,17)\",\"caxis\":{\"gridcolor\":\"#506784\",\"linecolor\":\"#506784\",\"ticks\":\"\"}},\"title\":{\"x\":0.05},\"updatemenudefaults\":{\"bgcolor\":\"#506784\",\"borderwidth\":0},\"xaxis\":{\"automargin\":true,\"gridcolor\":\"#283442\",\"linecolor\":\"#506784\",\"ticks\":\"\",\"title\":{\"standoff\":15},\"zerolinecolor\":\"#283442\",\"zerolinewidth\":2},\"yaxis\":{\"automargin\":true,\"gridcolor\":\"#283442\",\"linecolor\":\"#506784\",\"ticks\":\"\",\"title\":{\"standoff\":15},\"zerolinecolor\":\"#283442\",\"zerolinewidth\":2}}},\"xaxis\":{\"title\":{\"text\":\"Lag\"},\"type\":\"category\"},\"title\":{\"text\":\"Autocorrelation Function for 10 lags\"},\"yaxis\":{\"title\":{\"text\":\"ACF\"}}},                        {\"responsive\": true}                    ).then(function(){\n",
              "                            \n",
              "var gd = document.getElementById('6c32c5c2-8f1b-4ae5-bf37-26460fd15d51');\n",
              "var x = new MutationObserver(function (mutations, observer) {{\n",
              "        var display = window.getComputedStyle(gd).display;\n",
              "        if (!display || display === 'none') {{\n",
              "            console.log([gd, 'removed!']);\n",
              "            Plotly.purge(gd);\n",
              "            observer.disconnect();\n",
              "        }}\n",
              "}});\n",
              "\n",
              "// Listen for the removal of the full notebook cells\n",
              "var notebookContainer = gd.closest('#notebook-container');\n",
              "if (notebookContainer) {{\n",
              "    x.observe(notebookContainer, {childList: true});\n",
              "}}\n",
              "\n",
              "// Listen for the clearing of the current output cell\n",
              "var outputEl = gd.closest('.output');\n",
              "if (outputEl) {{\n",
              "    x.observe(outputEl, {childList: true});\n",
              "}}\n",
              "\n",
              "                        })                };                            </script>        </div>\n",
              "</body>\n",
              "</html>"
            ]
          },
          "metadata": {}
        }
      ],
      "source": [
        "plot_corr(df_acf, \"ACF\", \"Autocorrelation Function for 10 lags\")"
      ]
    },
    {
      "cell_type": "code",
      "execution_count": null,
      "metadata": {
        "colab": {
          "base_uri": "https://localhost:8080/",
          "height": 542
        },
        "id": "EKC5JtNltzn6",
        "outputId": "2bd02138-f244-4fa2-bd44-da0217acb520"
      },
      "outputs": [
        {
          "output_type": "display_data",
          "data": {
            "text/html": [
              "<html>\n",
              "<head><meta charset=\"utf-8\" /></head>\n",
              "<body>\n",
              "    <div>            <script src=\"https://cdnjs.cloudflare.com/ajax/libs/mathjax/2.7.5/MathJax.js?config=TeX-AMS-MML_SVG\"></script><script type=\"text/javascript\">if (window.MathJax && window.MathJax.Hub && window.MathJax.Hub.Config) {window.MathJax.Hub.Config({SVG: {font: \"STIX-Web\"}});}</script>                <script type=\"text/javascript\">window.PlotlyConfig = {MathJaxConfig: 'local'};</script>\n",
              "        <script charset=\"utf-8\" src=\"https://cdn.plot.ly/plotly-2.35.2.min.js\"></script>                <div id=\"3dd99058-9531-4b82-80c3-367b727eaec8\" class=\"plotly-graph-div\" style=\"height:525px; width:100%;\"></div>            <script type=\"text/javascript\">                                    window.PLOTLYENV=window.PLOTLYENV || {};                                    if (document.getElementById(\"3dd99058-9531-4b82-80c3-367b727eaec8\")) {                    Plotly.newPlot(                        \"3dd99058-9531-4b82-80c3-367b727eaec8\",                        [{\"line\":{\"color\":\"blue\",\"width\":1},\"mode\":\"lines\",\"showlegend\":false,\"x\":[1.0,1.0],\"y\":[0,0.4589361534314325],\"type\":\"scatter\"},{\"line\":{\"color\":\"blue\",\"width\":1},\"mode\":\"lines\",\"showlegend\":false,\"x\":[2.0,2.0],\"y\":[0,0.2336097673439864],\"type\":\"scatter\"},{\"line\":{\"color\":\"blue\",\"width\":1},\"mode\":\"lines\",\"showlegend\":false,\"x\":[3.0,3.0],\"y\":[0,0.17548776559700544],\"type\":\"scatter\"},{\"line\":{\"color\":\"blue\",\"width\":1},\"mode\":\"lines\",\"showlegend\":false,\"x\":[4.0,4.0],\"y\":[0,0.1440740969825668],\"type\":\"scatter\"},{\"line\":{\"color\":\"blue\",\"width\":1},\"mode\":\"lines\",\"showlegend\":false,\"x\":[5.0,5.0],\"y\":[0,0.1191018616551626],\"type\":\"scatter\"},{\"line\":{\"color\":\"blue\",\"width\":1},\"mode\":\"lines\",\"showlegend\":false,\"x\":[6.0,6.0],\"y\":[0,0.10383451070207256],\"type\":\"scatter\"},{\"line\":{\"color\":\"blue\",\"width\":1},\"mode\":\"lines\",\"showlegend\":false,\"x\":[7.0,7.0],\"y\":[0,0.08997403679081724],\"type\":\"scatter\"},{\"line\":{\"color\":\"blue\",\"width\":1},\"mode\":\"lines\",\"showlegend\":false,\"x\":[8.0,8.0],\"y\":[0,0.08224974773295454],\"type\":\"scatter\"},{\"line\":{\"color\":\"blue\",\"width\":1},\"mode\":\"lines\",\"showlegend\":false,\"x\":[9.0,9.0],\"y\":[0,0.07258165082121364],\"type\":\"scatter\"},{\"line\":{\"color\":\"blue\",\"width\":1},\"mode\":\"lines\",\"showlegend\":false,\"x\":[10.0,10.0],\"y\":[0,0.06694395205541036],\"type\":\"scatter\"},{\"marker\":{\"color\":\"blue\",\"size\":8},\"mode\":\"markers\",\"name\":\"Coefficient\",\"x\":[1,2,3,4,5,6,7,8,9,10],\"y\":[0.4589361534314325,0.2336097673439864,0.17548776559700544,0.1440740969825668,0.1191018616551626,0.10383451070207256,0.08997403679081724,0.08224974773295454,0.07258165082121364,0.06694395205541036],\"type\":\"scatter\"}],                        {\"template\":{\"data\":{\"barpolar\":[{\"marker\":{\"line\":{\"color\":\"rgb(17,17,17)\",\"width\":0.5},\"pattern\":{\"fillmode\":\"overlay\",\"size\":10,\"solidity\":0.2}},\"type\":\"barpolar\"}],\"bar\":[{\"error_x\":{\"color\":\"#f2f5fa\"},\"error_y\":{\"color\":\"#f2f5fa\"},\"marker\":{\"line\":{\"color\":\"rgb(17,17,17)\",\"width\":0.5},\"pattern\":{\"fillmode\":\"overlay\",\"size\":10,\"solidity\":0.2}},\"type\":\"bar\"}],\"carpet\":[{\"aaxis\":{\"endlinecolor\":\"#A2B1C6\",\"gridcolor\":\"#506784\",\"linecolor\":\"#506784\",\"minorgridcolor\":\"#506784\",\"startlinecolor\":\"#A2B1C6\"},\"baxis\":{\"endlinecolor\":\"#A2B1C6\",\"gridcolor\":\"#506784\",\"linecolor\":\"#506784\",\"minorgridcolor\":\"#506784\",\"startlinecolor\":\"#A2B1C6\"},\"type\":\"carpet\"}],\"choropleth\":[{\"colorbar\":{\"outlinewidth\":0,\"ticks\":\"\"},\"type\":\"choropleth\"}],\"contourcarpet\":[{\"colorbar\":{\"outlinewidth\":0,\"ticks\":\"\"},\"type\":\"contourcarpet\"}],\"contour\":[{\"colorbar\":{\"outlinewidth\":0,\"ticks\":\"\"},\"colorscale\":[[0.0,\"#0d0887\"],[0.1111111111111111,\"#46039f\"],[0.2222222222222222,\"#7201a8\"],[0.3333333333333333,\"#9c179e\"],[0.4444444444444444,\"#bd3786\"],[0.5555555555555556,\"#d8576b\"],[0.6666666666666666,\"#ed7953\"],[0.7777777777777778,\"#fb9f3a\"],[0.8888888888888888,\"#fdca26\"],[1.0,\"#f0f921\"]],\"type\":\"contour\"}],\"heatmapgl\":[{\"colorbar\":{\"outlinewidth\":0,\"ticks\":\"\"},\"colorscale\":[[0.0,\"#0d0887\"],[0.1111111111111111,\"#46039f\"],[0.2222222222222222,\"#7201a8\"],[0.3333333333333333,\"#9c179e\"],[0.4444444444444444,\"#bd3786\"],[0.5555555555555556,\"#d8576b\"],[0.6666666666666666,\"#ed7953\"],[0.7777777777777778,\"#fb9f3a\"],[0.8888888888888888,\"#fdca26\"],[1.0,\"#f0f921\"]],\"type\":\"heatmapgl\"}],\"heatmap\":[{\"colorbar\":{\"outlinewidth\":0,\"ticks\":\"\"},\"colorscale\":[[0.0,\"#0d0887\"],[0.1111111111111111,\"#46039f\"],[0.2222222222222222,\"#7201a8\"],[0.3333333333333333,\"#9c179e\"],[0.4444444444444444,\"#bd3786\"],[0.5555555555555556,\"#d8576b\"],[0.6666666666666666,\"#ed7953\"],[0.7777777777777778,\"#fb9f3a\"],[0.8888888888888888,\"#fdca26\"],[1.0,\"#f0f921\"]],\"type\":\"heatmap\"}],\"histogram2dcontour\":[{\"colorbar\":{\"outlinewidth\":0,\"ticks\":\"\"},\"colorscale\":[[0.0,\"#0d0887\"],[0.1111111111111111,\"#46039f\"],[0.2222222222222222,\"#7201a8\"],[0.3333333333333333,\"#9c179e\"],[0.4444444444444444,\"#bd3786\"],[0.5555555555555556,\"#d8576b\"],[0.6666666666666666,\"#ed7953\"],[0.7777777777777778,\"#fb9f3a\"],[0.8888888888888888,\"#fdca26\"],[1.0,\"#f0f921\"]],\"type\":\"histogram2dcontour\"}],\"histogram2d\":[{\"colorbar\":{\"outlinewidth\":0,\"ticks\":\"\"},\"colorscale\":[[0.0,\"#0d0887\"],[0.1111111111111111,\"#46039f\"],[0.2222222222222222,\"#7201a8\"],[0.3333333333333333,\"#9c179e\"],[0.4444444444444444,\"#bd3786\"],[0.5555555555555556,\"#d8576b\"],[0.6666666666666666,\"#ed7953\"],[0.7777777777777778,\"#fb9f3a\"],[0.8888888888888888,\"#fdca26\"],[1.0,\"#f0f921\"]],\"type\":\"histogram2d\"}],\"histogram\":[{\"marker\":{\"pattern\":{\"fillmode\":\"overlay\",\"size\":10,\"solidity\":0.2}},\"type\":\"histogram\"}],\"mesh3d\":[{\"colorbar\":{\"outlinewidth\":0,\"ticks\":\"\"},\"type\":\"mesh3d\"}],\"parcoords\":[{\"line\":{\"colorbar\":{\"outlinewidth\":0,\"ticks\":\"\"}},\"type\":\"parcoords\"}],\"pie\":[{\"automargin\":true,\"type\":\"pie\"}],\"scatter3d\":[{\"line\":{\"colorbar\":{\"outlinewidth\":0,\"ticks\":\"\"}},\"marker\":{\"colorbar\":{\"outlinewidth\":0,\"ticks\":\"\"}},\"type\":\"scatter3d\"}],\"scattercarpet\":[{\"marker\":{\"colorbar\":{\"outlinewidth\":0,\"ticks\":\"\"}},\"type\":\"scattercarpet\"}],\"scattergeo\":[{\"marker\":{\"colorbar\":{\"outlinewidth\":0,\"ticks\":\"\"}},\"type\":\"scattergeo\"}],\"scattergl\":[{\"marker\":{\"line\":{\"color\":\"#283442\"}},\"type\":\"scattergl\"}],\"scattermapbox\":[{\"marker\":{\"colorbar\":{\"outlinewidth\":0,\"ticks\":\"\"}},\"type\":\"scattermapbox\"}],\"scatterpolargl\":[{\"marker\":{\"colorbar\":{\"outlinewidth\":0,\"ticks\":\"\"}},\"type\":\"scatterpolargl\"}],\"scatterpolar\":[{\"marker\":{\"colorbar\":{\"outlinewidth\":0,\"ticks\":\"\"}},\"type\":\"scatterpolar\"}],\"scatter\":[{\"marker\":{\"line\":{\"color\":\"#283442\"}},\"type\":\"scatter\"}],\"scatterternary\":[{\"marker\":{\"colorbar\":{\"outlinewidth\":0,\"ticks\":\"\"}},\"type\":\"scatterternary\"}],\"surface\":[{\"colorbar\":{\"outlinewidth\":0,\"ticks\":\"\"},\"colorscale\":[[0.0,\"#0d0887\"],[0.1111111111111111,\"#46039f\"],[0.2222222222222222,\"#7201a8\"],[0.3333333333333333,\"#9c179e\"],[0.4444444444444444,\"#bd3786\"],[0.5555555555555556,\"#d8576b\"],[0.6666666666666666,\"#ed7953\"],[0.7777777777777778,\"#fb9f3a\"],[0.8888888888888888,\"#fdca26\"],[1.0,\"#f0f921\"]],\"type\":\"surface\"}],\"table\":[{\"cells\":{\"fill\":{\"color\":\"#506784\"},\"line\":{\"color\":\"rgb(17,17,17)\"}},\"header\":{\"fill\":{\"color\":\"#2a3f5f\"},\"line\":{\"color\":\"rgb(17,17,17)\"}},\"type\":\"table\"}]},\"layout\":{\"annotationdefaults\":{\"arrowcolor\":\"#f2f5fa\",\"arrowhead\":0,\"arrowwidth\":1},\"autotypenumbers\":\"strict\",\"coloraxis\":{\"colorbar\":{\"outlinewidth\":0,\"ticks\":\"\"}},\"colorscale\":{\"diverging\":[[0,\"#8e0152\"],[0.1,\"#c51b7d\"],[0.2,\"#de77ae\"],[0.3,\"#f1b6da\"],[0.4,\"#fde0ef\"],[0.5,\"#f7f7f7\"],[0.6,\"#e6f5d0\"],[0.7,\"#b8e186\"],[0.8,\"#7fbc41\"],[0.9,\"#4d9221\"],[1,\"#276419\"]],\"sequential\":[[0.0,\"#0d0887\"],[0.1111111111111111,\"#46039f\"],[0.2222222222222222,\"#7201a8\"],[0.3333333333333333,\"#9c179e\"],[0.4444444444444444,\"#bd3786\"],[0.5555555555555556,\"#d8576b\"],[0.6666666666666666,\"#ed7953\"],[0.7777777777777778,\"#fb9f3a\"],[0.8888888888888888,\"#fdca26\"],[1.0,\"#f0f921\"]],\"sequentialminus\":[[0.0,\"#0d0887\"],[0.1111111111111111,\"#46039f\"],[0.2222222222222222,\"#7201a8\"],[0.3333333333333333,\"#9c179e\"],[0.4444444444444444,\"#bd3786\"],[0.5555555555555556,\"#d8576b\"],[0.6666666666666666,\"#ed7953\"],[0.7777777777777778,\"#fb9f3a\"],[0.8888888888888888,\"#fdca26\"],[1.0,\"#f0f921\"]]},\"colorway\":[\"#636efa\",\"#EF553B\",\"#00cc96\",\"#ab63fa\",\"#FFA15A\",\"#19d3f3\",\"#FF6692\",\"#B6E880\",\"#FF97FF\",\"#FECB52\"],\"font\":{\"color\":\"#f2f5fa\"},\"geo\":{\"bgcolor\":\"rgb(17,17,17)\",\"lakecolor\":\"rgb(17,17,17)\",\"landcolor\":\"rgb(17,17,17)\",\"showlakes\":true,\"showland\":true,\"subunitcolor\":\"#506784\"},\"hoverlabel\":{\"align\":\"left\"},\"hovermode\":\"closest\",\"mapbox\":{\"style\":\"dark\"},\"paper_bgcolor\":\"rgb(17,17,17)\",\"plot_bgcolor\":\"rgb(17,17,17)\",\"polar\":{\"angularaxis\":{\"gridcolor\":\"#506784\",\"linecolor\":\"#506784\",\"ticks\":\"\"},\"bgcolor\":\"rgb(17,17,17)\",\"radialaxis\":{\"gridcolor\":\"#506784\",\"linecolor\":\"#506784\",\"ticks\":\"\"}},\"scene\":{\"xaxis\":{\"backgroundcolor\":\"rgb(17,17,17)\",\"gridcolor\":\"#506784\",\"gridwidth\":2,\"linecolor\":\"#506784\",\"showbackground\":true,\"ticks\":\"\",\"zerolinecolor\":\"#C8D4E3\"},\"yaxis\":{\"backgroundcolor\":\"rgb(17,17,17)\",\"gridcolor\":\"#506784\",\"gridwidth\":2,\"linecolor\":\"#506784\",\"showbackground\":true,\"ticks\":\"\",\"zerolinecolor\":\"#C8D4E3\"},\"zaxis\":{\"backgroundcolor\":\"rgb(17,17,17)\",\"gridcolor\":\"#506784\",\"gridwidth\":2,\"linecolor\":\"#506784\",\"showbackground\":true,\"ticks\":\"\",\"zerolinecolor\":\"#C8D4E3\"}},\"shapedefaults\":{\"line\":{\"color\":\"#f2f5fa\"}},\"sliderdefaults\":{\"bgcolor\":\"#C8D4E3\",\"bordercolor\":\"rgb(17,17,17)\",\"borderwidth\":1,\"tickwidth\":0},\"ternary\":{\"aaxis\":{\"gridcolor\":\"#506784\",\"linecolor\":\"#506784\",\"ticks\":\"\"},\"baxis\":{\"gridcolor\":\"#506784\",\"linecolor\":\"#506784\",\"ticks\":\"\"},\"bgcolor\":\"rgb(17,17,17)\",\"caxis\":{\"gridcolor\":\"#506784\",\"linecolor\":\"#506784\",\"ticks\":\"\"}},\"title\":{\"x\":0.05},\"updatemenudefaults\":{\"bgcolor\":\"#506784\",\"borderwidth\":0},\"xaxis\":{\"automargin\":true,\"gridcolor\":\"#283442\",\"linecolor\":\"#506784\",\"ticks\":\"\",\"title\":{\"standoff\":15},\"zerolinecolor\":\"#283442\",\"zerolinewidth\":2},\"yaxis\":{\"automargin\":true,\"gridcolor\":\"#283442\",\"linecolor\":\"#506784\",\"ticks\":\"\",\"title\":{\"standoff\":15},\"zerolinecolor\":\"#283442\",\"zerolinewidth\":2}}},\"xaxis\":{\"title\":{\"text\":\"Lag\"},\"type\":\"category\"},\"title\":{\"text\":\"Partial Autocorrelation Function for 10 lags\"},\"yaxis\":{\"title\":{\"text\":\"PACF\"}}},                        {\"responsive\": true}                    ).then(function(){\n",
              "                            \n",
              "var gd = document.getElementById('3dd99058-9531-4b82-80c3-367b727eaec8');\n",
              "var x = new MutationObserver(function (mutations, observer) {{\n",
              "        var display = window.getComputedStyle(gd).display;\n",
              "        if (!display || display === 'none') {{\n",
              "            console.log([gd, 'removed!']);\n",
              "            Plotly.purge(gd);\n",
              "            observer.disconnect();\n",
              "        }}\n",
              "}});\n",
              "\n",
              "// Listen for the removal of the full notebook cells\n",
              "var notebookContainer = gd.closest('#notebook-container');\n",
              "if (notebookContainer) {{\n",
              "    x.observe(notebookContainer, {childList: true});\n",
              "}}\n",
              "\n",
              "// Listen for the clearing of the current output cell\n",
              "var outputEl = gd.closest('.output');\n",
              "if (outputEl) {{\n",
              "    x.observe(outputEl, {childList: true});\n",
              "}}\n",
              "\n",
              "                        })                };                            </script>        </div>\n",
              "</body>\n",
              "</html>"
            ]
          },
          "metadata": {}
        }
      ],
      "source": [
        "plot_corr(pd.DataFrame({\"Lag\": pacf.keys(), \"PACF\": pacf.values()}), \"PACF\", \"Partial Autocorrelation Function for 10 lags\")"
      ]
    },
    {
      "cell_type": "code",
      "execution_count": null,
      "metadata": {
        "id": "jBjE89x-2a-O"
      },
      "outputs": [],
      "source": [
        "acc_ar_3 = train_ar(orders_tips, 3)\n",
        "acc_ar_4 = train_ar(orders_tips, 4)\n",
        "\n",
        "df_performance.loc[\"AR(3)\"] = acc_ar_3\n",
        "df_performance.loc[\"AR(4)\"] = acc_ar_4"
      ]
    },
    {
      "cell_type": "code",
      "source": [
        "df_performance"
      ],
      "metadata": {
        "colab": {
          "base_uri": "https://localhost:8080/",
          "height": 174
        },
        "id": "nJz-XSt3kb2X",
        "outputId": "13049237-2e27-40a9-af9b-aa5a19028869"
      },
      "execution_count": null,
      "outputs": [
        {
          "output_type": "execute_result",
          "data": {
            "text/plain": [
              "       Accuracy\n",
              "AR(1)  0.733377\n",
              "AR(2)  0.741966\n",
              "AR(3)  0.738908\n",
              "AR(4)  0.742509"
            ],
            "text/html": [
              "\n",
              "  <div id=\"df-203225a0-41c4-4bdb-8dcb-873ea8bbd406\" class=\"colab-df-container\">\n",
              "    <div>\n",
              "<style scoped>\n",
              "    .dataframe tbody tr th:only-of-type {\n",
              "        vertical-align: middle;\n",
              "    }\n",
              "\n",
              "    .dataframe tbody tr th {\n",
              "        vertical-align: top;\n",
              "    }\n",
              "\n",
              "    .dataframe thead th {\n",
              "        text-align: right;\n",
              "    }\n",
              "</style>\n",
              "<table border=\"1\" class=\"dataframe\">\n",
              "  <thead>\n",
              "    <tr style=\"text-align: right;\">\n",
              "      <th></th>\n",
              "      <th>Accuracy</th>\n",
              "    </tr>\n",
              "  </thead>\n",
              "  <tbody>\n",
              "    <tr>\n",
              "      <th>AR(1)</th>\n",
              "      <td>0.733377</td>\n",
              "    </tr>\n",
              "    <tr>\n",
              "      <th>AR(2)</th>\n",
              "      <td>0.741966</td>\n",
              "    </tr>\n",
              "    <tr>\n",
              "      <th>AR(3)</th>\n",
              "      <td>0.738908</td>\n",
              "    </tr>\n",
              "    <tr>\n",
              "      <th>AR(4)</th>\n",
              "      <td>0.742509</td>\n",
              "    </tr>\n",
              "  </tbody>\n",
              "</table>\n",
              "</div>\n",
              "    <div class=\"colab-df-buttons\">\n",
              "\n",
              "  <div class=\"colab-df-container\">\n",
              "    <button class=\"colab-df-convert\" onclick=\"convertToInteractive('df-203225a0-41c4-4bdb-8dcb-873ea8bbd406')\"\n",
              "            title=\"Convert this dataframe to an interactive table.\"\n",
              "            style=\"display:none;\">\n",
              "\n",
              "  <svg xmlns=\"http://www.w3.org/2000/svg\" height=\"24px\" viewBox=\"0 -960 960 960\">\n",
              "    <path d=\"M120-120v-720h720v720H120Zm60-500h600v-160H180v160Zm220 220h160v-160H400v160Zm0 220h160v-160H400v160ZM180-400h160v-160H180v160Zm440 0h160v-160H620v160ZM180-180h160v-160H180v160Zm440 0h160v-160H620v160Z\"/>\n",
              "  </svg>\n",
              "    </button>\n",
              "\n",
              "  <style>\n",
              "    .colab-df-container {\n",
              "      display:flex;\n",
              "      gap: 12px;\n",
              "    }\n",
              "\n",
              "    .colab-df-convert {\n",
              "      background-color: #E8F0FE;\n",
              "      border: none;\n",
              "      border-radius: 50%;\n",
              "      cursor: pointer;\n",
              "      display: none;\n",
              "      fill: #1967D2;\n",
              "      height: 32px;\n",
              "      padding: 0 0 0 0;\n",
              "      width: 32px;\n",
              "    }\n",
              "\n",
              "    .colab-df-convert:hover {\n",
              "      background-color: #E2EBFA;\n",
              "      box-shadow: 0px 1px 2px rgba(60, 64, 67, 0.3), 0px 1px 3px 1px rgba(60, 64, 67, 0.15);\n",
              "      fill: #174EA6;\n",
              "    }\n",
              "\n",
              "    .colab-df-buttons div {\n",
              "      margin-bottom: 4px;\n",
              "    }\n",
              "\n",
              "    [theme=dark] .colab-df-convert {\n",
              "      background-color: #3B4455;\n",
              "      fill: #D2E3FC;\n",
              "    }\n",
              "\n",
              "    [theme=dark] .colab-df-convert:hover {\n",
              "      background-color: #434B5C;\n",
              "      box-shadow: 0px 1px 3px 1px rgba(0, 0, 0, 0.15);\n",
              "      filter: drop-shadow(0px 1px 2px rgba(0, 0, 0, 0.3));\n",
              "      fill: #FFFFFF;\n",
              "    }\n",
              "  </style>\n",
              "\n",
              "    <script>\n",
              "      const buttonEl =\n",
              "        document.querySelector('#df-203225a0-41c4-4bdb-8dcb-873ea8bbd406 button.colab-df-convert');\n",
              "      buttonEl.style.display =\n",
              "        google.colab.kernel.accessAllowed ? 'block' : 'none';\n",
              "\n",
              "      async function convertToInteractive(key) {\n",
              "        const element = document.querySelector('#df-203225a0-41c4-4bdb-8dcb-873ea8bbd406');\n",
              "        const dataTable =\n",
              "          await google.colab.kernel.invokeFunction('convertToInteractive',\n",
              "                                                    [key], {});\n",
              "        if (!dataTable) return;\n",
              "\n",
              "        const docLinkHtml = 'Like what you see? Visit the ' +\n",
              "          '<a target=\"_blank\" href=https://colab.research.google.com/notebooks/data_table.ipynb>data table notebook</a>'\n",
              "          + ' to learn more about interactive tables.';\n",
              "        element.innerHTML = '';\n",
              "        dataTable['output_type'] = 'display_data';\n",
              "        await google.colab.output.renderOutput(dataTable, element);\n",
              "        const docLink = document.createElement('div');\n",
              "        docLink.innerHTML = docLinkHtml;\n",
              "        element.appendChild(docLink);\n",
              "      }\n",
              "    </script>\n",
              "  </div>\n",
              "\n",
              "\n",
              "    <div id=\"df-48fe63d4-be67-4bde-9eb0-26550171c598\">\n",
              "      <button class=\"colab-df-quickchart\" onclick=\"quickchart('df-48fe63d4-be67-4bde-9eb0-26550171c598')\"\n",
              "                title=\"Suggest charts\"\n",
              "                style=\"display:none;\">\n",
              "\n",
              "<svg xmlns=\"http://www.w3.org/2000/svg\" height=\"24px\"viewBox=\"0 0 24 24\"\n",
              "     width=\"24px\">\n",
              "    <g>\n",
              "        <path d=\"M19 3H5c-1.1 0-2 .9-2 2v14c0 1.1.9 2 2 2h14c1.1 0 2-.9 2-2V5c0-1.1-.9-2-2-2zM9 17H7v-7h2v7zm4 0h-2V7h2v10zm4 0h-2v-4h2v4z\"/>\n",
              "    </g>\n",
              "</svg>\n",
              "      </button>\n",
              "\n",
              "<style>\n",
              "  .colab-df-quickchart {\n",
              "      --bg-color: #E8F0FE;\n",
              "      --fill-color: #1967D2;\n",
              "      --hover-bg-color: #E2EBFA;\n",
              "      --hover-fill-color: #174EA6;\n",
              "      --disabled-fill-color: #AAA;\n",
              "      --disabled-bg-color: #DDD;\n",
              "  }\n",
              "\n",
              "  [theme=dark] .colab-df-quickchart {\n",
              "      --bg-color: #3B4455;\n",
              "      --fill-color: #D2E3FC;\n",
              "      --hover-bg-color: #434B5C;\n",
              "      --hover-fill-color: #FFFFFF;\n",
              "      --disabled-bg-color: #3B4455;\n",
              "      --disabled-fill-color: #666;\n",
              "  }\n",
              "\n",
              "  .colab-df-quickchart {\n",
              "    background-color: var(--bg-color);\n",
              "    border: none;\n",
              "    border-radius: 50%;\n",
              "    cursor: pointer;\n",
              "    display: none;\n",
              "    fill: var(--fill-color);\n",
              "    height: 32px;\n",
              "    padding: 0;\n",
              "    width: 32px;\n",
              "  }\n",
              "\n",
              "  .colab-df-quickchart:hover {\n",
              "    background-color: var(--hover-bg-color);\n",
              "    box-shadow: 0 1px 2px rgba(60, 64, 67, 0.3), 0 1px 3px 1px rgba(60, 64, 67, 0.15);\n",
              "    fill: var(--button-hover-fill-color);\n",
              "  }\n",
              "\n",
              "  .colab-df-quickchart-complete:disabled,\n",
              "  .colab-df-quickchart-complete:disabled:hover {\n",
              "    background-color: var(--disabled-bg-color);\n",
              "    fill: var(--disabled-fill-color);\n",
              "    box-shadow: none;\n",
              "  }\n",
              "\n",
              "  .colab-df-spinner {\n",
              "    border: 2px solid var(--fill-color);\n",
              "    border-color: transparent;\n",
              "    border-bottom-color: var(--fill-color);\n",
              "    animation:\n",
              "      spin 1s steps(1) infinite;\n",
              "  }\n",
              "\n",
              "  @keyframes spin {\n",
              "    0% {\n",
              "      border-color: transparent;\n",
              "      border-bottom-color: var(--fill-color);\n",
              "      border-left-color: var(--fill-color);\n",
              "    }\n",
              "    20% {\n",
              "      border-color: transparent;\n",
              "      border-left-color: var(--fill-color);\n",
              "      border-top-color: var(--fill-color);\n",
              "    }\n",
              "    30% {\n",
              "      border-color: transparent;\n",
              "      border-left-color: var(--fill-color);\n",
              "      border-top-color: var(--fill-color);\n",
              "      border-right-color: var(--fill-color);\n",
              "    }\n",
              "    40% {\n",
              "      border-color: transparent;\n",
              "      border-right-color: var(--fill-color);\n",
              "      border-top-color: var(--fill-color);\n",
              "    }\n",
              "    60% {\n",
              "      border-color: transparent;\n",
              "      border-right-color: var(--fill-color);\n",
              "    }\n",
              "    80% {\n",
              "      border-color: transparent;\n",
              "      border-right-color: var(--fill-color);\n",
              "      border-bottom-color: var(--fill-color);\n",
              "    }\n",
              "    90% {\n",
              "      border-color: transparent;\n",
              "      border-bottom-color: var(--fill-color);\n",
              "    }\n",
              "  }\n",
              "</style>\n",
              "\n",
              "      <script>\n",
              "        async function quickchart(key) {\n",
              "          const quickchartButtonEl =\n",
              "            document.querySelector('#' + key + ' button');\n",
              "          quickchartButtonEl.disabled = true;  // To prevent multiple clicks.\n",
              "          quickchartButtonEl.classList.add('colab-df-spinner');\n",
              "          try {\n",
              "            const charts = await google.colab.kernel.invokeFunction(\n",
              "                'suggestCharts', [key], {});\n",
              "          } catch (error) {\n",
              "            console.error('Error during call to suggestCharts:', error);\n",
              "          }\n",
              "          quickchartButtonEl.classList.remove('colab-df-spinner');\n",
              "          quickchartButtonEl.classList.add('colab-df-quickchart-complete');\n",
              "        }\n",
              "        (() => {\n",
              "          let quickchartButtonEl =\n",
              "            document.querySelector('#df-48fe63d4-be67-4bde-9eb0-26550171c598 button');\n",
              "          quickchartButtonEl.style.display =\n",
              "            google.colab.kernel.accessAllowed ? 'block' : 'none';\n",
              "        })();\n",
              "      </script>\n",
              "    </div>\n",
              "\n",
              "  <div id=\"id_d3e714b0-ff20-4a25-9561-360d75e31b97\">\n",
              "    <style>\n",
              "      .colab-df-generate {\n",
              "        background-color: #E8F0FE;\n",
              "        border: none;\n",
              "        border-radius: 50%;\n",
              "        cursor: pointer;\n",
              "        display: none;\n",
              "        fill: #1967D2;\n",
              "        height: 32px;\n",
              "        padding: 0 0 0 0;\n",
              "        width: 32px;\n",
              "      }\n",
              "\n",
              "      .colab-df-generate:hover {\n",
              "        background-color: #E2EBFA;\n",
              "        box-shadow: 0px 1px 2px rgba(60, 64, 67, 0.3), 0px 1px 3px 1px rgba(60, 64, 67, 0.15);\n",
              "        fill: #174EA6;\n",
              "      }\n",
              "\n",
              "      [theme=dark] .colab-df-generate {\n",
              "        background-color: #3B4455;\n",
              "        fill: #D2E3FC;\n",
              "      }\n",
              "\n",
              "      [theme=dark] .colab-df-generate:hover {\n",
              "        background-color: #434B5C;\n",
              "        box-shadow: 0px 1px 3px 1px rgba(0, 0, 0, 0.15);\n",
              "        filter: drop-shadow(0px 1px 2px rgba(0, 0, 0, 0.3));\n",
              "        fill: #FFFFFF;\n",
              "      }\n",
              "    </style>\n",
              "    <button class=\"colab-df-generate\" onclick=\"generateWithVariable('df_performance')\"\n",
              "            title=\"Generate code using this dataframe.\"\n",
              "            style=\"display:none;\">\n",
              "\n",
              "  <svg xmlns=\"http://www.w3.org/2000/svg\" height=\"24px\"viewBox=\"0 0 24 24\"\n",
              "       width=\"24px\">\n",
              "    <path d=\"M7,19H8.4L18.45,9,17,7.55,7,17.6ZM5,21V16.75L18.45,3.32a2,2,0,0,1,2.83,0l1.4,1.43a1.91,1.91,0,0,1,.58,1.4,1.91,1.91,0,0,1-.58,1.4L9.25,21ZM18.45,9,17,7.55Zm-12,3A5.31,5.31,0,0,0,4.9,8.1,5.31,5.31,0,0,0,1,6.5,5.31,5.31,0,0,0,4.9,4.9,5.31,5.31,0,0,0,6.5,1,5.31,5.31,0,0,0,8.1,4.9,5.31,5.31,0,0,0,12,6.5,5.46,5.46,0,0,0,6.5,12Z\"/>\n",
              "  </svg>\n",
              "    </button>\n",
              "    <script>\n",
              "      (() => {\n",
              "      const buttonEl =\n",
              "        document.querySelector('#id_d3e714b0-ff20-4a25-9561-360d75e31b97 button.colab-df-generate');\n",
              "      buttonEl.style.display =\n",
              "        google.colab.kernel.accessAllowed ? 'block' : 'none';\n",
              "\n",
              "      buttonEl.onclick = () => {\n",
              "        google.colab.notebook.generateWithVariable('df_performance');\n",
              "      }\n",
              "      })();\n",
              "    </script>\n",
              "  </div>\n",
              "\n",
              "    </div>\n",
              "  </div>\n"
            ],
            "application/vnd.google.colaboratory.intrinsic+json": {
              "type": "dataframe",
              "variable_name": "df_performance",
              "summary": "{\n  \"name\": \"df_performance\",\n  \"rows\": 4,\n  \"fields\": [\n    {\n      \"column\": \"Accuracy\",\n      \"properties\": {\n        \"dtype\": \"number\",\n        \"std\": 0.004186945498047022,\n        \"min\": 0.7333766309386772,\n        \"max\": 0.7425085775701707,\n        \"num_unique_values\": 4,\n        \"samples\": [\n          0.7419656024271799,\n          0.7425085775701707,\n          0.7333766309386772\n        ],\n        \"semantic_type\": \"\",\n        \"description\": \"\"\n      }\n    }\n  ]\n}"
            }
          },
          "metadata": {},
          "execution_count": 10
        }
      ]
    },
    {
      "cell_type": "code",
      "execution_count": null,
      "metadata": {
        "colab": {
          "base_uri": "https://localhost:8080/",
          "height": 382
        },
        "id": "_TFY8fFPvgbI",
        "outputId": "46cd6402-215d-4248-829d-15db224aa589"
      },
      "outputs": [
        {
          "output_type": "display_data",
          "data": {
            "text/plain": [
              "<IPython.core.display.HTML object>"
            ],
            "text/html": [
              "\n",
              "    <style>\n",
              "        .styled-table {\n",
              "            border-collapse: collapse;\n",
              "            font-family: sans-serif;\n",
              "            font-size: 14px;\n",
              "        }\n",
              "        .styled-table tr:nth-child(even) {\n",
              "            background-color: #727272;\n",
              "        }\n",
              "        .styled-table th, .styled-table td {\n",
              "            padding: 8px 12px;\n",
              "            border: 1px solid #999;\n",
              "            text-align: left;\n",
              "        }\n",
              "    </style>\n",
              "    <table class=\"styled-table\">\n",
              "        <tr><th style=\"border: 1px solid #999;\"></th><th style=\"border: 1px solid #999;\">Accuracy</th></tr>\n",
              "        <tr><td style=\"border: 1px solid #999;\">AR(1)</td><td style=\"border: 1px solid #999;\">0.7334</td></tr><tr><td style=\"border: 1px solid #999;\">AR(2)</td><td style=\"border: 1px solid #999;\">0.742</td></tr><tr><td style=\"border: 1px solid #999;\">AR(3)</td><td style=\"border: 1px solid #999;\">0.7389</td></tr><tr><td style=\"border: 1px solid #999;\">AR(4)</td><td style=\"border: 1px solid #999;\">0.7425</td></tr>\n",
              "    </table>\n",
              "    "
            ]
          },
          "metadata": {}
        },
        {
          "output_type": "execute_result",
          "data": {
            "text/plain": [
              "<IPython.core.display.Markdown object>"
            ],
            "text/markdown": "**Interpretation**    \nConsidering that our current main objective is to improve an AR model, our results are rather untypical for an AR-process.    \nThe ACF of an AR process usually shows a cutoff, which we don't seem to have in this case. Typically, we'd expect an exponential    or a geometrical decrease of the correlation coefficients. Instead, we are presented a persistant, high correlation across all lags.    This might indicate that we are could be dealing with trend-based data.    \nThe PACF plot is what helps us determine which order might be the best fit for our AR model. The most notable cutoff is occurring    for a lag of $2$, however, the lags $3$ and $4$ might be a good fit for our model, too. Any other lag beyond $4$ doesn't seem to    be providing plenty of additional information.    \n\n---    \nAccuracy of $AR(3)\\colon73.89\\%$; Accuracy of $AR(4)\\colon74.25\\%$    \nThus, an AR(4) model seems to be the best choice, at least for now."
          },
          "metadata": {},
          "execution_count": 17
        }
      ],
      "source": [
        "display(df_to_table(df_performance, round_floats=4))\n",
        "\n",
        "md(\n",
        "    f\"**Interpretation**\\\n",
        "    \\nConsidering that our current main objective is to improve an AR model, our results are rather untypical for an AR-process.\\\n",
        "    \\nThe ACF of an AR process usually shows a cutoff, which we don't seem to have in this case. Typically, we'd expect an exponential\\\n",
        "    or a geometrical decrease of the correlation coefficients. Instead, we are presented a persistant, high correlation across all lags.\\\n",
        "    This might indicate that we are could be dealing with trend-based data.\\\n",
        "    \\nThe PACF plot is what helps us determine which order might be the best fit for our AR model. The most notable cutoff is occurring\\\n",
        "    for a lag of $2$, however, the lags $3$ and $4$ might be a good fit for our model, too. Any other lag beyond $4$ doesn't seem to\\\n",
        "    be providing plenty of additional information.\\\n",
        "    \\n\\n---\\\n",
        "    \\nAccuracy of $AR(3)\\colon{(acc_ar_3 * 100):.2f}\\%$; Accuracy of $AR(4)\\colon{(acc_ar_4 * 100):.2f}\\%$\\\n",
        "    \\nThus, an AR({ {acc_ar_3: 3, acc_ar_4: 4}[max(acc_ar_3, acc_ar_4)]}) model seems to be the best choice, at least for now.\"\n",
        ")"
      ]
    },
    {
      "cell_type": "markdown",
      "metadata": {
        "id": "YdFFouxc4lIx"
      },
      "source": [
        "## Trend and seasonalities\n",
        "\n",
        "First and foremost, we need to find out whether the data contains trend and seasonalities."
      ]
    },
    {
      "cell_type": "code",
      "execution_count": null,
      "metadata": {
        "id": "nudN-xGW4kLm"
      },
      "outputs": [],
      "source": [
        "otc = orders_tips.copy()\n",
        "otc.sort_values(\"order_date\", inplace=True)"
      ]
    },
    {
      "cell_type": "code",
      "execution_count": null,
      "metadata": {
        "id": "TH4OOsoZQQw8"
      },
      "outputs": [],
      "source": [
        "otc[\"date\"] = pd.to_datetime(otc.order_date.dt.date)  # Extraction of date from order_date\n",
        "\n",
        "otc[\"day_name\"] = otc.order_date.dt.day_name()        # Extraction of Dayname(Day of the week)\n",
        "otc.day_name = pd.Categorical(otc.day_name, categories=[\"Monday\", \"Tuesday\", \"Wednesday\", \"Thursday\", \"Friday\", \"Saturday\", \"Sunday\"], ordered=True)\n",
        "\n",
        "otc[\"calendar_week\"] = otc.order_date.dt.year.astype(str) + \"-W\" + otc.order_date.dt.isocalendar().week.astype(str).str.zfill(2)  # Extraction of week of the year in combination with year (YYYY-Www)\n",
        "otc[\"hour\"] = otc.order_date.dt.hour  # Extraction of hour of day"
      ]
    },
    {
      "cell_type": "markdown",
      "source": [
        "Bar plot with average tip rate per weekday"
      ],
      "metadata": {
        "id": "PKKKkPMNtc8S"
      }
    },
    {
      "cell_type": "code",
      "execution_count": null,
      "metadata": {
        "id": "v4nQp861RBPC",
        "colab": {
          "base_uri": "https://localhost:8080/",
          "height": 542
        },
        "outputId": "8645800c-3f38-4899-9daa-e84f0c10261f"
      },
      "outputs": [
        {
          "output_type": "display_data",
          "data": {
            "text/html": [
              "<html>\n",
              "<head><meta charset=\"utf-8\" /></head>\n",
              "<body>\n",
              "    <div>            <script src=\"https://cdnjs.cloudflare.com/ajax/libs/mathjax/2.7.5/MathJax.js?config=TeX-AMS-MML_SVG\"></script><script type=\"text/javascript\">if (window.MathJax && window.MathJax.Hub && window.MathJax.Hub.Config) {window.MathJax.Hub.Config({SVG: {font: \"STIX-Web\"}});}</script>                <script type=\"text/javascript\">window.PlotlyConfig = {MathJaxConfig: 'local'};</script>\n",
              "        <script charset=\"utf-8\" src=\"https://cdn.plot.ly/plotly-2.35.2.min.js\"></script>                <div id=\"96f0746c-d9ff-467c-ba76-03e9c4e6fef6\" class=\"plotly-graph-div\" style=\"height:525px; width:100%;\"></div>            <script type=\"text/javascript\">                                    window.PLOTLYENV=window.PLOTLYENV || {};                                    if (document.getElementById(\"96f0746c-d9ff-467c-ba76-03e9c4e6fef6\")) {                    Plotly.newPlot(                        \"96f0746c-d9ff-467c-ba76-03e9c4e6fef6\",                        [{\"alignmentgroup\":\"True\",\"hovertemplate\":\"Weekday=%{x}\\u003cbr\\u003eTip rate=%{y}\\u003cextra\\u003e\\u003c\\u002fextra\\u003e\",\"legendgroup\":\"\",\"marker\":{\"color\":\"#636efa\",\"pattern\":{\"shape\":\"\"}},\"name\":\"\",\"offsetgroup\":\"\",\"orientation\":\"v\",\"showlegend\":false,\"textposition\":\"auto\",\"x\":[\"Monday\",\"Tuesday\",\"Wednesday\",\"Thursday\",\"Friday\",\"Saturday\",\"Sunday\"],\"xaxis\":\"x\",\"y\":[0.4725396031176977,0.4671001542180271,0.4733382030679328,0.4787018255578093,0.47620770761715214,0.6339437450913399,0.6340134730902989],\"yaxis\":\"y\",\"type\":\"bar\"}],                        {\"template\":{\"data\":{\"barpolar\":[{\"marker\":{\"line\":{\"color\":\"rgb(17,17,17)\",\"width\":0.5},\"pattern\":{\"fillmode\":\"overlay\",\"size\":10,\"solidity\":0.2}},\"type\":\"barpolar\"}],\"bar\":[{\"error_x\":{\"color\":\"#f2f5fa\"},\"error_y\":{\"color\":\"#f2f5fa\"},\"marker\":{\"line\":{\"color\":\"rgb(17,17,17)\",\"width\":0.5},\"pattern\":{\"fillmode\":\"overlay\",\"size\":10,\"solidity\":0.2}},\"type\":\"bar\"}],\"carpet\":[{\"aaxis\":{\"endlinecolor\":\"#A2B1C6\",\"gridcolor\":\"#506784\",\"linecolor\":\"#506784\",\"minorgridcolor\":\"#506784\",\"startlinecolor\":\"#A2B1C6\"},\"baxis\":{\"endlinecolor\":\"#A2B1C6\",\"gridcolor\":\"#506784\",\"linecolor\":\"#506784\",\"minorgridcolor\":\"#506784\",\"startlinecolor\":\"#A2B1C6\"},\"type\":\"carpet\"}],\"choropleth\":[{\"colorbar\":{\"outlinewidth\":0,\"ticks\":\"\"},\"type\":\"choropleth\"}],\"contourcarpet\":[{\"colorbar\":{\"outlinewidth\":0,\"ticks\":\"\"},\"type\":\"contourcarpet\"}],\"contour\":[{\"colorbar\":{\"outlinewidth\":0,\"ticks\":\"\"},\"colorscale\":[[0.0,\"#0d0887\"],[0.1111111111111111,\"#46039f\"],[0.2222222222222222,\"#7201a8\"],[0.3333333333333333,\"#9c179e\"],[0.4444444444444444,\"#bd3786\"],[0.5555555555555556,\"#d8576b\"],[0.6666666666666666,\"#ed7953\"],[0.7777777777777778,\"#fb9f3a\"],[0.8888888888888888,\"#fdca26\"],[1.0,\"#f0f921\"]],\"type\":\"contour\"}],\"heatmapgl\":[{\"colorbar\":{\"outlinewidth\":0,\"ticks\":\"\"},\"colorscale\":[[0.0,\"#0d0887\"],[0.1111111111111111,\"#46039f\"],[0.2222222222222222,\"#7201a8\"],[0.3333333333333333,\"#9c179e\"],[0.4444444444444444,\"#bd3786\"],[0.5555555555555556,\"#d8576b\"],[0.6666666666666666,\"#ed7953\"],[0.7777777777777778,\"#fb9f3a\"],[0.8888888888888888,\"#fdca26\"],[1.0,\"#f0f921\"]],\"type\":\"heatmapgl\"}],\"heatmap\":[{\"colorbar\":{\"outlinewidth\":0,\"ticks\":\"\"},\"colorscale\":[[0.0,\"#0d0887\"],[0.1111111111111111,\"#46039f\"],[0.2222222222222222,\"#7201a8\"],[0.3333333333333333,\"#9c179e\"],[0.4444444444444444,\"#bd3786\"],[0.5555555555555556,\"#d8576b\"],[0.6666666666666666,\"#ed7953\"],[0.7777777777777778,\"#fb9f3a\"],[0.8888888888888888,\"#fdca26\"],[1.0,\"#f0f921\"]],\"type\":\"heatmap\"}],\"histogram2dcontour\":[{\"colorbar\":{\"outlinewidth\":0,\"ticks\":\"\"},\"colorscale\":[[0.0,\"#0d0887\"],[0.1111111111111111,\"#46039f\"],[0.2222222222222222,\"#7201a8\"],[0.3333333333333333,\"#9c179e\"],[0.4444444444444444,\"#bd3786\"],[0.5555555555555556,\"#d8576b\"],[0.6666666666666666,\"#ed7953\"],[0.7777777777777778,\"#fb9f3a\"],[0.8888888888888888,\"#fdca26\"],[1.0,\"#f0f921\"]],\"type\":\"histogram2dcontour\"}],\"histogram2d\":[{\"colorbar\":{\"outlinewidth\":0,\"ticks\":\"\"},\"colorscale\":[[0.0,\"#0d0887\"],[0.1111111111111111,\"#46039f\"],[0.2222222222222222,\"#7201a8\"],[0.3333333333333333,\"#9c179e\"],[0.4444444444444444,\"#bd3786\"],[0.5555555555555556,\"#d8576b\"],[0.6666666666666666,\"#ed7953\"],[0.7777777777777778,\"#fb9f3a\"],[0.8888888888888888,\"#fdca26\"],[1.0,\"#f0f921\"]],\"type\":\"histogram2d\"}],\"histogram\":[{\"marker\":{\"pattern\":{\"fillmode\":\"overlay\",\"size\":10,\"solidity\":0.2}},\"type\":\"histogram\"}],\"mesh3d\":[{\"colorbar\":{\"outlinewidth\":0,\"ticks\":\"\"},\"type\":\"mesh3d\"}],\"parcoords\":[{\"line\":{\"colorbar\":{\"outlinewidth\":0,\"ticks\":\"\"}},\"type\":\"parcoords\"}],\"pie\":[{\"automargin\":true,\"type\":\"pie\"}],\"scatter3d\":[{\"line\":{\"colorbar\":{\"outlinewidth\":0,\"ticks\":\"\"}},\"marker\":{\"colorbar\":{\"outlinewidth\":0,\"ticks\":\"\"}},\"type\":\"scatter3d\"}],\"scattercarpet\":[{\"marker\":{\"colorbar\":{\"outlinewidth\":0,\"ticks\":\"\"}},\"type\":\"scattercarpet\"}],\"scattergeo\":[{\"marker\":{\"colorbar\":{\"outlinewidth\":0,\"ticks\":\"\"}},\"type\":\"scattergeo\"}],\"scattergl\":[{\"marker\":{\"line\":{\"color\":\"#283442\"}},\"type\":\"scattergl\"}],\"scattermapbox\":[{\"marker\":{\"colorbar\":{\"outlinewidth\":0,\"ticks\":\"\"}},\"type\":\"scattermapbox\"}],\"scatterpolargl\":[{\"marker\":{\"colorbar\":{\"outlinewidth\":0,\"ticks\":\"\"}},\"type\":\"scatterpolargl\"}],\"scatterpolar\":[{\"marker\":{\"colorbar\":{\"outlinewidth\":0,\"ticks\":\"\"}},\"type\":\"scatterpolar\"}],\"scatter\":[{\"marker\":{\"line\":{\"color\":\"#283442\"}},\"type\":\"scatter\"}],\"scatterternary\":[{\"marker\":{\"colorbar\":{\"outlinewidth\":0,\"ticks\":\"\"}},\"type\":\"scatterternary\"}],\"surface\":[{\"colorbar\":{\"outlinewidth\":0,\"ticks\":\"\"},\"colorscale\":[[0.0,\"#0d0887\"],[0.1111111111111111,\"#46039f\"],[0.2222222222222222,\"#7201a8\"],[0.3333333333333333,\"#9c179e\"],[0.4444444444444444,\"#bd3786\"],[0.5555555555555556,\"#d8576b\"],[0.6666666666666666,\"#ed7953\"],[0.7777777777777778,\"#fb9f3a\"],[0.8888888888888888,\"#fdca26\"],[1.0,\"#f0f921\"]],\"type\":\"surface\"}],\"table\":[{\"cells\":{\"fill\":{\"color\":\"#506784\"},\"line\":{\"color\":\"rgb(17,17,17)\"}},\"header\":{\"fill\":{\"color\":\"#2a3f5f\"},\"line\":{\"color\":\"rgb(17,17,17)\"}},\"type\":\"table\"}]},\"layout\":{\"annotationdefaults\":{\"arrowcolor\":\"#f2f5fa\",\"arrowhead\":0,\"arrowwidth\":1},\"autotypenumbers\":\"strict\",\"coloraxis\":{\"colorbar\":{\"outlinewidth\":0,\"ticks\":\"\"}},\"colorscale\":{\"diverging\":[[0,\"#8e0152\"],[0.1,\"#c51b7d\"],[0.2,\"#de77ae\"],[0.3,\"#f1b6da\"],[0.4,\"#fde0ef\"],[0.5,\"#f7f7f7\"],[0.6,\"#e6f5d0\"],[0.7,\"#b8e186\"],[0.8,\"#7fbc41\"],[0.9,\"#4d9221\"],[1,\"#276419\"]],\"sequential\":[[0.0,\"#0d0887\"],[0.1111111111111111,\"#46039f\"],[0.2222222222222222,\"#7201a8\"],[0.3333333333333333,\"#9c179e\"],[0.4444444444444444,\"#bd3786\"],[0.5555555555555556,\"#d8576b\"],[0.6666666666666666,\"#ed7953\"],[0.7777777777777778,\"#fb9f3a\"],[0.8888888888888888,\"#fdca26\"],[1.0,\"#f0f921\"]],\"sequentialminus\":[[0.0,\"#0d0887\"],[0.1111111111111111,\"#46039f\"],[0.2222222222222222,\"#7201a8\"],[0.3333333333333333,\"#9c179e\"],[0.4444444444444444,\"#bd3786\"],[0.5555555555555556,\"#d8576b\"],[0.6666666666666666,\"#ed7953\"],[0.7777777777777778,\"#fb9f3a\"],[0.8888888888888888,\"#fdca26\"],[1.0,\"#f0f921\"]]},\"colorway\":[\"#636efa\",\"#EF553B\",\"#00cc96\",\"#ab63fa\",\"#FFA15A\",\"#19d3f3\",\"#FF6692\",\"#B6E880\",\"#FF97FF\",\"#FECB52\"],\"font\":{\"color\":\"#f2f5fa\"},\"geo\":{\"bgcolor\":\"rgb(17,17,17)\",\"lakecolor\":\"rgb(17,17,17)\",\"landcolor\":\"rgb(17,17,17)\",\"showlakes\":true,\"showland\":true,\"subunitcolor\":\"#506784\"},\"hoverlabel\":{\"align\":\"left\"},\"hovermode\":\"closest\",\"mapbox\":{\"style\":\"dark\"},\"paper_bgcolor\":\"rgb(17,17,17)\",\"plot_bgcolor\":\"rgb(17,17,17)\",\"polar\":{\"angularaxis\":{\"gridcolor\":\"#506784\",\"linecolor\":\"#506784\",\"ticks\":\"\"},\"bgcolor\":\"rgb(17,17,17)\",\"radialaxis\":{\"gridcolor\":\"#506784\",\"linecolor\":\"#506784\",\"ticks\":\"\"}},\"scene\":{\"xaxis\":{\"backgroundcolor\":\"rgb(17,17,17)\",\"gridcolor\":\"#506784\",\"gridwidth\":2,\"linecolor\":\"#506784\",\"showbackground\":true,\"ticks\":\"\",\"zerolinecolor\":\"#C8D4E3\"},\"yaxis\":{\"backgroundcolor\":\"rgb(17,17,17)\",\"gridcolor\":\"#506784\",\"gridwidth\":2,\"linecolor\":\"#506784\",\"showbackground\":true,\"ticks\":\"\",\"zerolinecolor\":\"#C8D4E3\"},\"zaxis\":{\"backgroundcolor\":\"rgb(17,17,17)\",\"gridcolor\":\"#506784\",\"gridwidth\":2,\"linecolor\":\"#506784\",\"showbackground\":true,\"ticks\":\"\",\"zerolinecolor\":\"#C8D4E3\"}},\"shapedefaults\":{\"line\":{\"color\":\"#f2f5fa\"}},\"sliderdefaults\":{\"bgcolor\":\"#C8D4E3\",\"bordercolor\":\"rgb(17,17,17)\",\"borderwidth\":1,\"tickwidth\":0},\"ternary\":{\"aaxis\":{\"gridcolor\":\"#506784\",\"linecolor\":\"#506784\",\"ticks\":\"\"},\"baxis\":{\"gridcolor\":\"#506784\",\"linecolor\":\"#506784\",\"ticks\":\"\"},\"bgcolor\":\"rgb(17,17,17)\",\"caxis\":{\"gridcolor\":\"#506784\",\"linecolor\":\"#506784\",\"ticks\":\"\"}},\"title\":{\"x\":0.05},\"updatemenudefaults\":{\"bgcolor\":\"#506784\",\"borderwidth\":0},\"xaxis\":{\"automargin\":true,\"gridcolor\":\"#283442\",\"linecolor\":\"#506784\",\"ticks\":\"\",\"title\":{\"standoff\":15},\"zerolinecolor\":\"#283442\",\"zerolinewidth\":2},\"yaxis\":{\"automargin\":true,\"gridcolor\":\"#283442\",\"linecolor\":\"#506784\",\"ticks\":\"\",\"title\":{\"standoff\":15},\"zerolinecolor\":\"#283442\",\"zerolinewidth\":2}}},\"xaxis\":{\"anchor\":\"y\",\"domain\":[0.0,1.0],\"title\":{\"text\":\"Weekday\"}},\"yaxis\":{\"anchor\":\"x\",\"domain\":[0.0,1.0],\"title\":{\"text\":\"Tip rate\"}},\"legend\":{\"tracegroupgap\":0},\"title\":{\"text\":\"Tip rate per weekday\"},\"barmode\":\"relative\"},                        {\"responsive\": true}                    ).then(function(){\n",
              "                            \n",
              "var gd = document.getElementById('96f0746c-d9ff-467c-ba76-03e9c4e6fef6');\n",
              "var x = new MutationObserver(function (mutations, observer) {{\n",
              "        var display = window.getComputedStyle(gd).display;\n",
              "        if (!display || display === 'none') {{\n",
              "            console.log([gd, 'removed!']);\n",
              "            Plotly.purge(gd);\n",
              "            observer.disconnect();\n",
              "        }}\n",
              "}});\n",
              "\n",
              "// Listen for the removal of the full notebook cells\n",
              "var notebookContainer = gd.closest('#notebook-container');\n",
              "if (notebookContainer) {{\n",
              "    x.observe(notebookContainer, {childList: true});\n",
              "}}\n",
              "\n",
              "// Listen for the clearing of the current output cell\n",
              "var outputEl = gd.closest('.output');\n",
              "if (outputEl) {{\n",
              "    x.observe(outputEl, {childList: true});\n",
              "}}\n",
              "\n",
              "                        })                };                            </script>        </div>\n",
              "</body>\n",
              "</html>"
            ]
          },
          "metadata": {}
        }
      ],
      "source": [
        "px.bar(\n",
        "    otc.groupby(\"day_name\", observed=False).tip.mean(),\n",
        "    y=\"tip\",\n",
        "    labels={\"day_name\": \"Weekday\", \"tip\": \"Tip rate\"},\n",
        "    title=\"Tip rate per weekday\",\n",
        "    template=\"plotly_dark\"\n",
        ")"
      ]
    },
    {
      "cell_type": "markdown",
      "source": [
        "Bar plot with average tip rate per hour of day"
      ],
      "metadata": {
        "id": "0hlMiQOLuK4N"
      }
    },
    {
      "cell_type": "code",
      "source": [
        "px.bar(\n",
        "    otc.groupby(\"hour\").tip.mean(),\n",
        "    y=\"tip\",\n",
        "    labels={\"hour\": \"Hour\", \"tip\": \"Tip rate\"},\n",
        "    title=\"Tip rate per hour\",\n",
        "    template=\"plotly_dark\"\n",
        ")"
      ],
      "metadata": {
        "colab": {
          "base_uri": "https://localhost:8080/",
          "height": 542
        },
        "id": "N0gs6_x2Xppu",
        "outputId": "2443fdf9-e333-4631-d043-7dedf592d9ec"
      },
      "execution_count": null,
      "outputs": [
        {
          "output_type": "display_data",
          "data": {
            "text/html": [
              "<html>\n",
              "<head><meta charset=\"utf-8\" /></head>\n",
              "<body>\n",
              "    <div>            <script src=\"https://cdnjs.cloudflare.com/ajax/libs/mathjax/2.7.5/MathJax.js?config=TeX-AMS-MML_SVG\"></script><script type=\"text/javascript\">if (window.MathJax && window.MathJax.Hub && window.MathJax.Hub.Config) {window.MathJax.Hub.Config({SVG: {font: \"STIX-Web\"}});}</script>                <script type=\"text/javascript\">window.PlotlyConfig = {MathJaxConfig: 'local'};</script>\n",
              "        <script charset=\"utf-8\" src=\"https://cdn.plot.ly/plotly-2.35.2.min.js\"></script>                <div id=\"99be011b-ca55-4ab3-ba36-e8fd5d1cc76d\" class=\"plotly-graph-div\" style=\"height:525px; width:100%;\"></div>            <script type=\"text/javascript\">                                    window.PLOTLYENV=window.PLOTLYENV || {};                                    if (document.getElementById(\"99be011b-ca55-4ab3-ba36-e8fd5d1cc76d\")) {                    Plotly.newPlot(                        \"99be011b-ca55-4ab3-ba36-e8fd5d1cc76d\",                        [{\"alignmentgroup\":\"True\",\"hovertemplate\":\"Hour=%{x}\\u003cbr\\u003eTip rate=%{y}\\u003cextra\\u003e\\u003c\\u002fextra\\u003e\",\"legendgroup\":\"\",\"marker\":{\"color\":\"#636efa\",\"pattern\":{\"shape\":\"\"}},\"name\":\"\",\"offsetgroup\":\"\",\"orientation\":\"v\",\"showlegend\":false,\"textposition\":\"auto\",\"x\":[0,1,2,3,4,5,6,7,8,9,10,11,12,13,14,15,16,17,18,19,20,21,22,23],\"xaxis\":\"x\",\"y\":[0.633373934226553,0.6197598483252581,0.618999323867478,0.5846153846153846,0.6064204045734388,0.5017283950617284,0.504623225336731,0.5202979605612073,0.5360601332441737,0.5358626108429678,0.52547446134093,0.5125509619596348,0.5029186477683848,0.5013778035403754,0.502995700288997,0.4990584138715179,0.4979816513761468,0.49166781277220006,0.49045294355537583,0.6304698036864979,0.6448539821947064,0.6587963244690561,0.6560719757985306,0.6387421539991299],\"yaxis\":\"y\",\"type\":\"bar\"}],                        {\"template\":{\"data\":{\"barpolar\":[{\"marker\":{\"line\":{\"color\":\"rgb(17,17,17)\",\"width\":0.5},\"pattern\":{\"fillmode\":\"overlay\",\"size\":10,\"solidity\":0.2}},\"type\":\"barpolar\"}],\"bar\":[{\"error_x\":{\"color\":\"#f2f5fa\"},\"error_y\":{\"color\":\"#f2f5fa\"},\"marker\":{\"line\":{\"color\":\"rgb(17,17,17)\",\"width\":0.5},\"pattern\":{\"fillmode\":\"overlay\",\"size\":10,\"solidity\":0.2}},\"type\":\"bar\"}],\"carpet\":[{\"aaxis\":{\"endlinecolor\":\"#A2B1C6\",\"gridcolor\":\"#506784\",\"linecolor\":\"#506784\",\"minorgridcolor\":\"#506784\",\"startlinecolor\":\"#A2B1C6\"},\"baxis\":{\"endlinecolor\":\"#A2B1C6\",\"gridcolor\":\"#506784\",\"linecolor\":\"#506784\",\"minorgridcolor\":\"#506784\",\"startlinecolor\":\"#A2B1C6\"},\"type\":\"carpet\"}],\"choropleth\":[{\"colorbar\":{\"outlinewidth\":0,\"ticks\":\"\"},\"type\":\"choropleth\"}],\"contourcarpet\":[{\"colorbar\":{\"outlinewidth\":0,\"ticks\":\"\"},\"type\":\"contourcarpet\"}],\"contour\":[{\"colorbar\":{\"outlinewidth\":0,\"ticks\":\"\"},\"colorscale\":[[0.0,\"#0d0887\"],[0.1111111111111111,\"#46039f\"],[0.2222222222222222,\"#7201a8\"],[0.3333333333333333,\"#9c179e\"],[0.4444444444444444,\"#bd3786\"],[0.5555555555555556,\"#d8576b\"],[0.6666666666666666,\"#ed7953\"],[0.7777777777777778,\"#fb9f3a\"],[0.8888888888888888,\"#fdca26\"],[1.0,\"#f0f921\"]],\"type\":\"contour\"}],\"heatmapgl\":[{\"colorbar\":{\"outlinewidth\":0,\"ticks\":\"\"},\"colorscale\":[[0.0,\"#0d0887\"],[0.1111111111111111,\"#46039f\"],[0.2222222222222222,\"#7201a8\"],[0.3333333333333333,\"#9c179e\"],[0.4444444444444444,\"#bd3786\"],[0.5555555555555556,\"#d8576b\"],[0.6666666666666666,\"#ed7953\"],[0.7777777777777778,\"#fb9f3a\"],[0.8888888888888888,\"#fdca26\"],[1.0,\"#f0f921\"]],\"type\":\"heatmapgl\"}],\"heatmap\":[{\"colorbar\":{\"outlinewidth\":0,\"ticks\":\"\"},\"colorscale\":[[0.0,\"#0d0887\"],[0.1111111111111111,\"#46039f\"],[0.2222222222222222,\"#7201a8\"],[0.3333333333333333,\"#9c179e\"],[0.4444444444444444,\"#bd3786\"],[0.5555555555555556,\"#d8576b\"],[0.6666666666666666,\"#ed7953\"],[0.7777777777777778,\"#fb9f3a\"],[0.8888888888888888,\"#fdca26\"],[1.0,\"#f0f921\"]],\"type\":\"heatmap\"}],\"histogram2dcontour\":[{\"colorbar\":{\"outlinewidth\":0,\"ticks\":\"\"},\"colorscale\":[[0.0,\"#0d0887\"],[0.1111111111111111,\"#46039f\"],[0.2222222222222222,\"#7201a8\"],[0.3333333333333333,\"#9c179e\"],[0.4444444444444444,\"#bd3786\"],[0.5555555555555556,\"#d8576b\"],[0.6666666666666666,\"#ed7953\"],[0.7777777777777778,\"#fb9f3a\"],[0.8888888888888888,\"#fdca26\"],[1.0,\"#f0f921\"]],\"type\":\"histogram2dcontour\"}],\"histogram2d\":[{\"colorbar\":{\"outlinewidth\":0,\"ticks\":\"\"},\"colorscale\":[[0.0,\"#0d0887\"],[0.1111111111111111,\"#46039f\"],[0.2222222222222222,\"#7201a8\"],[0.3333333333333333,\"#9c179e\"],[0.4444444444444444,\"#bd3786\"],[0.5555555555555556,\"#d8576b\"],[0.6666666666666666,\"#ed7953\"],[0.7777777777777778,\"#fb9f3a\"],[0.8888888888888888,\"#fdca26\"],[1.0,\"#f0f921\"]],\"type\":\"histogram2d\"}],\"histogram\":[{\"marker\":{\"pattern\":{\"fillmode\":\"overlay\",\"size\":10,\"solidity\":0.2}},\"type\":\"histogram\"}],\"mesh3d\":[{\"colorbar\":{\"outlinewidth\":0,\"ticks\":\"\"},\"type\":\"mesh3d\"}],\"parcoords\":[{\"line\":{\"colorbar\":{\"outlinewidth\":0,\"ticks\":\"\"}},\"type\":\"parcoords\"}],\"pie\":[{\"automargin\":true,\"type\":\"pie\"}],\"scatter3d\":[{\"line\":{\"colorbar\":{\"outlinewidth\":0,\"ticks\":\"\"}},\"marker\":{\"colorbar\":{\"outlinewidth\":0,\"ticks\":\"\"}},\"type\":\"scatter3d\"}],\"scattercarpet\":[{\"marker\":{\"colorbar\":{\"outlinewidth\":0,\"ticks\":\"\"}},\"type\":\"scattercarpet\"}],\"scattergeo\":[{\"marker\":{\"colorbar\":{\"outlinewidth\":0,\"ticks\":\"\"}},\"type\":\"scattergeo\"}],\"scattergl\":[{\"marker\":{\"line\":{\"color\":\"#283442\"}},\"type\":\"scattergl\"}],\"scattermapbox\":[{\"marker\":{\"colorbar\":{\"outlinewidth\":0,\"ticks\":\"\"}},\"type\":\"scattermapbox\"}],\"scatterpolargl\":[{\"marker\":{\"colorbar\":{\"outlinewidth\":0,\"ticks\":\"\"}},\"type\":\"scatterpolargl\"}],\"scatterpolar\":[{\"marker\":{\"colorbar\":{\"outlinewidth\":0,\"ticks\":\"\"}},\"type\":\"scatterpolar\"}],\"scatter\":[{\"marker\":{\"line\":{\"color\":\"#283442\"}},\"type\":\"scatter\"}],\"scatterternary\":[{\"marker\":{\"colorbar\":{\"outlinewidth\":0,\"ticks\":\"\"}},\"type\":\"scatterternary\"}],\"surface\":[{\"colorbar\":{\"outlinewidth\":0,\"ticks\":\"\"},\"colorscale\":[[0.0,\"#0d0887\"],[0.1111111111111111,\"#46039f\"],[0.2222222222222222,\"#7201a8\"],[0.3333333333333333,\"#9c179e\"],[0.4444444444444444,\"#bd3786\"],[0.5555555555555556,\"#d8576b\"],[0.6666666666666666,\"#ed7953\"],[0.7777777777777778,\"#fb9f3a\"],[0.8888888888888888,\"#fdca26\"],[1.0,\"#f0f921\"]],\"type\":\"surface\"}],\"table\":[{\"cells\":{\"fill\":{\"color\":\"#506784\"},\"line\":{\"color\":\"rgb(17,17,17)\"}},\"header\":{\"fill\":{\"color\":\"#2a3f5f\"},\"line\":{\"color\":\"rgb(17,17,17)\"}},\"type\":\"table\"}]},\"layout\":{\"annotationdefaults\":{\"arrowcolor\":\"#f2f5fa\",\"arrowhead\":0,\"arrowwidth\":1},\"autotypenumbers\":\"strict\",\"coloraxis\":{\"colorbar\":{\"outlinewidth\":0,\"ticks\":\"\"}},\"colorscale\":{\"diverging\":[[0,\"#8e0152\"],[0.1,\"#c51b7d\"],[0.2,\"#de77ae\"],[0.3,\"#f1b6da\"],[0.4,\"#fde0ef\"],[0.5,\"#f7f7f7\"],[0.6,\"#e6f5d0\"],[0.7,\"#b8e186\"],[0.8,\"#7fbc41\"],[0.9,\"#4d9221\"],[1,\"#276419\"]],\"sequential\":[[0.0,\"#0d0887\"],[0.1111111111111111,\"#46039f\"],[0.2222222222222222,\"#7201a8\"],[0.3333333333333333,\"#9c179e\"],[0.4444444444444444,\"#bd3786\"],[0.5555555555555556,\"#d8576b\"],[0.6666666666666666,\"#ed7953\"],[0.7777777777777778,\"#fb9f3a\"],[0.8888888888888888,\"#fdca26\"],[1.0,\"#f0f921\"]],\"sequentialminus\":[[0.0,\"#0d0887\"],[0.1111111111111111,\"#46039f\"],[0.2222222222222222,\"#7201a8\"],[0.3333333333333333,\"#9c179e\"],[0.4444444444444444,\"#bd3786\"],[0.5555555555555556,\"#d8576b\"],[0.6666666666666666,\"#ed7953\"],[0.7777777777777778,\"#fb9f3a\"],[0.8888888888888888,\"#fdca26\"],[1.0,\"#f0f921\"]]},\"colorway\":[\"#636efa\",\"#EF553B\",\"#00cc96\",\"#ab63fa\",\"#FFA15A\",\"#19d3f3\",\"#FF6692\",\"#B6E880\",\"#FF97FF\",\"#FECB52\"],\"font\":{\"color\":\"#f2f5fa\"},\"geo\":{\"bgcolor\":\"rgb(17,17,17)\",\"lakecolor\":\"rgb(17,17,17)\",\"landcolor\":\"rgb(17,17,17)\",\"showlakes\":true,\"showland\":true,\"subunitcolor\":\"#506784\"},\"hoverlabel\":{\"align\":\"left\"},\"hovermode\":\"closest\",\"mapbox\":{\"style\":\"dark\"},\"paper_bgcolor\":\"rgb(17,17,17)\",\"plot_bgcolor\":\"rgb(17,17,17)\",\"polar\":{\"angularaxis\":{\"gridcolor\":\"#506784\",\"linecolor\":\"#506784\",\"ticks\":\"\"},\"bgcolor\":\"rgb(17,17,17)\",\"radialaxis\":{\"gridcolor\":\"#506784\",\"linecolor\":\"#506784\",\"ticks\":\"\"}},\"scene\":{\"xaxis\":{\"backgroundcolor\":\"rgb(17,17,17)\",\"gridcolor\":\"#506784\",\"gridwidth\":2,\"linecolor\":\"#506784\",\"showbackground\":true,\"ticks\":\"\",\"zerolinecolor\":\"#C8D4E3\"},\"yaxis\":{\"backgroundcolor\":\"rgb(17,17,17)\",\"gridcolor\":\"#506784\",\"gridwidth\":2,\"linecolor\":\"#506784\",\"showbackground\":true,\"ticks\":\"\",\"zerolinecolor\":\"#C8D4E3\"},\"zaxis\":{\"backgroundcolor\":\"rgb(17,17,17)\",\"gridcolor\":\"#506784\",\"gridwidth\":2,\"linecolor\":\"#506784\",\"showbackground\":true,\"ticks\":\"\",\"zerolinecolor\":\"#C8D4E3\"}},\"shapedefaults\":{\"line\":{\"color\":\"#f2f5fa\"}},\"sliderdefaults\":{\"bgcolor\":\"#C8D4E3\",\"bordercolor\":\"rgb(17,17,17)\",\"borderwidth\":1,\"tickwidth\":0},\"ternary\":{\"aaxis\":{\"gridcolor\":\"#506784\",\"linecolor\":\"#506784\",\"ticks\":\"\"},\"baxis\":{\"gridcolor\":\"#506784\",\"linecolor\":\"#506784\",\"ticks\":\"\"},\"bgcolor\":\"rgb(17,17,17)\",\"caxis\":{\"gridcolor\":\"#506784\",\"linecolor\":\"#506784\",\"ticks\":\"\"}},\"title\":{\"x\":0.05},\"updatemenudefaults\":{\"bgcolor\":\"#506784\",\"borderwidth\":0},\"xaxis\":{\"automargin\":true,\"gridcolor\":\"#283442\",\"linecolor\":\"#506784\",\"ticks\":\"\",\"title\":{\"standoff\":15},\"zerolinecolor\":\"#283442\",\"zerolinewidth\":2},\"yaxis\":{\"automargin\":true,\"gridcolor\":\"#283442\",\"linecolor\":\"#506784\",\"ticks\":\"\",\"title\":{\"standoff\":15},\"zerolinecolor\":\"#283442\",\"zerolinewidth\":2}}},\"xaxis\":{\"anchor\":\"y\",\"domain\":[0.0,1.0],\"title\":{\"text\":\"Hour\"}},\"yaxis\":{\"anchor\":\"x\",\"domain\":[0.0,1.0],\"title\":{\"text\":\"Tip rate\"}},\"legend\":{\"tracegroupgap\":0},\"title\":{\"text\":\"Tip rate per hour\"},\"barmode\":\"relative\"},                        {\"responsive\": true}                    ).then(function(){\n",
              "                            \n",
              "var gd = document.getElementById('99be011b-ca55-4ab3-ba36-e8fd5d1cc76d');\n",
              "var x = new MutationObserver(function (mutations, observer) {{\n",
              "        var display = window.getComputedStyle(gd).display;\n",
              "        if (!display || display === 'none') {{\n",
              "            console.log([gd, 'removed!']);\n",
              "            Plotly.purge(gd);\n",
              "            observer.disconnect();\n",
              "        }}\n",
              "}});\n",
              "\n",
              "// Listen for the removal of the full notebook cells\n",
              "var notebookContainer = gd.closest('#notebook-container');\n",
              "if (notebookContainer) {{\n",
              "    x.observe(notebookContainer, {childList: true});\n",
              "}}\n",
              "\n",
              "// Listen for the clearing of the current output cell\n",
              "var outputEl = gd.closest('.output');\n",
              "if (outputEl) {{\n",
              "    x.observe(outputEl, {childList: true});\n",
              "}}\n",
              "\n",
              "                        })                };                            </script>        </div>\n",
              "</body>\n",
              "</html>"
            ]
          },
          "metadata": {}
        }
      ]
    },
    {
      "cell_type": "markdown",
      "source": [
        "Time Series plot with average tip rate trend over time"
      ],
      "metadata": {
        "id": "Jph6twUVuoJ-"
      }
    },
    {
      "cell_type": "code",
      "source": [
        "px.line(\n",
        "    #Group by date, calculate the average tip per day and assign the corresponding weekday to each date\n",
        "    otc.groupby(\"date\", as_index=False).tip.mean().assign(day_name=pd.to_datetime(otc.date.drop_duplicates()).dt.day_name().values),\n",
        "    x=\"date\",\n",
        "    y=\"tip\",\n",
        "    labels={\"date\": \"Date\", \"tip\": \"Tip rate\"},\n",
        "    hover_data={\"day_name\": True},\n",
        "    template=\"plotly_dark\",\n",
        "    title=\"Tip rate over time\"\n",
        ")"
      ],
      "metadata": {
        "colab": {
          "base_uri": "https://localhost:8080/",
          "height": 542
        },
        "id": "1jdfWyhd1Hh_",
        "outputId": "e03c346c-23a2-4186-a204-4af92b878360"
      },
      "execution_count": null,
      "outputs": [
        {
          "output_type": "display_data",
          "data": {
            "text/html": [
              "<html>\n",
              "<head><meta charset=\"utf-8\" /></head>\n",
              "<body>\n",
              "    <div>            <script src=\"https://cdnjs.cloudflare.com/ajax/libs/mathjax/2.7.5/MathJax.js?config=TeX-AMS-MML_SVG\"></script><script type=\"text/javascript\">if (window.MathJax && window.MathJax.Hub && window.MathJax.Hub.Config) {window.MathJax.Hub.Config({SVG: {font: \"STIX-Web\"}});}</script>                <script type=\"text/javascript\">window.PlotlyConfig = {MathJaxConfig: 'local'};</script>\n",
              "        <script charset=\"utf-8\" src=\"https://cdn.plot.ly/plotly-2.35.2.min.js\"></script>                <div id=\"30a5a9e8-e063-4df4-a950-e6f5a40841bb\" class=\"plotly-graph-div\" style=\"height:525px; width:100%;\"></div>            <script type=\"text/javascript\">                                    window.PLOTLYENV=window.PLOTLYENV || {};                                    if (document.getElementById(\"30a5a9e8-e063-4df4-a950-e6f5a40841bb\")) {                    Plotly.newPlot(                        \"30a5a9e8-e063-4df4-a950-e6f5a40841bb\",                        [{\"customdata\":[[\"Wednesday\"],[\"Thursday\"],[\"Friday\"],[\"Saturday\"],[\"Sunday\"],[\"Monday\"],[\"Tuesday\"],[\"Wednesday\"],[\"Thursday\"],[\"Friday\"],[\"Saturday\"],[\"Sunday\"],[\"Monday\"],[\"Tuesday\"],[\"Wednesday\"],[\"Thursday\"],[\"Friday\"],[\"Saturday\"],[\"Sunday\"],[\"Monday\"],[\"Tuesday\"],[\"Wednesday\"],[\"Thursday\"],[\"Friday\"],[\"Saturday\"],[\"Sunday\"],[\"Monday\"],[\"Tuesday\"],[\"Wednesday\"],[\"Thursday\"],[\"Friday\"],[\"Saturday\"],[\"Sunday\"],[\"Monday\"],[\"Tuesday\"],[\"Wednesday\"],[\"Thursday\"],[\"Friday\"],[\"Saturday\"],[\"Sunday\"],[\"Monday\"],[\"Tuesday\"],[\"Wednesday\"],[\"Thursday\"],[\"Friday\"],[\"Saturday\"],[\"Sunday\"],[\"Monday\"],[\"Tuesday\"],[\"Wednesday\"],[\"Thursday\"],[\"Friday\"],[\"Saturday\"],[\"Sunday\"],[\"Monday\"],[\"Tuesday\"],[\"Wednesday\"],[\"Thursday\"],[\"Friday\"],[\"Saturday\"],[\"Sunday\"],[\"Monday\"],[\"Tuesday\"],[\"Wednesday\"],[\"Thursday\"],[\"Friday\"],[\"Saturday\"],[\"Sunday\"],[\"Monday\"],[\"Tuesday\"],[\"Wednesday\"],[\"Thursday\"],[\"Friday\"],[\"Saturday\"],[\"Sunday\"],[\"Monday\"],[\"Tuesday\"],[\"Wednesday\"],[\"Thursday\"],[\"Friday\"],[\"Saturday\"],[\"Sunday\"],[\"Monday\"],[\"Tuesday\"],[\"Wednesday\"],[\"Thursday\"],[\"Friday\"],[\"Saturday\"],[\"Sunday\"],[\"Monday\"],[\"Tuesday\"],[\"Wednesday\"],[\"Thursday\"],[\"Friday\"],[\"Saturday\"],[\"Sunday\"],[\"Monday\"],[\"Tuesday\"],[\"Wednesday\"],[\"Thursday\"],[\"Friday\"],[\"Saturday\"],[\"Sunday\"],[\"Monday\"],[\"Tuesday\"],[\"Wednesday\"],[\"Thursday\"],[\"Friday\"],[\"Saturday\"],[\"Sunday\"],[\"Monday\"],[\"Tuesday\"],[\"Wednesday\"],[\"Thursday\"],[\"Friday\"],[\"Saturday\"],[\"Sunday\"],[\"Monday\"],[\"Tuesday\"],[\"Wednesday\"],[\"Thursday\"],[\"Friday\"],[\"Saturday\"],[\"Sunday\"],[\"Monday\"],[\"Tuesday\"],[\"Wednesday\"],[\"Thursday\"],[\"Friday\"],[\"Saturday\"],[\"Sunday\"],[\"Monday\"],[\"Tuesday\"],[\"Wednesday\"],[\"Thursday\"],[\"Friday\"],[\"Saturday\"],[\"Sunday\"],[\"Monday\"],[\"Tuesday\"],[\"Wednesday\"],[\"Thursday\"],[\"Friday\"],[\"Saturday\"],[\"Sunday\"],[\"Monday\"],[\"Tuesday\"],[\"Wednesday\"],[\"Thursday\"],[\"Friday\"],[\"Saturday\"],[\"Sunday\"],[\"Monday\"],[\"Tuesday\"],[\"Wednesday\"],[\"Thursday\"],[\"Friday\"],[\"Saturday\"],[\"Sunday\"],[\"Monday\"],[\"Tuesday\"],[\"Wednesday\"],[\"Thursday\"],[\"Friday\"],[\"Saturday\"],[\"Sunday\"],[\"Monday\"],[\"Tuesday\"],[\"Wednesday\"],[\"Thursday\"],[\"Friday\"],[\"Saturday\"],[\"Sunday\"],[\"Monday\"],[\"Tuesday\"],[\"Wednesday\"],[\"Thursday\"],[\"Friday\"],[\"Saturday\"],[\"Sunday\"],[\"Monday\"],[\"Tuesday\"],[\"Wednesday\"],[\"Thursday\"],[\"Friday\"],[\"Saturday\"],[\"Sunday\"],[\"Monday\"],[\"Tuesday\"],[\"Wednesday\"],[\"Thursday\"],[\"Friday\"],[\"Saturday\"],[\"Sunday\"],[\"Monday\"],[\"Tuesday\"],[\"Wednesday\"],[\"Thursday\"],[\"Friday\"],[\"Saturday\"],[\"Sunday\"],[\"Monday\"],[\"Tuesday\"],[\"Wednesday\"],[\"Thursday\"],[\"Friday\"],[\"Saturday\"],[\"Sunday\"],[\"Monday\"],[\"Tuesday\"],[\"Wednesday\"],[\"Thursday\"],[\"Friday\"],[\"Saturday\"],[\"Sunday\"],[\"Monday\"],[\"Tuesday\"],[\"Wednesday\"],[\"Thursday\"],[\"Friday\"],[\"Saturday\"],[\"Sunday\"],[\"Monday\"],[\"Tuesday\"],[\"Wednesday\"],[\"Thursday\"],[\"Friday\"],[\"Saturday\"],[\"Sunday\"],[\"Monday\"],[\"Tuesday\"],[\"Wednesday\"],[\"Thursday\"],[\"Friday\"],[\"Saturday\"],[\"Sunday\"],[\"Monday\"],[\"Tuesday\"],[\"Wednesday\"],[\"Thursday\"],[\"Friday\"],[\"Saturday\"],[\"Sunday\"],[\"Monday\"],[\"Tuesday\"],[\"Wednesday\"],[\"Thursday\"],[\"Friday\"],[\"Saturday\"],[\"Sunday\"],[\"Monday\"],[\"Tuesday\"],[\"Wednesday\"],[\"Thursday\"],[\"Friday\"],[\"Saturday\"],[\"Sunday\"],[\"Monday\"],[\"Tuesday\"],[\"Wednesday\"],[\"Thursday\"],[\"Friday\"],[\"Saturday\"],[\"Sunday\"],[\"Monday\"],[\"Tuesday\"],[\"Wednesday\"],[\"Thursday\"],[\"Friday\"],[\"Saturday\"],[\"Sunday\"],[\"Monday\"],[\"Tuesday\"],[\"Wednesday\"],[\"Thursday\"],[\"Friday\"],[\"Saturday\"],[\"Sunday\"],[\"Monday\"],[\"Tuesday\"],[\"Wednesday\"],[\"Thursday\"],[\"Friday\"],[\"Saturday\"],[\"Sunday\"],[\"Monday\"],[\"Tuesday\"],[\"Wednesday\"],[\"Thursday\"],[\"Friday\"],[\"Saturday\"],[\"Sunday\"],[\"Monday\"],[\"Tuesday\"],[\"Wednesday\"],[\"Thursday\"],[\"Friday\"],[\"Saturday\"],[\"Sunday\"],[\"Monday\"],[\"Tuesday\"],[\"Wednesday\"],[\"Thursday\"],[\"Friday\"],[\"Saturday\"],[\"Sunday\"],[\"Monday\"],[\"Tuesday\"],[\"Wednesday\"],[\"Thursday\"],[\"Friday\"],[\"Saturday\"],[\"Sunday\"],[\"Monday\"],[\"Tuesday\"],[\"Wednesday\"],[\"Thursday\"],[\"Friday\"],[\"Saturday\"],[\"Sunday\"],[\"Monday\"],[\"Tuesday\"],[\"Wednesday\"],[\"Thursday\"],[\"Friday\"],[\"Saturday\"],[\"Sunday\"],[\"Monday\"],[\"Tuesday\"],[\"Wednesday\"],[\"Thursday\"],[\"Friday\"],[\"Saturday\"],[\"Sunday\"],[\"Monday\"],[\"Tuesday\"],[\"Wednesday\"],[\"Thursday\"],[\"Friday\"],[\"Saturday\"],[\"Sunday\"],[\"Monday\"],[\"Tuesday\"],[\"Wednesday\"],[\"Thursday\"],[\"Friday\"],[\"Saturday\"],[\"Sunday\"],[\"Monday\"],[\"Tuesday\"],[\"Wednesday\"],[\"Thursday\"],[\"Friday\"],[\"Saturday\"],[\"Sunday\"],[\"Monday\"],[\"Tuesday\"],[\"Wednesday\"],[\"Thursday\"],[\"Friday\"],[\"Saturday\"],[\"Sunday\"],[\"Monday\"],[\"Tuesday\"],[\"Wednesday\"],[\"Thursday\"],[\"Friday\"],[\"Saturday\"],[\"Sunday\"],[\"Monday\"],[\"Tuesday\"],[\"Wednesday\"],[\"Thursday\"],[\"Friday\"],[\"Saturday\"],[\"Sunday\"],[\"Monday\"],[\"Tuesday\"],[\"Wednesday\"],[\"Thursday\"],[\"Friday\"],[\"Saturday\"],[\"Sunday\"],[\"Monday\"],[\"Tuesday\"],[\"Wednesday\"],[\"Thursday\"],[\"Friday\"],[\"Saturday\"],[\"Sunday\"],[\"Monday\"],[\"Tuesday\"],[\"Wednesday\"],[\"Thursday\"],[\"Friday\"],[\"Saturday\"],[\"Sunday\"],[\"Monday\"],[\"Tuesday\"],[\"Wednesday\"],[\"Thursday\"],[\"Friday\"],[\"Saturday\"],[\"Sunday\"],[\"Monday\"],[\"Tuesday\"],[\"Wednesday\"],[\"Thursday\"],[\"Friday\"],[\"Saturday\"],[\"Sunday\"],[\"Monday\"],[\"Tuesday\"],[\"Wednesday\"],[\"Thursday\"],[\"Friday\"],[\"Saturday\"],[\"Sunday\"],[\"Monday\"],[\"Tuesday\"],[\"Wednesday\"],[\"Thursday\"],[\"Friday\"],[\"Saturday\"],[\"Sunday\"],[\"Monday\"],[\"Tuesday\"],[\"Wednesday\"],[\"Thursday\"],[\"Friday\"],[\"Saturday\"],[\"Sunday\"],[\"Monday\"],[\"Tuesday\"],[\"Wednesday\"],[\"Thursday\"],[\"Friday\"],[\"Saturday\"],[\"Sunday\"],[\"Monday\"],[\"Tuesday\"],[\"Wednesday\"],[\"Thursday\"],[\"Friday\"],[\"Saturday\"],[\"Sunday\"],[\"Monday\"],[\"Tuesday\"],[\"Wednesday\"],[\"Thursday\"],[\"Friday\"],[\"Saturday\"],[\"Sunday\"],[\"Monday\"],[\"Tuesday\"],[\"Wednesday\"],[\"Thursday\"],[\"Friday\"]],\"hovertemplate\":\"Date=%{x}\\u003cbr\\u003eTip rate=%{y}\\u003cbr\\u003eday_name=%{customdata[0]}\\u003cextra\\u003e\\u003c\\u002fextra\\u003e\",\"legendgroup\":\"\",\"line\":{\"color\":\"#636efa\",\"dash\":\"solid\"},\"marker\":{\"symbol\":\"circle\"},\"mode\":\"lines\",\"name\":\"\",\"orientation\":\"v\",\"showlegend\":false,\"x\":[\"2024-01-17T00:00:00\",\"2024-01-18T00:00:00\",\"2024-01-19T00:00:00\",\"2024-01-20T00:00:00\",\"2024-01-21T00:00:00\",\"2024-01-22T00:00:00\",\"2024-01-23T00:00:00\",\"2024-01-24T00:00:00\",\"2024-01-25T00:00:00\",\"2024-01-26T00:00:00\",\"2024-01-27T00:00:00\",\"2024-01-28T00:00:00\",\"2024-01-29T00:00:00\",\"2024-01-30T00:00:00\",\"2024-01-31T00:00:00\",\"2024-02-01T00:00:00\",\"2024-02-02T00:00:00\",\"2024-02-03T00:00:00\",\"2024-02-04T00:00:00\",\"2024-02-05T00:00:00\",\"2024-02-06T00:00:00\",\"2024-02-07T00:00:00\",\"2024-02-08T00:00:00\",\"2024-02-09T00:00:00\",\"2024-02-10T00:00:00\",\"2024-02-11T00:00:00\",\"2024-02-12T00:00:00\",\"2024-02-13T00:00:00\",\"2024-02-14T00:00:00\",\"2024-02-15T00:00:00\",\"2024-02-16T00:00:00\",\"2024-02-17T00:00:00\",\"2024-02-18T00:00:00\",\"2024-02-19T00:00:00\",\"2024-02-20T00:00:00\",\"2024-02-21T00:00:00\",\"2024-02-22T00:00:00\",\"2024-02-23T00:00:00\",\"2024-02-24T00:00:00\",\"2024-02-25T00:00:00\",\"2024-02-26T00:00:00\",\"2024-02-27T00:00:00\",\"2024-02-28T00:00:00\",\"2024-02-29T00:00:00\",\"2024-03-01T00:00:00\",\"2024-03-02T00:00:00\",\"2024-03-03T00:00:00\",\"2024-03-04T00:00:00\",\"2024-03-05T00:00:00\",\"2024-03-06T00:00:00\",\"2024-03-07T00:00:00\",\"2024-03-08T00:00:00\",\"2024-03-09T00:00:00\",\"2024-03-10T00:00:00\",\"2024-03-11T00:00:00\",\"2024-03-12T00:00:00\",\"2024-03-13T00:00:00\",\"2024-03-14T00:00:00\",\"2024-03-15T00:00:00\",\"2024-03-16T00:00:00\",\"2024-03-17T00:00:00\",\"2024-03-18T00:00:00\",\"2024-03-19T00:00:00\",\"2024-03-20T00:00:00\",\"2024-03-21T00:00:00\",\"2024-03-22T00:00:00\",\"2024-03-23T00:00:00\",\"2024-03-24T00:00:00\",\"2024-03-25T00:00:00\",\"2024-03-26T00:00:00\",\"2024-03-27T00:00:00\",\"2024-03-28T00:00:00\",\"2024-03-29T00:00:00\",\"2024-03-30T00:00:00\",\"2024-03-31T00:00:00\",\"2024-04-01T00:00:00\",\"2024-04-02T00:00:00\",\"2024-04-03T00:00:00\",\"2024-04-04T00:00:00\",\"2024-04-05T00:00:00\",\"2024-04-06T00:00:00\",\"2024-04-07T00:00:00\",\"2024-04-08T00:00:00\",\"2024-04-09T00:00:00\",\"2024-04-10T00:00:00\",\"2024-04-11T00:00:00\",\"2024-04-12T00:00:00\",\"2024-04-13T00:00:00\",\"2024-04-14T00:00:00\",\"2024-04-15T00:00:00\",\"2024-04-16T00:00:00\",\"2024-04-17T00:00:00\",\"2024-04-18T00:00:00\",\"2024-04-19T00:00:00\",\"2024-04-20T00:00:00\",\"2024-04-21T00:00:00\",\"2024-04-22T00:00:00\",\"2024-04-23T00:00:00\",\"2024-04-24T00:00:00\",\"2024-04-25T00:00:00\",\"2024-04-26T00:00:00\",\"2024-04-27T00:00:00\",\"2024-04-28T00:00:00\",\"2024-04-29T00:00:00\",\"2024-04-30T00:00:00\",\"2024-05-01T00:00:00\",\"2024-05-02T00:00:00\",\"2024-05-03T00:00:00\",\"2024-05-04T00:00:00\",\"2024-05-05T00:00:00\",\"2024-05-06T00:00:00\",\"2024-05-07T00:00:00\",\"2024-05-08T00:00:00\",\"2024-05-09T00:00:00\",\"2024-05-10T00:00:00\",\"2024-05-11T00:00:00\",\"2024-05-12T00:00:00\",\"2024-05-13T00:00:00\",\"2024-05-14T00:00:00\",\"2024-05-15T00:00:00\",\"2024-05-16T00:00:00\",\"2024-05-17T00:00:00\",\"2024-05-18T00:00:00\",\"2024-05-19T00:00:00\",\"2024-05-20T00:00:00\",\"2024-05-21T00:00:00\",\"2024-05-22T00:00:00\",\"2024-05-23T00:00:00\",\"2024-05-24T00:00:00\",\"2024-05-25T00:00:00\",\"2024-05-26T00:00:00\",\"2024-05-27T00:00:00\",\"2024-05-28T00:00:00\",\"2024-05-29T00:00:00\",\"2024-05-30T00:00:00\",\"2024-05-31T00:00:00\",\"2024-06-01T00:00:00\",\"2024-06-02T00:00:00\",\"2024-06-03T00:00:00\",\"2024-06-04T00:00:00\",\"2024-06-05T00:00:00\",\"2024-06-06T00:00:00\",\"2024-06-07T00:00:00\",\"2024-06-08T00:00:00\",\"2024-06-09T00:00:00\",\"2024-06-10T00:00:00\",\"2024-06-11T00:00:00\",\"2024-06-12T00:00:00\",\"2024-06-13T00:00:00\",\"2024-06-14T00:00:00\",\"2024-06-15T00:00:00\",\"2024-06-16T00:00:00\",\"2024-06-17T00:00:00\",\"2024-06-18T00:00:00\",\"2024-06-19T00:00:00\",\"2024-06-20T00:00:00\",\"2024-06-21T00:00:00\",\"2024-06-22T00:00:00\",\"2024-06-23T00:00:00\",\"2024-06-24T00:00:00\",\"2024-06-25T00:00:00\",\"2024-06-26T00:00:00\",\"2024-06-27T00:00:00\",\"2024-06-28T00:00:00\",\"2024-06-29T00:00:00\",\"2024-06-30T00:00:00\",\"2024-07-01T00:00:00\",\"2024-07-02T00:00:00\",\"2024-07-03T00:00:00\",\"2024-07-04T00:00:00\",\"2024-07-05T00:00:00\",\"2024-07-06T00:00:00\",\"2024-07-07T00:00:00\",\"2024-07-08T00:00:00\",\"2024-07-09T00:00:00\",\"2024-07-10T00:00:00\",\"2024-07-11T00:00:00\",\"2024-07-12T00:00:00\",\"2024-07-13T00:00:00\",\"2024-07-14T00:00:00\",\"2024-07-15T00:00:00\",\"2024-07-16T00:00:00\",\"2024-07-17T00:00:00\",\"2024-07-18T00:00:00\",\"2024-07-19T00:00:00\",\"2024-07-20T00:00:00\",\"2024-07-21T00:00:00\",\"2024-07-22T00:00:00\",\"2024-07-23T00:00:00\",\"2024-07-24T00:00:00\",\"2024-07-25T00:00:00\",\"2024-07-26T00:00:00\",\"2024-07-27T00:00:00\",\"2024-07-28T00:00:00\",\"2024-07-29T00:00:00\",\"2024-07-30T00:00:00\",\"2024-07-31T00:00:00\",\"2024-08-01T00:00:00\",\"2024-08-02T00:00:00\",\"2024-08-03T00:00:00\",\"2024-08-04T00:00:00\",\"2024-08-05T00:00:00\",\"2024-08-06T00:00:00\",\"2024-08-07T00:00:00\",\"2024-08-08T00:00:00\",\"2024-08-09T00:00:00\",\"2024-08-10T00:00:00\",\"2024-08-11T00:00:00\",\"2024-08-12T00:00:00\",\"2024-08-13T00:00:00\",\"2024-08-14T00:00:00\",\"2024-08-15T00:00:00\",\"2024-08-16T00:00:00\",\"2024-08-17T00:00:00\",\"2024-08-18T00:00:00\",\"2024-08-19T00:00:00\",\"2024-08-20T00:00:00\",\"2024-08-21T00:00:00\",\"2024-08-22T00:00:00\",\"2024-08-23T00:00:00\",\"2024-08-24T00:00:00\",\"2024-08-25T00:00:00\",\"2024-08-26T00:00:00\",\"2024-08-27T00:00:00\",\"2024-08-28T00:00:00\",\"2024-08-29T00:00:00\",\"2024-08-30T00:00:00\",\"2024-08-31T00:00:00\",\"2024-09-01T00:00:00\",\"2024-09-02T00:00:00\",\"2024-09-03T00:00:00\",\"2024-09-04T00:00:00\",\"2024-09-05T00:00:00\",\"2024-09-06T00:00:00\",\"2024-09-07T00:00:00\",\"2024-09-08T00:00:00\",\"2024-09-09T00:00:00\",\"2024-09-10T00:00:00\",\"2024-09-11T00:00:00\",\"2024-09-12T00:00:00\",\"2024-09-13T00:00:00\",\"2024-09-14T00:00:00\",\"2024-09-15T00:00:00\",\"2024-09-16T00:00:00\",\"2024-09-17T00:00:00\",\"2024-09-18T00:00:00\",\"2024-09-19T00:00:00\",\"2024-09-20T00:00:00\",\"2024-09-21T00:00:00\",\"2024-09-22T00:00:00\",\"2024-09-23T00:00:00\",\"2024-09-24T00:00:00\",\"2024-09-25T00:00:00\",\"2024-09-26T00:00:00\",\"2024-09-27T00:00:00\",\"2024-09-28T00:00:00\",\"2024-09-29T00:00:00\",\"2024-09-30T00:00:00\",\"2024-10-01T00:00:00\",\"2024-10-02T00:00:00\",\"2024-10-03T00:00:00\",\"2024-10-04T00:00:00\",\"2024-10-05T00:00:00\",\"2024-10-06T00:00:00\",\"2024-10-07T00:00:00\",\"2024-10-08T00:00:00\",\"2024-10-09T00:00:00\",\"2024-10-10T00:00:00\",\"2024-10-11T00:00:00\",\"2024-10-12T00:00:00\",\"2024-10-13T00:00:00\",\"2024-10-14T00:00:00\",\"2024-10-15T00:00:00\",\"2024-10-16T00:00:00\",\"2024-10-17T00:00:00\",\"2024-10-18T00:00:00\",\"2024-10-19T00:00:00\",\"2024-10-20T00:00:00\",\"2024-10-21T00:00:00\",\"2024-10-22T00:00:00\",\"2024-10-23T00:00:00\",\"2024-10-24T00:00:00\",\"2024-10-25T00:00:00\",\"2024-10-26T00:00:00\",\"2024-10-27T00:00:00\",\"2024-10-28T00:00:00\",\"2024-10-29T00:00:00\",\"2024-10-30T00:00:00\",\"2024-10-31T00:00:00\",\"2024-11-01T00:00:00\",\"2024-11-02T00:00:00\",\"2024-11-03T00:00:00\",\"2024-11-04T00:00:00\",\"2024-11-05T00:00:00\",\"2024-11-06T00:00:00\",\"2024-11-07T00:00:00\",\"2024-11-08T00:00:00\",\"2024-11-09T00:00:00\",\"2024-11-10T00:00:00\",\"2024-11-11T00:00:00\",\"2024-11-12T00:00:00\",\"2024-11-13T00:00:00\",\"2024-11-14T00:00:00\",\"2024-11-15T00:00:00\",\"2024-11-16T00:00:00\",\"2024-11-17T00:00:00\",\"2024-11-18T00:00:00\",\"2024-11-19T00:00:00\",\"2024-11-20T00:00:00\",\"2024-11-21T00:00:00\",\"2024-11-22T00:00:00\",\"2024-11-23T00:00:00\",\"2024-11-24T00:00:00\",\"2024-11-25T00:00:00\",\"2024-11-26T00:00:00\",\"2024-11-27T00:00:00\",\"2024-11-28T00:00:00\",\"2024-11-29T00:00:00\",\"2024-11-30T00:00:00\",\"2024-12-01T00:00:00\",\"2024-12-02T00:00:00\",\"2024-12-03T00:00:00\",\"2024-12-04T00:00:00\",\"2024-12-05T00:00:00\",\"2024-12-06T00:00:00\",\"2024-12-07T00:00:00\",\"2024-12-08T00:00:00\",\"2024-12-09T00:00:00\",\"2024-12-10T00:00:00\",\"2024-12-11T00:00:00\",\"2024-12-12T00:00:00\",\"2024-12-13T00:00:00\",\"2024-12-14T00:00:00\",\"2024-12-15T00:00:00\",\"2024-12-16T00:00:00\",\"2024-12-17T00:00:00\",\"2024-12-18T00:00:00\",\"2024-12-19T00:00:00\",\"2024-12-20T00:00:00\",\"2024-12-21T00:00:00\",\"2024-12-22T00:00:00\",\"2024-12-23T00:00:00\",\"2024-12-24T00:00:00\",\"2024-12-25T00:00:00\",\"2024-12-26T00:00:00\",\"2024-12-27T00:00:00\",\"2024-12-28T00:00:00\",\"2024-12-29T00:00:00\",\"2024-12-30T00:00:00\",\"2024-12-31T00:00:00\",\"2025-01-01T00:00:00\",\"2025-01-02T00:00:00\",\"2025-01-03T00:00:00\",\"2025-01-04T00:00:00\",\"2025-01-05T00:00:00\",\"2025-01-06T00:00:00\",\"2025-01-07T00:00:00\",\"2025-01-08T00:00:00\",\"2025-01-09T00:00:00\",\"2025-01-10T00:00:00\",\"2025-01-11T00:00:00\",\"2025-01-12T00:00:00\",\"2025-01-13T00:00:00\",\"2025-01-14T00:00:00\",\"2025-01-15T00:00:00\",\"2025-01-16T00:00:00\",\"2025-01-17T00:00:00\",\"2025-01-18T00:00:00\",\"2025-01-19T00:00:00\",\"2025-01-20T00:00:00\",\"2025-01-21T00:00:00\",\"2025-01-22T00:00:00\",\"2025-01-23T00:00:00\",\"2025-01-24T00:00:00\",\"2025-01-25T00:00:00\",\"2025-01-26T00:00:00\",\"2025-01-27T00:00:00\",\"2025-01-28T00:00:00\",\"2025-01-29T00:00:00\",\"2025-01-30T00:00:00\",\"2025-01-31T00:00:00\",\"2025-02-01T00:00:00\",\"2025-02-02T00:00:00\",\"2025-02-03T00:00:00\",\"2025-02-04T00:00:00\",\"2025-02-05T00:00:00\",\"2025-02-06T00:00:00\",\"2025-02-07T00:00:00\",\"2025-02-08T00:00:00\",\"2025-02-09T00:00:00\",\"2025-02-10T00:00:00\",\"2025-02-11T00:00:00\",\"2025-02-12T00:00:00\",\"2025-02-13T00:00:00\",\"2025-02-14T00:00:00\",\"2025-02-15T00:00:00\",\"2025-02-16T00:00:00\",\"2025-02-17T00:00:00\",\"2025-02-18T00:00:00\",\"2025-02-19T00:00:00\",\"2025-02-20T00:00:00\",\"2025-02-21T00:00:00\",\"2025-02-22T00:00:00\",\"2025-02-23T00:00:00\",\"2025-02-24T00:00:00\",\"2025-02-25T00:00:00\",\"2025-02-26T00:00:00\",\"2025-02-27T00:00:00\",\"2025-02-28T00:00:00\",\"2025-03-01T00:00:00\",\"2025-03-02T00:00:00\",\"2025-03-03T00:00:00\",\"2025-03-04T00:00:00\",\"2025-03-05T00:00:00\",\"2025-03-06T00:00:00\",\"2025-03-07T00:00:00\",\"2025-03-08T00:00:00\",\"2025-03-09T00:00:00\",\"2025-03-10T00:00:00\",\"2025-03-11T00:00:00\",\"2025-03-12T00:00:00\",\"2025-03-13T00:00:00\",\"2025-03-14T00:00:00\",\"2025-03-15T00:00:00\",\"2025-03-16T00:00:00\",\"2025-03-17T00:00:00\",\"2025-03-18T00:00:00\",\"2025-03-19T00:00:00\",\"2025-03-20T00:00:00\",\"2025-03-21T00:00:00\",\"2025-03-22T00:00:00\",\"2025-03-23T00:00:00\",\"2025-03-24T00:00:00\",\"2025-03-25T00:00:00\",\"2025-03-26T00:00:00\",\"2025-03-27T00:00:00\",\"2025-03-28T00:00:00\",\"2025-03-29T00:00:00\",\"2025-03-30T00:00:00\",\"2025-03-31T00:00:00\",\"2025-04-01T00:00:00\",\"2025-04-02T00:00:00\",\"2025-04-03T00:00:00\",\"2025-04-04T00:00:00\",\"2025-04-05T00:00:00\",\"2025-04-06T00:00:00\",\"2025-04-07T00:00:00\",\"2025-04-08T00:00:00\",\"2025-04-09T00:00:00\",\"2025-04-10T00:00:00\",\"2025-04-11T00:00:00\",\"2025-04-12T00:00:00\",\"2025-04-13T00:00:00\",\"2025-04-14T00:00:00\",\"2025-04-15T00:00:00\",\"2025-04-16T00:00:00\",\"2025-04-17T00:00:00\",\"2025-04-18T00:00:00\"],\"xaxis\":\"x\",\"y\":[0.33783783783783783,0.4186046511627907,0.4482758620689655,0.5428015564202334,0.5550387596899224,0.42857142857142855,0.4087193460490463,0.423728813559322,0.4483906770255272,0.41800947867298577,0.5971385542168675,0.5850388143966125,0.4336569579288026,0.4115755627009646,0.4373996789727127,0.42884990253411304,0.4478003939592909,0.5798110392839383,0.5958715596330275,0.42108167770419425,0.4599204093234793,0.4403905447070915,0.46589327146171694,0.431533269045323,0.5949019607843137,0.5972032742155525,0.4434389140271493,0.4368353891960868,0.43390557939914165,0.45066666666666666,0.4523364485981308,0.5839307048984468,0.5859353023909986,0.4335378323108384,0.4375438596491228,0.43621676203298554,0.44118574582150744,0.4259379042690815,0.601007556675063,0.6042010856738258,0.4367311072056239,0.4368932038834951,0.4411942098914355,0.4482000549601539,0.4553621560920831,0.6048612604861261,0.6080381189144396,0.43903662819869543,0.44161073825503355,0.45598545832251364,0.44622754491017963,0.4483903934593766,0.5973115137346581,0.5930727912576403,0.44737450844321075,0.4481120873901686,0.4403846153846154,0.45331325301204817,0.452233676975945,0.6002526619743729,0.5968915343915344,0.4329013377926421,0.4418655097613883,0.4581976112920738,0.4509920634920635,0.4438424671806626,0.5955392809587217,0.6177374731017522,0.45616360537776934,0.43763942405191647,0.44896315683511173,0.45407598672076727,0.462417667570709,0.6080495356037152,0.6021334870981693,0.4445812807881773,0.42867811799850636,0.4343376918703809,0.4573499662845583,0.45226860254083484,0.6002063071028588,0.6071526445601535,0.4559517993812083,0.4595250476685734,0.4466996117190258,0.44783880402989923,0.45322033898305086,0.6129076086956522,0.6142164369576314,0.4605220754108927,0.4470926301555105,0.45337732245181456,0.46244500314267756,0.4810984308131241,0.6106093189964158,0.6220120830049908,0.4618132335431196,0.46696669666966695,0.4612163146394756,0.4612046519701441,0.46274803444402846,0.6081708449396471,0.6242073338847532,0.46830985915492956,0.4494949494949495,0.4625425652667423,0.47131670005463483,0.455173775671406,0.6135458167330677,0.6155297532656023,0.4691266456517708,0.45218087234893956,0.46156933574152115,0.4674118984463812,0.46955430006277465,0.6230358010691722,0.6219157088122605,0.4597723704866562,0.4541274817136886,0.4673525089229477,0.473208910295003,0.4652144921093576,0.6227524204702628,0.6386872830545913,0.46626626626626627,0.46259673258813416,0.47613906283740015,0.47470420236638106,0.47007744660877726,0.6149215614739146,0.6319128171763175,0.45761299729223076,0.46671046868155935,0.47030825022665457,0.4799140708915145,0.4624786115864092,0.627831715210356,0.629484781499745,0.477198341697578,0.452975495915986,0.4596980255516841,0.4846272948462729,0.4725868725868726,0.6381566100371021,0.6336545324768023,0.4741613780598368,0.46568032985690033,0.4746912085250666,0.47625602202339984,0.4657641239260609,0.6416918429003021,0.6512566501559347,0.4826936661172592,0.46901999506294745,0.485378655336166,0.47920650095602296,0.4776280323450135,0.6310638297872341,0.6424242424242425,0.48466698610445613,0.4540554414784394,0.4712554782160351,0.47897713302188344,0.48316831683168315,0.6369440306448181,0.6398378691372322,0.47023809523809523,0.470541820094687,0.47813333333333335,0.49474211316975464,0.4754145225843339,0.6325857519788918,0.6400079776625449,0.47021864790148277,0.46545961002785513,0.4851512628365251,0.49028629856850714,0.4837181764357608,0.6436025408348457,0.6488959618062463,0.47812335266209804,0.46054054054054056,0.47154017857142855,0.48308172826652784,0.47572519083969467,0.6451166012468252,0.6314695489503221,0.4662309368191721,0.4675652906486942,0.4720442632498544,0.48312465977136637,0.47737625265715156,0.6523355798280269,0.6441038739889314,0.47917823431426987,0.47658480868075387,0.4711481261154075,0.49682232660956066,0.4853946550652579,0.6611391492429705,0.6343641114982579,0.47492957746478875,0.4630715123094959,0.47560222359481164,0.4712546020957236,0.48483920367534455,0.6552067762830095,0.6293103448275862,0.45348837209302323,0.48214285714285715,0.4760841836734694,0.4681217690982194,0.4841091492776886,0.6444114737883284,0.6501604768454837,0.48322756119673616,0.4634737799333131,0.49328089151098,0.4794478527607362,0.48754208754208755,0.6466942148760331,0.6417808219178082,0.4934069303894511,0.4853259190608588,0.49007936507936506,0.4879518072289157,0.4953496383052015,0.6597806681968885,0.6493112304459491,0.49152029073288916,0.4731289152654138,0.47902338376891335,0.4890885750962773,0.505416384563304,0.6555263157894737,0.6392661424827257,0.4838913455464308,0.489137590520079,0.49254790631653655,0.49412138544645695,0.5014503263234228,0.659273115980759,0.6531365313653137,0.4915254237288136,0.48009862627685806,0.49511514305652476,0.4874835309617918,0.5086271567891973,0.6606334841628959,0.66328125,0.48848080133555927,0.4872448979591837,0.49047619047619045,0.49522555153111625,0.4925028835063437,0.6554869079140924,0.6395317903697793,0.49644188410708234,0.4666193181818182,0.48966789667896676,0.5029544664581161,0.4913361571043512,0.6678603401969562,0.6552190373174689,0.4849101390301797,0.4912866147571376,0.49499615088529636,0.5017743080198722,0.4874551971326165,0.6514719848053181,0.6506754893851668,0.5015717778553964,0.48859315589353614,0.4846720993403182,0.5005313496280552,0.5030500203334689,0.6468486029889539,0.6517385257301808,0.48736587054344066,0.4868370850820298,0.47112704101951414,0.49387300408466395,0.48486122792262404,0.664405684754522,0.662636729994243,0.4904710535778497,0.4837559429477021,0.4981625153123724,0.49110185535781903,0.5006321112515802,0.6631932773109244,0.6498099970768781,0.48355263157894735,0.4871589085072231,0.4925249169435216,0.4974519796158369,0.48643006263048016,0.6622222222222223,0.656497506600176,0.5080109417741305,0.5030624744793794,0.4970464135021097,0.47348767737117253,0.5209074733096085,0.6431331225851774,0.654123549702101,0.4745697896749522,0.47513089005235604,0.4824016563146998,0.5135032331685051,0.49402023919043236,0.6685185185185185,0.6615384615384615,0.49556809024979853,0.4989339019189765,0.5070609002647838,0.4945233265720081,0.4746629474662947,0.6570247933884298,0.6632090761750405,0.49516908212560384,0.49413886384129846,0.5111499781372978,0.4868695289704043,0.4981042654028436,0.655786350148368,0.6431810254621556,0.5109612141652614,0.4960112623181605,0.4894592117323556,0.4954242928452579,0.4906629318394024,0.6680466691757622,0.6508427932576539,0.4849290780141844,0.5047438330170778,0.4976979742173112,0.5043821209465381,0.5116931711880262,0.6709988860007426,0.6673736302580418,0.489935956084172,0.49875559980089595,0.4978642619838633,0.5169491525423728,0.4926181102362205,0.6488319517709118,0.6805100182149363,0.47504892367906065,0.5072239422084623,0.51338199513382,0.5171945701357467,0.5078481012658228,0.6692030436523828,0.6575342465753424,0.4997559785261103,0.4974120082815735,0.5146982980917999,0.5031145184475323,0.521380731581659,0.6736314249895529,0.6433677521842732,0.5069408740359898,0.48645660585959094,0.4890432923570283,0.4994959677419355,0.503126776577601,0.6811059907834102,0.6521191775073437,0.5034324942791762,0.4990859232175503,0.5003065603923973,0.5210176991150443,0.5099750623441397,0.6656626506024096,0.6579583938074504,0.5135475740390675,0.48871181938911024,0.5040214477211796,0.5262828535669587,0.5141242937853108,0.6568516421291053,0.6682464454976303,0.5101275318829708,0.514822848879248,0.5003891050583658,0.5103645461043602,0.5175718849840255,0.667725540025413,0.6777983920841064,0.5034305317324185,0.5149957155098543,0.5432432432432432,0.5112033195020746,0.4888093106535363,0.6792727272727273,0.6823943661971831,0.5024154589371981,0.5,0.5138461538461538,0.5247895229186156,0.4935483870967742,0.6802721088435374,0.6691604322527016,0.5346650998824912,0.5094117647058823,0.5314070351758794,0.5544662309368191,0.5148148148148148,0.679037111334002,0.6755027422303473,0.5383561643835616,0.5014084507042254,0.551051051051051,0.5283018867924528,0.5584415584415584,0.6793611793611793,0.6686046511627907,0.5303571428571429,0.5511265164644714,0.5113636363636364,0.5378006872852233,0.5296523517382413,0.6811819595645412,0.6882352941176471,0.5043103448275862,0.4806378132118451,0.543859649122807,0.514218009478673,0.5079787234042553,0.681704260651629,0.6409691629955947,0.5331325301204819,0.5050847457627119,0.5182724252491694,0.5460750853242321,0.4745098039215686,0.7234848484848485,0.7232704402515723,0.5062761506276151,0.5454545454545454,0.5294117647058824,0.5257731958762887,0.49122807017543857,0.6538461538461539,0.6776315789473685,0.5089285714285714,0.5697674418604651,0.43478260869565216,0.3684210526315789,0.42105263157894735,0.625,0.6666666666666666,0.5,0.5,0.2857142857142857,0.8571428571428571,0.4],\"yaxis\":\"y\",\"type\":\"scatter\"}],                        {\"template\":{\"data\":{\"barpolar\":[{\"marker\":{\"line\":{\"color\":\"rgb(17,17,17)\",\"width\":0.5},\"pattern\":{\"fillmode\":\"overlay\",\"size\":10,\"solidity\":0.2}},\"type\":\"barpolar\"}],\"bar\":[{\"error_x\":{\"color\":\"#f2f5fa\"},\"error_y\":{\"color\":\"#f2f5fa\"},\"marker\":{\"line\":{\"color\":\"rgb(17,17,17)\",\"width\":0.5},\"pattern\":{\"fillmode\":\"overlay\",\"size\":10,\"solidity\":0.2}},\"type\":\"bar\"}],\"carpet\":[{\"aaxis\":{\"endlinecolor\":\"#A2B1C6\",\"gridcolor\":\"#506784\",\"linecolor\":\"#506784\",\"minorgridcolor\":\"#506784\",\"startlinecolor\":\"#A2B1C6\"},\"baxis\":{\"endlinecolor\":\"#A2B1C6\",\"gridcolor\":\"#506784\",\"linecolor\":\"#506784\",\"minorgridcolor\":\"#506784\",\"startlinecolor\":\"#A2B1C6\"},\"type\":\"carpet\"}],\"choropleth\":[{\"colorbar\":{\"outlinewidth\":0,\"ticks\":\"\"},\"type\":\"choropleth\"}],\"contourcarpet\":[{\"colorbar\":{\"outlinewidth\":0,\"ticks\":\"\"},\"type\":\"contourcarpet\"}],\"contour\":[{\"colorbar\":{\"outlinewidth\":0,\"ticks\":\"\"},\"colorscale\":[[0.0,\"#0d0887\"],[0.1111111111111111,\"#46039f\"],[0.2222222222222222,\"#7201a8\"],[0.3333333333333333,\"#9c179e\"],[0.4444444444444444,\"#bd3786\"],[0.5555555555555556,\"#d8576b\"],[0.6666666666666666,\"#ed7953\"],[0.7777777777777778,\"#fb9f3a\"],[0.8888888888888888,\"#fdca26\"],[1.0,\"#f0f921\"]],\"type\":\"contour\"}],\"heatmapgl\":[{\"colorbar\":{\"outlinewidth\":0,\"ticks\":\"\"},\"colorscale\":[[0.0,\"#0d0887\"],[0.1111111111111111,\"#46039f\"],[0.2222222222222222,\"#7201a8\"],[0.3333333333333333,\"#9c179e\"],[0.4444444444444444,\"#bd3786\"],[0.5555555555555556,\"#d8576b\"],[0.6666666666666666,\"#ed7953\"],[0.7777777777777778,\"#fb9f3a\"],[0.8888888888888888,\"#fdca26\"],[1.0,\"#f0f921\"]],\"type\":\"heatmapgl\"}],\"heatmap\":[{\"colorbar\":{\"outlinewidth\":0,\"ticks\":\"\"},\"colorscale\":[[0.0,\"#0d0887\"],[0.1111111111111111,\"#46039f\"],[0.2222222222222222,\"#7201a8\"],[0.3333333333333333,\"#9c179e\"],[0.4444444444444444,\"#bd3786\"],[0.5555555555555556,\"#d8576b\"],[0.6666666666666666,\"#ed7953\"],[0.7777777777777778,\"#fb9f3a\"],[0.8888888888888888,\"#fdca26\"],[1.0,\"#f0f921\"]],\"type\":\"heatmap\"}],\"histogram2dcontour\":[{\"colorbar\":{\"outlinewidth\":0,\"ticks\":\"\"},\"colorscale\":[[0.0,\"#0d0887\"],[0.1111111111111111,\"#46039f\"],[0.2222222222222222,\"#7201a8\"],[0.3333333333333333,\"#9c179e\"],[0.4444444444444444,\"#bd3786\"],[0.5555555555555556,\"#d8576b\"],[0.6666666666666666,\"#ed7953\"],[0.7777777777777778,\"#fb9f3a\"],[0.8888888888888888,\"#fdca26\"],[1.0,\"#f0f921\"]],\"type\":\"histogram2dcontour\"}],\"histogram2d\":[{\"colorbar\":{\"outlinewidth\":0,\"ticks\":\"\"},\"colorscale\":[[0.0,\"#0d0887\"],[0.1111111111111111,\"#46039f\"],[0.2222222222222222,\"#7201a8\"],[0.3333333333333333,\"#9c179e\"],[0.4444444444444444,\"#bd3786\"],[0.5555555555555556,\"#d8576b\"],[0.6666666666666666,\"#ed7953\"],[0.7777777777777778,\"#fb9f3a\"],[0.8888888888888888,\"#fdca26\"],[1.0,\"#f0f921\"]],\"type\":\"histogram2d\"}],\"histogram\":[{\"marker\":{\"pattern\":{\"fillmode\":\"overlay\",\"size\":10,\"solidity\":0.2}},\"type\":\"histogram\"}],\"mesh3d\":[{\"colorbar\":{\"outlinewidth\":0,\"ticks\":\"\"},\"type\":\"mesh3d\"}],\"parcoords\":[{\"line\":{\"colorbar\":{\"outlinewidth\":0,\"ticks\":\"\"}},\"type\":\"parcoords\"}],\"pie\":[{\"automargin\":true,\"type\":\"pie\"}],\"scatter3d\":[{\"line\":{\"colorbar\":{\"outlinewidth\":0,\"ticks\":\"\"}},\"marker\":{\"colorbar\":{\"outlinewidth\":0,\"ticks\":\"\"}},\"type\":\"scatter3d\"}],\"scattercarpet\":[{\"marker\":{\"colorbar\":{\"outlinewidth\":0,\"ticks\":\"\"}},\"type\":\"scattercarpet\"}],\"scattergeo\":[{\"marker\":{\"colorbar\":{\"outlinewidth\":0,\"ticks\":\"\"}},\"type\":\"scattergeo\"}],\"scattergl\":[{\"marker\":{\"line\":{\"color\":\"#283442\"}},\"type\":\"scattergl\"}],\"scattermapbox\":[{\"marker\":{\"colorbar\":{\"outlinewidth\":0,\"ticks\":\"\"}},\"type\":\"scattermapbox\"}],\"scatterpolargl\":[{\"marker\":{\"colorbar\":{\"outlinewidth\":0,\"ticks\":\"\"}},\"type\":\"scatterpolargl\"}],\"scatterpolar\":[{\"marker\":{\"colorbar\":{\"outlinewidth\":0,\"ticks\":\"\"}},\"type\":\"scatterpolar\"}],\"scatter\":[{\"marker\":{\"line\":{\"color\":\"#283442\"}},\"type\":\"scatter\"}],\"scatterternary\":[{\"marker\":{\"colorbar\":{\"outlinewidth\":0,\"ticks\":\"\"}},\"type\":\"scatterternary\"}],\"surface\":[{\"colorbar\":{\"outlinewidth\":0,\"ticks\":\"\"},\"colorscale\":[[0.0,\"#0d0887\"],[0.1111111111111111,\"#46039f\"],[0.2222222222222222,\"#7201a8\"],[0.3333333333333333,\"#9c179e\"],[0.4444444444444444,\"#bd3786\"],[0.5555555555555556,\"#d8576b\"],[0.6666666666666666,\"#ed7953\"],[0.7777777777777778,\"#fb9f3a\"],[0.8888888888888888,\"#fdca26\"],[1.0,\"#f0f921\"]],\"type\":\"surface\"}],\"table\":[{\"cells\":{\"fill\":{\"color\":\"#506784\"},\"line\":{\"color\":\"rgb(17,17,17)\"}},\"header\":{\"fill\":{\"color\":\"#2a3f5f\"},\"line\":{\"color\":\"rgb(17,17,17)\"}},\"type\":\"table\"}]},\"layout\":{\"annotationdefaults\":{\"arrowcolor\":\"#f2f5fa\",\"arrowhead\":0,\"arrowwidth\":1},\"autotypenumbers\":\"strict\",\"coloraxis\":{\"colorbar\":{\"outlinewidth\":0,\"ticks\":\"\"}},\"colorscale\":{\"diverging\":[[0,\"#8e0152\"],[0.1,\"#c51b7d\"],[0.2,\"#de77ae\"],[0.3,\"#f1b6da\"],[0.4,\"#fde0ef\"],[0.5,\"#f7f7f7\"],[0.6,\"#e6f5d0\"],[0.7,\"#b8e186\"],[0.8,\"#7fbc41\"],[0.9,\"#4d9221\"],[1,\"#276419\"]],\"sequential\":[[0.0,\"#0d0887\"],[0.1111111111111111,\"#46039f\"],[0.2222222222222222,\"#7201a8\"],[0.3333333333333333,\"#9c179e\"],[0.4444444444444444,\"#bd3786\"],[0.5555555555555556,\"#d8576b\"],[0.6666666666666666,\"#ed7953\"],[0.7777777777777778,\"#fb9f3a\"],[0.8888888888888888,\"#fdca26\"],[1.0,\"#f0f921\"]],\"sequentialminus\":[[0.0,\"#0d0887\"],[0.1111111111111111,\"#46039f\"],[0.2222222222222222,\"#7201a8\"],[0.3333333333333333,\"#9c179e\"],[0.4444444444444444,\"#bd3786\"],[0.5555555555555556,\"#d8576b\"],[0.6666666666666666,\"#ed7953\"],[0.7777777777777778,\"#fb9f3a\"],[0.8888888888888888,\"#fdca26\"],[1.0,\"#f0f921\"]]},\"colorway\":[\"#636efa\",\"#EF553B\",\"#00cc96\",\"#ab63fa\",\"#FFA15A\",\"#19d3f3\",\"#FF6692\",\"#B6E880\",\"#FF97FF\",\"#FECB52\"],\"font\":{\"color\":\"#f2f5fa\"},\"geo\":{\"bgcolor\":\"rgb(17,17,17)\",\"lakecolor\":\"rgb(17,17,17)\",\"landcolor\":\"rgb(17,17,17)\",\"showlakes\":true,\"showland\":true,\"subunitcolor\":\"#506784\"},\"hoverlabel\":{\"align\":\"left\"},\"hovermode\":\"closest\",\"mapbox\":{\"style\":\"dark\"},\"paper_bgcolor\":\"rgb(17,17,17)\",\"plot_bgcolor\":\"rgb(17,17,17)\",\"polar\":{\"angularaxis\":{\"gridcolor\":\"#506784\",\"linecolor\":\"#506784\",\"ticks\":\"\"},\"bgcolor\":\"rgb(17,17,17)\",\"radialaxis\":{\"gridcolor\":\"#506784\",\"linecolor\":\"#506784\",\"ticks\":\"\"}},\"scene\":{\"xaxis\":{\"backgroundcolor\":\"rgb(17,17,17)\",\"gridcolor\":\"#506784\",\"gridwidth\":2,\"linecolor\":\"#506784\",\"showbackground\":true,\"ticks\":\"\",\"zerolinecolor\":\"#C8D4E3\"},\"yaxis\":{\"backgroundcolor\":\"rgb(17,17,17)\",\"gridcolor\":\"#506784\",\"gridwidth\":2,\"linecolor\":\"#506784\",\"showbackground\":true,\"ticks\":\"\",\"zerolinecolor\":\"#C8D4E3\"},\"zaxis\":{\"backgroundcolor\":\"rgb(17,17,17)\",\"gridcolor\":\"#506784\",\"gridwidth\":2,\"linecolor\":\"#506784\",\"showbackground\":true,\"ticks\":\"\",\"zerolinecolor\":\"#C8D4E3\"}},\"shapedefaults\":{\"line\":{\"color\":\"#f2f5fa\"}},\"sliderdefaults\":{\"bgcolor\":\"#C8D4E3\",\"bordercolor\":\"rgb(17,17,17)\",\"borderwidth\":1,\"tickwidth\":0},\"ternary\":{\"aaxis\":{\"gridcolor\":\"#506784\",\"linecolor\":\"#506784\",\"ticks\":\"\"},\"baxis\":{\"gridcolor\":\"#506784\",\"linecolor\":\"#506784\",\"ticks\":\"\"},\"bgcolor\":\"rgb(17,17,17)\",\"caxis\":{\"gridcolor\":\"#506784\",\"linecolor\":\"#506784\",\"ticks\":\"\"}},\"title\":{\"x\":0.05},\"updatemenudefaults\":{\"bgcolor\":\"#506784\",\"borderwidth\":0},\"xaxis\":{\"automargin\":true,\"gridcolor\":\"#283442\",\"linecolor\":\"#506784\",\"ticks\":\"\",\"title\":{\"standoff\":15},\"zerolinecolor\":\"#283442\",\"zerolinewidth\":2},\"yaxis\":{\"automargin\":true,\"gridcolor\":\"#283442\",\"linecolor\":\"#506784\",\"ticks\":\"\",\"title\":{\"standoff\":15},\"zerolinecolor\":\"#283442\",\"zerolinewidth\":2}}},\"xaxis\":{\"anchor\":\"y\",\"domain\":[0.0,1.0],\"title\":{\"text\":\"Date\"}},\"yaxis\":{\"anchor\":\"x\",\"domain\":[0.0,1.0],\"title\":{\"text\":\"Tip rate\"}},\"legend\":{\"tracegroupgap\":0},\"title\":{\"text\":\"Tip rate over time\"}},                        {\"responsive\": true}                    ).then(function(){\n",
              "                            \n",
              "var gd = document.getElementById('30a5a9e8-e063-4df4-a950-e6f5a40841bb');\n",
              "var x = new MutationObserver(function (mutations, observer) {{\n",
              "        var display = window.getComputedStyle(gd).display;\n",
              "        if (!display || display === 'none') {{\n",
              "            console.log([gd, 'removed!']);\n",
              "            Plotly.purge(gd);\n",
              "            observer.disconnect();\n",
              "        }}\n",
              "}});\n",
              "\n",
              "// Listen for the removal of the full notebook cells\n",
              "var notebookContainer = gd.closest('#notebook-container');\n",
              "if (notebookContainer) {{\n",
              "    x.observe(notebookContainer, {childList: true});\n",
              "}}\n",
              "\n",
              "// Listen for the clearing of the current output cell\n",
              "var outputEl = gd.closest('.output');\n",
              "if (outputEl) {{\n",
              "    x.observe(outputEl, {childList: true});\n",
              "}}\n",
              "\n",
              "                        })                };                            </script>        </div>\n",
              "</body>\n",
              "</html>"
            ]
          },
          "metadata": {}
        }
      ]
    },
    {
      "cell_type": "markdown",
      "source": [
        "Time Series Line Plot by Calendar Week with average tip rate per week over time"
      ],
      "metadata": {
        "id": "3cMbaPz3v9_M"
      }
    },
    {
      "cell_type": "code",
      "execution_count": null,
      "metadata": {
        "id": "j2LsDPydKse7",
        "colab": {
          "base_uri": "https://localhost:8080/",
          "height": 542
        },
        "outputId": "1c272002-c625-4d3c-cffb-89265cf5e2b1"
      },
      "outputs": [
        {
          "output_type": "display_data",
          "data": {
            "text/html": [
              "<html>\n",
              "<head><meta charset=\"utf-8\" /></head>\n",
              "<body>\n",
              "    <div>            <script src=\"https://cdnjs.cloudflare.com/ajax/libs/mathjax/2.7.5/MathJax.js?config=TeX-AMS-MML_SVG\"></script><script type=\"text/javascript\">if (window.MathJax && window.MathJax.Hub && window.MathJax.Hub.Config) {window.MathJax.Hub.Config({SVG: {font: \"STIX-Web\"}});}</script>                <script type=\"text/javascript\">window.PlotlyConfig = {MathJaxConfig: 'local'};</script>\n",
              "        <script charset=\"utf-8\" src=\"https://cdn.plot.ly/plotly-2.35.2.min.js\"></script>                <div id=\"49e749da-0366-4e93-bc85-8eff050b3f92\" class=\"plotly-graph-div\" style=\"height:525px; width:100%;\"></div>            <script type=\"text/javascript\">                                    window.PLOTLYENV=window.PLOTLYENV || {};                                    if (document.getElementById(\"49e749da-0366-4e93-bc85-8eff050b3f92\")) {                    Plotly.newPlot(                        \"49e749da-0366-4e93-bc85-8eff050b3f92\",                        [{\"hovertemplate\":\"Calendar week=%{x}\\u003cbr\\u003eTip rate=%{y}\\u003cextra\\u003e\\u003c\\u002fextra\\u003e\",\"legendgroup\":\"\",\"line\":{\"color\":\"#636efa\",\"dash\":\"solid\"},\"marker\":{\"symbol\":\"circle\"},\"mode\":\"lines\",\"name\":\"\",\"orientation\":\"v\",\"showlegend\":false,\"x\":[\"2024-W01\",\"2024-W03\",\"2024-W04\",\"2024-W05\",\"2024-W06\",\"2024-W07\",\"2024-W08\",\"2024-W09\",\"2024-W10\",\"2024-W11\",\"2024-W12\",\"2024-W13\",\"2024-W14\",\"2024-W15\",\"2024-W16\",\"2024-W17\",\"2024-W18\",\"2024-W19\",\"2024-W20\",\"2024-W21\",\"2024-W22\",\"2024-W23\",\"2024-W24\",\"2024-W25\",\"2024-W26\",\"2024-W27\",\"2024-W28\",\"2024-W29\",\"2024-W30\",\"2024-W31\",\"2024-W32\",\"2024-W33\",\"2024-W34\",\"2024-W35\",\"2024-W36\",\"2024-W37\",\"2024-W38\",\"2024-W39\",\"2024-W40\",\"2024-W41\",\"2024-W42\",\"2024-W43\",\"2024-W44\",\"2024-W45\",\"2024-W46\",\"2024-W47\",\"2024-W48\",\"2024-W49\",\"2024-W50\",\"2024-W51\",\"2024-W52\",\"2025-W01\",\"2025-W02\",\"2025-W03\",\"2025-W04\",\"2025-W05\",\"2025-W06\",\"2025-W07\",\"2025-W08\",\"2025-W09\",\"2025-W10\",\"2025-W11\",\"2025-W12\",\"2025-W13\",\"2025-W14\",\"2025-W15\",\"2025-W16\"],\"xaxis\":\"x\",\"y\":[0.49070818684078354,0.5065082059988681,0.491767448637622,0.49184807359504507,0.4988179669030733,0.4942790577271551,0.4941657696447793,0.5015915814702467,0.4981943478116821,0.5006607400288323,0.5011553697183099,0.5043667007150153,0.49766986114762324,0.5072056395841699,0.511903154673507,0.5133309378368667,0.5118904876099121,0.5167982375619607,0.5198355771352903,0.5210002566222806,0.5207819602483734,0.524795690936107,0.5298273657289002,0.5311702515493985,0.5295097006557711,0.5308680773797053,0.5355773022188766,0.528733950323737,0.5323071146987047,0.5374194043598404,0.5294279644346526,0.5313691646931321,0.5368046062714883,0.5464946344315003,0.5423423423423424,0.5483416908595056,0.5491193027056473,0.5434281683517517,0.5471428571428572,0.5450660641485339,0.5470162297128589,0.5446546638185332,0.5471717804216238,0.5462042715161768,0.5488549618320611,0.5454444134856506,0.5490375802016498,0.5466268096829026,0.5505209883894016,0.5570457579803374,0.5553677621283255,0.5807303123625165,0.5570361397133051,0.5523310107032541,0.5572812424945961,0.5593927556818182,0.5632429137458093,0.5672897196261683,0.5613463626492943,0.5783723875870804,0.5799922148695991,0.5821630943582163,0.5529969522519472,0.5753158406219631,0.5581589958158996,0.5046511627906977,0.5106382978723404],\"yaxis\":\"y\",\"type\":\"scatter\"}],                        {\"template\":{\"data\":{\"barpolar\":[{\"marker\":{\"line\":{\"color\":\"rgb(17,17,17)\",\"width\":0.5},\"pattern\":{\"fillmode\":\"overlay\",\"size\":10,\"solidity\":0.2}},\"type\":\"barpolar\"}],\"bar\":[{\"error_x\":{\"color\":\"#f2f5fa\"},\"error_y\":{\"color\":\"#f2f5fa\"},\"marker\":{\"line\":{\"color\":\"rgb(17,17,17)\",\"width\":0.5},\"pattern\":{\"fillmode\":\"overlay\",\"size\":10,\"solidity\":0.2}},\"type\":\"bar\"}],\"carpet\":[{\"aaxis\":{\"endlinecolor\":\"#A2B1C6\",\"gridcolor\":\"#506784\",\"linecolor\":\"#506784\",\"minorgridcolor\":\"#506784\",\"startlinecolor\":\"#A2B1C6\"},\"baxis\":{\"endlinecolor\":\"#A2B1C6\",\"gridcolor\":\"#506784\",\"linecolor\":\"#506784\",\"minorgridcolor\":\"#506784\",\"startlinecolor\":\"#A2B1C6\"},\"type\":\"carpet\"}],\"choropleth\":[{\"colorbar\":{\"outlinewidth\":0,\"ticks\":\"\"},\"type\":\"choropleth\"}],\"contourcarpet\":[{\"colorbar\":{\"outlinewidth\":0,\"ticks\":\"\"},\"type\":\"contourcarpet\"}],\"contour\":[{\"colorbar\":{\"outlinewidth\":0,\"ticks\":\"\"},\"colorscale\":[[0.0,\"#0d0887\"],[0.1111111111111111,\"#46039f\"],[0.2222222222222222,\"#7201a8\"],[0.3333333333333333,\"#9c179e\"],[0.4444444444444444,\"#bd3786\"],[0.5555555555555556,\"#d8576b\"],[0.6666666666666666,\"#ed7953\"],[0.7777777777777778,\"#fb9f3a\"],[0.8888888888888888,\"#fdca26\"],[1.0,\"#f0f921\"]],\"type\":\"contour\"}],\"heatmapgl\":[{\"colorbar\":{\"outlinewidth\":0,\"ticks\":\"\"},\"colorscale\":[[0.0,\"#0d0887\"],[0.1111111111111111,\"#46039f\"],[0.2222222222222222,\"#7201a8\"],[0.3333333333333333,\"#9c179e\"],[0.4444444444444444,\"#bd3786\"],[0.5555555555555556,\"#d8576b\"],[0.6666666666666666,\"#ed7953\"],[0.7777777777777778,\"#fb9f3a\"],[0.8888888888888888,\"#fdca26\"],[1.0,\"#f0f921\"]],\"type\":\"heatmapgl\"}],\"heatmap\":[{\"colorbar\":{\"outlinewidth\":0,\"ticks\":\"\"},\"colorscale\":[[0.0,\"#0d0887\"],[0.1111111111111111,\"#46039f\"],[0.2222222222222222,\"#7201a8\"],[0.3333333333333333,\"#9c179e\"],[0.4444444444444444,\"#bd3786\"],[0.5555555555555556,\"#d8576b\"],[0.6666666666666666,\"#ed7953\"],[0.7777777777777778,\"#fb9f3a\"],[0.8888888888888888,\"#fdca26\"],[1.0,\"#f0f921\"]],\"type\":\"heatmap\"}],\"histogram2dcontour\":[{\"colorbar\":{\"outlinewidth\":0,\"ticks\":\"\"},\"colorscale\":[[0.0,\"#0d0887\"],[0.1111111111111111,\"#46039f\"],[0.2222222222222222,\"#7201a8\"],[0.3333333333333333,\"#9c179e\"],[0.4444444444444444,\"#bd3786\"],[0.5555555555555556,\"#d8576b\"],[0.6666666666666666,\"#ed7953\"],[0.7777777777777778,\"#fb9f3a\"],[0.8888888888888888,\"#fdca26\"],[1.0,\"#f0f921\"]],\"type\":\"histogram2dcontour\"}],\"histogram2d\":[{\"colorbar\":{\"outlinewidth\":0,\"ticks\":\"\"},\"colorscale\":[[0.0,\"#0d0887\"],[0.1111111111111111,\"#46039f\"],[0.2222222222222222,\"#7201a8\"],[0.3333333333333333,\"#9c179e\"],[0.4444444444444444,\"#bd3786\"],[0.5555555555555556,\"#d8576b\"],[0.6666666666666666,\"#ed7953\"],[0.7777777777777778,\"#fb9f3a\"],[0.8888888888888888,\"#fdca26\"],[1.0,\"#f0f921\"]],\"type\":\"histogram2d\"}],\"histogram\":[{\"marker\":{\"pattern\":{\"fillmode\":\"overlay\",\"size\":10,\"solidity\":0.2}},\"type\":\"histogram\"}],\"mesh3d\":[{\"colorbar\":{\"outlinewidth\":0,\"ticks\":\"\"},\"type\":\"mesh3d\"}],\"parcoords\":[{\"line\":{\"colorbar\":{\"outlinewidth\":0,\"ticks\":\"\"}},\"type\":\"parcoords\"}],\"pie\":[{\"automargin\":true,\"type\":\"pie\"}],\"scatter3d\":[{\"line\":{\"colorbar\":{\"outlinewidth\":0,\"ticks\":\"\"}},\"marker\":{\"colorbar\":{\"outlinewidth\":0,\"ticks\":\"\"}},\"type\":\"scatter3d\"}],\"scattercarpet\":[{\"marker\":{\"colorbar\":{\"outlinewidth\":0,\"ticks\":\"\"}},\"type\":\"scattercarpet\"}],\"scattergeo\":[{\"marker\":{\"colorbar\":{\"outlinewidth\":0,\"ticks\":\"\"}},\"type\":\"scattergeo\"}],\"scattergl\":[{\"marker\":{\"line\":{\"color\":\"#283442\"}},\"type\":\"scattergl\"}],\"scattermapbox\":[{\"marker\":{\"colorbar\":{\"outlinewidth\":0,\"ticks\":\"\"}},\"type\":\"scattermapbox\"}],\"scatterpolargl\":[{\"marker\":{\"colorbar\":{\"outlinewidth\":0,\"ticks\":\"\"}},\"type\":\"scatterpolargl\"}],\"scatterpolar\":[{\"marker\":{\"colorbar\":{\"outlinewidth\":0,\"ticks\":\"\"}},\"type\":\"scatterpolar\"}],\"scatter\":[{\"marker\":{\"line\":{\"color\":\"#283442\"}},\"type\":\"scatter\"}],\"scatterternary\":[{\"marker\":{\"colorbar\":{\"outlinewidth\":0,\"ticks\":\"\"}},\"type\":\"scatterternary\"}],\"surface\":[{\"colorbar\":{\"outlinewidth\":0,\"ticks\":\"\"},\"colorscale\":[[0.0,\"#0d0887\"],[0.1111111111111111,\"#46039f\"],[0.2222222222222222,\"#7201a8\"],[0.3333333333333333,\"#9c179e\"],[0.4444444444444444,\"#bd3786\"],[0.5555555555555556,\"#d8576b\"],[0.6666666666666666,\"#ed7953\"],[0.7777777777777778,\"#fb9f3a\"],[0.8888888888888888,\"#fdca26\"],[1.0,\"#f0f921\"]],\"type\":\"surface\"}],\"table\":[{\"cells\":{\"fill\":{\"color\":\"#506784\"},\"line\":{\"color\":\"rgb(17,17,17)\"}},\"header\":{\"fill\":{\"color\":\"#2a3f5f\"},\"line\":{\"color\":\"rgb(17,17,17)\"}},\"type\":\"table\"}]},\"layout\":{\"annotationdefaults\":{\"arrowcolor\":\"#f2f5fa\",\"arrowhead\":0,\"arrowwidth\":1},\"autotypenumbers\":\"strict\",\"coloraxis\":{\"colorbar\":{\"outlinewidth\":0,\"ticks\":\"\"}},\"colorscale\":{\"diverging\":[[0,\"#8e0152\"],[0.1,\"#c51b7d\"],[0.2,\"#de77ae\"],[0.3,\"#f1b6da\"],[0.4,\"#fde0ef\"],[0.5,\"#f7f7f7\"],[0.6,\"#e6f5d0\"],[0.7,\"#b8e186\"],[0.8,\"#7fbc41\"],[0.9,\"#4d9221\"],[1,\"#276419\"]],\"sequential\":[[0.0,\"#0d0887\"],[0.1111111111111111,\"#46039f\"],[0.2222222222222222,\"#7201a8\"],[0.3333333333333333,\"#9c179e\"],[0.4444444444444444,\"#bd3786\"],[0.5555555555555556,\"#d8576b\"],[0.6666666666666666,\"#ed7953\"],[0.7777777777777778,\"#fb9f3a\"],[0.8888888888888888,\"#fdca26\"],[1.0,\"#f0f921\"]],\"sequentialminus\":[[0.0,\"#0d0887\"],[0.1111111111111111,\"#46039f\"],[0.2222222222222222,\"#7201a8\"],[0.3333333333333333,\"#9c179e\"],[0.4444444444444444,\"#bd3786\"],[0.5555555555555556,\"#d8576b\"],[0.6666666666666666,\"#ed7953\"],[0.7777777777777778,\"#fb9f3a\"],[0.8888888888888888,\"#fdca26\"],[1.0,\"#f0f921\"]]},\"colorway\":[\"#636efa\",\"#EF553B\",\"#00cc96\",\"#ab63fa\",\"#FFA15A\",\"#19d3f3\",\"#FF6692\",\"#B6E880\",\"#FF97FF\",\"#FECB52\"],\"font\":{\"color\":\"#f2f5fa\"},\"geo\":{\"bgcolor\":\"rgb(17,17,17)\",\"lakecolor\":\"rgb(17,17,17)\",\"landcolor\":\"rgb(17,17,17)\",\"showlakes\":true,\"showland\":true,\"subunitcolor\":\"#506784\"},\"hoverlabel\":{\"align\":\"left\"},\"hovermode\":\"closest\",\"mapbox\":{\"style\":\"dark\"},\"paper_bgcolor\":\"rgb(17,17,17)\",\"plot_bgcolor\":\"rgb(17,17,17)\",\"polar\":{\"angularaxis\":{\"gridcolor\":\"#506784\",\"linecolor\":\"#506784\",\"ticks\":\"\"},\"bgcolor\":\"rgb(17,17,17)\",\"radialaxis\":{\"gridcolor\":\"#506784\",\"linecolor\":\"#506784\",\"ticks\":\"\"}},\"scene\":{\"xaxis\":{\"backgroundcolor\":\"rgb(17,17,17)\",\"gridcolor\":\"#506784\",\"gridwidth\":2,\"linecolor\":\"#506784\",\"showbackground\":true,\"ticks\":\"\",\"zerolinecolor\":\"#C8D4E3\"},\"yaxis\":{\"backgroundcolor\":\"rgb(17,17,17)\",\"gridcolor\":\"#506784\",\"gridwidth\":2,\"linecolor\":\"#506784\",\"showbackground\":true,\"ticks\":\"\",\"zerolinecolor\":\"#C8D4E3\"},\"zaxis\":{\"backgroundcolor\":\"rgb(17,17,17)\",\"gridcolor\":\"#506784\",\"gridwidth\":2,\"linecolor\":\"#506784\",\"showbackground\":true,\"ticks\":\"\",\"zerolinecolor\":\"#C8D4E3\"}},\"shapedefaults\":{\"line\":{\"color\":\"#f2f5fa\"}},\"sliderdefaults\":{\"bgcolor\":\"#C8D4E3\",\"bordercolor\":\"rgb(17,17,17)\",\"borderwidth\":1,\"tickwidth\":0},\"ternary\":{\"aaxis\":{\"gridcolor\":\"#506784\",\"linecolor\":\"#506784\",\"ticks\":\"\"},\"baxis\":{\"gridcolor\":\"#506784\",\"linecolor\":\"#506784\",\"ticks\":\"\"},\"bgcolor\":\"rgb(17,17,17)\",\"caxis\":{\"gridcolor\":\"#506784\",\"linecolor\":\"#506784\",\"ticks\":\"\"}},\"title\":{\"x\":0.05},\"updatemenudefaults\":{\"bgcolor\":\"#506784\",\"borderwidth\":0},\"xaxis\":{\"automargin\":true,\"gridcolor\":\"#283442\",\"linecolor\":\"#506784\",\"ticks\":\"\",\"title\":{\"standoff\":15},\"zerolinecolor\":\"#283442\",\"zerolinewidth\":2},\"yaxis\":{\"automargin\":true,\"gridcolor\":\"#283442\",\"linecolor\":\"#506784\",\"ticks\":\"\",\"title\":{\"standoff\":15},\"zerolinecolor\":\"#283442\",\"zerolinewidth\":2}}},\"xaxis\":{\"anchor\":\"y\",\"domain\":[0.0,1.0],\"title\":{\"text\":\"Calendar week\"}},\"yaxis\":{\"anchor\":\"x\",\"domain\":[0.0,1.0],\"title\":{\"text\":\"Tip rate\"}},\"legend\":{\"tracegroupgap\":0},\"title\":{\"text\":\"Tip rate over time\"}},                        {\"responsive\": true}                    ).then(function(){\n",
              "                            \n",
              "var gd = document.getElementById('49e749da-0366-4e93-bc85-8eff050b3f92');\n",
              "var x = new MutationObserver(function (mutations, observer) {{\n",
              "        var display = window.getComputedStyle(gd).display;\n",
              "        if (!display || display === 'none') {{\n",
              "            console.log([gd, 'removed!']);\n",
              "            Plotly.purge(gd);\n",
              "            observer.disconnect();\n",
              "        }}\n",
              "}});\n",
              "\n",
              "// Listen for the removal of the full notebook cells\n",
              "var notebookContainer = gd.closest('#notebook-container');\n",
              "if (notebookContainer) {{\n",
              "    x.observe(notebookContainer, {childList: true});\n",
              "}}\n",
              "\n",
              "// Listen for the clearing of the current output cell\n",
              "var outputEl = gd.closest('.output');\n",
              "if (outputEl) {{\n",
              "    x.observe(outputEl, {childList: true});\n",
              "}}\n",
              "\n",
              "                        })                };                            </script>        </div>\n",
              "</body>\n",
              "</html>"
            ]
          },
          "metadata": {}
        }
      ],
      "source": [
        "px.line(\n",
        "    otc.groupby(\"calendar_week\", as_index=False).tip.mean(),\n",
        "    x=\"calendar_week\",\n",
        "    y=\"tip\",\n",
        "    labels={\"calendar_week\": \"Calendar week\", \"tip\": \"Tip rate\"},\n",
        "    title=\"Tip rate over time\",\n",
        "    template=\"plotly_dark\"\n",
        ")"
      ]
    },
    {
      "cell_type": "markdown",
      "source": [
        "Now, we have figured out a few things. For starters, the data definitely contains a weekly seasonality. Considering a potential horly seasonality does not seem like a bad idea either. Finally, there is also a trend, which becomes much more apparent when looking at the weekly tip rate over time, instead of the overall tip rate over time. To make sure we identified the trend as well as the seasonalities correctly, we are now going to find statistical proof for their existence within our data."
      ],
      "metadata": {
        "id": "2I-o06xz6CrT"
      }
    },
    {
      "cell_type": "code",
      "execution_count": null,
      "metadata": {
        "colab": {
          "base_uri": "https://localhost:8080/"
        },
        "id": "tnrK_3FhSlQo",
        "outputId": "b704bea7-fb4d-4b42-be66-b817adbf39a2"
      },
      "outputs": [
        {
          "output_type": "stream",
          "name": "stdout",
          "text": [
            "Weekly seasonality\n",
            "- p-value: 0.0\n",
            "Autocorrelation (lag=7): 0.93\n",
            "\n",
            "Hourly seasonality\n",
            "- p-value: 0.0\n",
            "Autocorrelation (lag=24): 0.23\n"
          ]
        }
      ],
      "source": [
        "# Weekly seasonality\n",
        "print(\"Weekly seasonality\")\n",
        "contingency_table_weekly = pd.crosstab(otc.day_name, otc.tip)               # test for correlation between tip behavior and weekday using chi² test\n",
        "chi2_weekly, p_weekly, _, _ = chi2_contingency(contingency_table_weekly)\n",
        "\n",
        "df_daily = otc.set_index(\"order_date\").resample(\"D\").tip.mean()             # test for correlation between tip behavior and weekday using autocorrelation with lag 7 for weekly patterns\n",
        "print(f\"- p-value: {p_weekly}\\nAutocorrelation (lag=7): {df_daily.autocorr(lag=7):.2f}\")\n",
        "\n",
        "# Hourly seasonality\n",
        "print(\"\\nHourly seasonality\")                                               # test for correlation between tip behavior and hour of day using chi² test\n",
        "contingency_table_hourly = pd.crosstab(otc.hour, otc.tip)\n",
        "chi2_hourly, p_hourly, _, _ = chi2_contingency(contingency_table_hourly)\n",
        "\n",
        "df_hourly = otc.set_index(\"order_date\").resample(\"h\").tip.mean()            # test for correlation between tip behavior and hour of day using autocorrelation with lag 24 for daily patterns\n",
        "print(f\"- p-value: {p_hourly}\\nAutocorrelation (lag=24): {df_hourly.autocorr(lag=24):.2f}\")"
      ]
    },
    {
      "cell_type": "markdown",
      "source": [
        "**Interpretation**\n",
        "\n",
        "In both cases, the $\\chi^2$ test returns a *p*-value of roughly $0.0$, indicating a dependency which is very unlikely to be occurring by chance.\n",
        "\n",
        "For the weekly seasonality, the AC coefficient is about equal $0.93$, which tells us, that the tip rate strongly depends on the tip rate from last week, which we can assume may be true for any point of time within the dataset, except for the earliest timestamps.\n",
        "\n",
        "Looking at the hourly tip rate on the other hand, we receive an AC coefficient of roughly $0.23$, basically indicating the slight opposite of what an AC coefficient of, let's say $0.8$ or up, would indicate. While this does certainly not mean that there is no information to be gained at all through this, it actually means that the amount of information gained is not impressively high, in fact, an AC coefficient of $0.23$ means just about $ 5.3\\% $ of variance explained.\n",
        "\n",
        "Let's find out whether looking at the _\"weekly-hourly\"_ tip rate would make a difference"
      ],
      "metadata": {
        "id": "DtDPzGzD9liH"
      }
    },
    {
      "cell_type": "code",
      "source": [
        "otc['weekday_hour'] = otc['order_date'].dt.strftime('%A_%H')     # combining weekday with hour of day as a new feature\n",
        "\n",
        "contingency_table_weekly_hourly = pd.crosstab(otc.weekday_hour, otc.tip)\n",
        "chi2_weekly_hourly, p_weekly_hourly, _, _ = chi2_contingency(contingency_table_weekly_hourly)\n",
        "\n",
        "weekly_autocorrelation = df_hourly.autocorr(lag=168)            # Calculate autocorrelation with a lag of 168 hours (hours in 1 week)\n",
        "print(f\"- p-value: {p_weekly_hourly}\\nAutocorrelation (lag=168): {(weekly_autocorrelation):.2f}\")"
      ],
      "metadata": {
        "colab": {
          "base_uri": "https://localhost:8080/"
        },
        "id": "TM36vcf45I1c",
        "outputId": "08712db2-023e-420d-8449-b097cfec4179"
      },
      "execution_count": null,
      "outputs": [
        {
          "output_type": "stream",
          "name": "stdout",
          "text": [
            "- p-value: 0.0\n",
            "Autocorrelation (lag=168): 0.39\n"
          ]
        }
      ]
    },
    {
      "cell_type": "markdown",
      "source": [
        "While an AC coefficient of $ 0.39 $ does not seem that much better, it is still evident that the correlation is stronger and results in a variance explained of $ 15.21\\% $. Certainly not an impressive percentage, but an improvement for sure."
      ],
      "metadata": {
        "id": "vSGudogdklX4"
      }
    },
    {
      "cell_type": "markdown",
      "source": [
        "resample of the df otc per hour and calculate the average tip per hour"
      ],
      "metadata": {
        "id": "bdK_2Ka2z_AJ"
      }
    },
    {
      "cell_type": "code",
      "source": [
        "otc.set_index(\"order_date\").resample(\"h\").tip.mean()"
      ],
      "metadata": {
        "colab": {
          "base_uri": "https://localhost:8080/",
          "height": 489
        },
        "id": "bnwZrs1D2u_2",
        "outputId": "91d063a5-9de9-4864-dc46-a0039ed4cef4"
      },
      "execution_count": null,
      "outputs": [
        {
          "output_type": "execute_result",
          "data": {
            "text/plain": [
              "order_date\n",
              "2024-01-17 00:00:00    0.5\n",
              "2024-01-17 01:00:00    NaN\n",
              "2024-01-17 02:00:00    NaN\n",
              "2024-01-17 03:00:00    NaN\n",
              "2024-01-17 04:00:00    NaN\n",
              "                      ... \n",
              "2025-04-18 15:00:00    1.0\n",
              "2025-04-18 16:00:00    NaN\n",
              "2025-04-18 17:00:00    NaN\n",
              "2025-04-18 18:00:00    0.0\n",
              "2025-04-18 19:00:00    0.0\n",
              "Freq: h, Name: tip, Length: 10988, dtype: float64"
            ],
            "text/html": [
              "<div>\n",
              "<style scoped>\n",
              "    .dataframe tbody tr th:only-of-type {\n",
              "        vertical-align: middle;\n",
              "    }\n",
              "\n",
              "    .dataframe tbody tr th {\n",
              "        vertical-align: top;\n",
              "    }\n",
              "\n",
              "    .dataframe thead th {\n",
              "        text-align: right;\n",
              "    }\n",
              "</style>\n",
              "<table border=\"1\" class=\"dataframe\">\n",
              "  <thead>\n",
              "    <tr style=\"text-align: right;\">\n",
              "      <th></th>\n",
              "      <th>tip</th>\n",
              "    </tr>\n",
              "    <tr>\n",
              "      <th>order_date</th>\n",
              "      <th></th>\n",
              "    </tr>\n",
              "  </thead>\n",
              "  <tbody>\n",
              "    <tr>\n",
              "      <th>2024-01-17 00:00:00</th>\n",
              "      <td>0.5</td>\n",
              "    </tr>\n",
              "    <tr>\n",
              "      <th>2024-01-17 01:00:00</th>\n",
              "      <td>NaN</td>\n",
              "    </tr>\n",
              "    <tr>\n",
              "      <th>2024-01-17 02:00:00</th>\n",
              "      <td>NaN</td>\n",
              "    </tr>\n",
              "    <tr>\n",
              "      <th>2024-01-17 03:00:00</th>\n",
              "      <td>NaN</td>\n",
              "    </tr>\n",
              "    <tr>\n",
              "      <th>2024-01-17 04:00:00</th>\n",
              "      <td>NaN</td>\n",
              "    </tr>\n",
              "    <tr>\n",
              "      <th>...</th>\n",
              "      <td>...</td>\n",
              "    </tr>\n",
              "    <tr>\n",
              "      <th>2025-04-18 15:00:00</th>\n",
              "      <td>1.0</td>\n",
              "    </tr>\n",
              "    <tr>\n",
              "      <th>2025-04-18 16:00:00</th>\n",
              "      <td>NaN</td>\n",
              "    </tr>\n",
              "    <tr>\n",
              "      <th>2025-04-18 17:00:00</th>\n",
              "      <td>NaN</td>\n",
              "    </tr>\n",
              "    <tr>\n",
              "      <th>2025-04-18 18:00:00</th>\n",
              "      <td>0.0</td>\n",
              "    </tr>\n",
              "    <tr>\n",
              "      <th>2025-04-18 19:00:00</th>\n",
              "      <td>0.0</td>\n",
              "    </tr>\n",
              "  </tbody>\n",
              "</table>\n",
              "<p>10988 rows × 1 columns</p>\n",
              "</div><br><label><b>dtype:</b> float64</label>"
            ]
          },
          "metadata": {},
          "execution_count": 28
        }
      ]
    },
    {
      "cell_type": "code",
      "execution_count": null,
      "metadata": {
        "id": "xFTTOPnI0IWF"
      },
      "outputs": [],
      "source": [
        "df = otc.groupby(\"date\", as_index=False).tip.mean().sort_values(\"date\").set_index(\"date\").sort_index()"
      ]
    },
    {
      "cell_type": "markdown",
      "source": [
        "delete dataframe and free up memory"
      ],
      "metadata": {
        "id": "gmkRVRB00oTf"
      }
    },
    {
      "cell_type": "code",
      "source": [
        "del otc\n",
        "gc.collect()"
      ],
      "metadata": {
        "colab": {
          "base_uri": "https://localhost:8080/"
        },
        "id": "TZobg-c0838N",
        "outputId": "3d78740e-1edf-4ffc-8878-2243184b0d6a"
      },
      "execution_count": null,
      "outputs": [
        {
          "output_type": "execute_result",
          "data": {
            "text/plain": [
              "9879"
            ]
          },
          "metadata": {},
          "execution_count": 39
        }
      ]
    },
    {
      "cell_type": "markdown",
      "source": [
        "## Expanding the model\n",
        "\n",
        "Now, it would be about time to actually make some use of the intel we just gained. To sum things up, we found out that the timeseries we are working with contains a trend and seasonalities. The issue with this is that this timeseries is not stationary, which can cause any to misunderstand the training data, as it will, most likely, learn incorrect patterns, since properties like **variance** or **mean** do not remain constant over time.\n",
        "\n",
        "While there are a number of ways to deal with trends and seasonalities, we have settled for the following techniques:\n",
        "\n",
        "- Trend: Encode the temporal progression directly as a numerical variable.\n",
        "- Seasonalities: Encode the cyclical patterns using sin/cos transformation."
      ],
      "metadata": {
        "id": "-6oYb4n1z_XY"
      }
    },
    {
      "cell_type": "code",
      "execution_count": null,
      "metadata": {
        "id": "sk8Q6_OhDdYH"
      },
      "outputs": [],
      "source": [
        "class SinCosTransformer(BaseEstimator, TransformerMixin):\n",
        "    \"\"\"\n",
        "    A scikit-learn compatible transformer that converts numerical features\n",
        "    into their sine and cosine components. This is particularly useful for\n",
        "    capturing cyclical patterns (e.g., time of day, day of week) in data\n",
        "    where the absolute value is less important than its position within a cycle.\n",
        "\n",
        "    For each input feature, it generates two new features:\n",
        "    - `original_feature_name_sin`: The sine transformation of the feature.\n",
        "    - `original_feature_name_cos`: The cosine transformation of the feature.\n",
        "\n",
        "    The transformation is calculated as:\n",
        "    sin_component = sin((2 * pi * value) / period)\n",
        "    cos_component = cos((2 * pi * value) / period)\n",
        "\n",
        "    Attributes:\n",
        "        period (int): The length of the cycle for the data. For example, 24 for\n",
        "                      hours in a day, 7 for days in a week.\n",
        "    \"\"\"\n",
        "    def __init__(self, period: int) -> None:\n",
        "        \"\"\"\n",
        "        Initializes the SinCosTransformer.\n",
        "\n",
        "        Args:\n",
        "            period (int): The cycle length used for the sine and cosine transformations.\n",
        "        \"\"\"\n",
        "        self.period = period\n",
        "\n",
        "    def fit(self, X: pd.DataFrame, y: Optional[Union[pd.Series, pd.DataFrame]] = None) -> \"SinCosTransformer\":\n",
        "        \"\"\"\n",
        "        This method is a placeholder and does not perform any fitting.\n",
        "        It simply returns the transformer instance itself, as the transformation\n",
        "        is stateless and only depends on the 'period' attribute.\n",
        "\n",
        "        Args:\n",
        "            X (pd.DataFrame): The input data. Not used in fit, but required for\n",
        "                              scikit-learn API compatibility.\n",
        "            y (Optional[Union[pd.Series, pd.DataFrame]]): Target variable.\n",
        "                                                            Not used.\n",
        "\n",
        "        Returns:\n",
        "            SinCosTransformer: The instance of the transformer.\n",
        "        \"\"\"\n",
        "        return self\n",
        "\n",
        "    def transform(self, X: pd.DataFrame) -> pd.DataFrame:\n",
        "        \"\"\"\n",
        "        Transforms the input features by calculating their sine and cosine components.\n",
        "        For each numerical column in the input DataFrame, two new columns are created:\n",
        "        one for the sine transformation and one for the cosine transformation.\n",
        "\n",
        "        Args:\n",
        "            X (pd.DataFrame | pd.Series | np.ndarray): The input data containing\n",
        "                                                         numerical features to be transformed.\n",
        "                                                         If a Series or NumPy array, it will\n",
        "                                                         be converted to a DataFrame.\n",
        "\n",
        "        Returns:\n",
        "            pd.DataFrame: A new DataFrame containing only the newly generated\n",
        "                          sine (`_sin`) and cosine (`_cos`) features.\n",
        "                          Original features are dropped.\n",
        "\n",
        "        Raises:\n",
        "            TypeError: If the input `X` is not a pandas DataFrame, Series, or NumPy array.\n",
        "        \"\"\"\n",
        "        # Ensure X is a DataFrame for consistent processing\n",
        "        if isinstance(X, (pd.Series, np.ndarray)):\n",
        "            # Convert Series or NumPy array to DataFrame, preserving column names if possible\n",
        "            if isinstance(X, pd.Series):\n",
        "                X_transformed = pd.DataFrame(X.copy())\n",
        "            else: # np.ndarray\n",
        "                # If it's a 1D array, treat it as a single column\n",
        "                if X.ndim == 1:\n",
        "                    X_transformed = pd.DataFrame(X, columns=['feature'])\n",
        "                else:\n",
        "                    X_transformed = pd.DataFrame(X)\n",
        "        elif isinstance(X, pd.DataFrame):\n",
        "            X_transformed = X.copy()\n",
        "        else:\n",
        "            raise TypeError(\"Input X must be a pandas DataFrame, Series, or NumPy array.\")\n",
        "\n",
        "        # Iterate over each column in the (potentially copied) DataFrame\n",
        "        for col in X_transformed.columns:\n",
        "            # Calculate the sine component for the current column\n",
        "            # The formula (2 * pi * value) / period scales the values to\n",
        "            # a range suitable for sine/cosine functions (0 to 2*pi)\n",
        "            X_transformed[f\"{col}_sin\"] = np.sin((2 * np.pi * X_transformed[col]) / self.period)\n",
        "            # Calculate the cosine component for the current column\n",
        "            X_transformed[f\"{col}_cos\"] = np.cos((2 * np.pi * X_transformed[col]) / self.period)\n",
        "\n",
        "        # Return only the newly created sine and cosine columns.\n",
        "        # `filter(regex=\"_sin|_cos\")` efficiently selects columns ending with these suffixes.\n",
        "        return X_transformed.filter(regex=\"_sin|_cos\")"
      ]
    },
    {
      "cell_type": "code",
      "execution_count": null,
      "metadata": {
        "id": "jaE0h-xGP3In"
      },
      "outputs": [],
      "source": [
        "def feature_preprocessing(df: pd.DataFrame, lags: int, min_date_global: pd.Timestamp = None, log_print: bool = True) -> Tuple[pd.DataFrame, ColumnTransformer]:\n",
        "    df_copy = df.copy()\n",
        "\n",
        "    _log_print(log_print, \"Begin Feature Preprocessing\", \"header\")\n",
        "\n",
        "    if min_date_global is None:\n",
        "        min_date_global = df_copy[\"order_date\"].min()\n",
        "\n",
        "    _log_print(log_print, \"Generate temporal feature\", \"bullet\", 1)\n",
        "\n",
        "    df_copy[\"days_since_start\"] = (df_copy[\"order_date\"] - min_date_global).dt.days\n",
        "    df_copy[\"weekday\"] = df_copy[\"order_date\"].dt.dayofweek\n",
        "\n",
        "    df_copy.sort_values(by=[\"user_id\", \"order_date\"], inplace=True)\n",
        "\n",
        "    df_copy[\"is_target_nan\"] = df_copy.tip.isna()\n",
        "\n",
        "    _log_print(log_print, \"Preparing Data for Shifting\", \"bullet\", 1)\n",
        "    if df_copy.tip.isna().any():\n",
        "        df_copy[\"tip_for_shifting\"] = df_copy.groupby(\"user_id\").tip.ffill()\n",
        "        df_copy[\"tip_for_shifting\"] = df_copy.groupby(\"user_id\").tip_for_shifting.bfill()\n",
        "    else:\n",
        "        df_copy[\"tip_for_shifting\"] = df_copy[\"tip\"]\n",
        "\n",
        "    shifted_tip_features = []\n",
        "    shifted_nan_indicators = []\n",
        "\n",
        "    _log_print(log_print, \"Generating shifted Features\", \"bullet\", 1)\n",
        "    for lag in range(1, lags + 1):\n",
        "        lag_feature_name = f\"tip_t-{lag}\"\n",
        "        nan_indicator_name = f\"tip_t-{lag}_is_nan\"\n",
        "\n",
        "        df_copy[lag_feature_name] = df_copy.groupby(\"user_id\").tip_for_shifting.shift(lag)\n",
        "        df_copy[nan_indicator_name] = df_copy[lag_feature_name].isna().astype(int)\n",
        "\n",
        "        df_copy[lag_feature_name] = df_copy[lag_feature_name].fillna(-1)\n",
        "\n",
        "        shifted_tip_features.append(lag_feature_name)\n",
        "        shifted_nan_indicators.append(nan_indicator_name)\n",
        "\n",
        "    df_copy.drop(columns=[\"user_id\"], inplace=True)\n",
        "\n",
        "    numerical_features_passthrough = shifted_nan_indicators + shifted_tip_features + [\"days_since_start\"]\n",
        "\n",
        "    _log_print(log_print, \"Initializing preprocessor\", \"bullet\", 1, \"start\")\n",
        "    preprocessor = ColumnTransformer(\n",
        "        transformers=[\n",
        "            (\"weekly\", SinCosTransformer(period=7), [\"weekday\"]),\n",
        "            (\"nan_indicators\", \"passthrough\", numerical_features_passthrough)\n",
        "        ],\n",
        "        remainder=\"drop\"\n",
        "    )\n",
        "\n",
        "    _log_print(log_print, \"Feature Preprocessing finished successfully!\", \"bullet\", 1)\n",
        "\n",
        "    return df_copy, preprocessor"
      ]
    },
    {
      "cell_type": "code",
      "execution_count": null,
      "metadata": {
        "id": "x4f9YhRauVqA"
      },
      "outputs": [],
      "source": [
        "def train_ar_extended(df_input: pd.DataFrame, lags: int, log_print: bool = True) -> Tuple[LogisticRegressionCV, ColumnTransformer, pd.Timestamp, float]:\n",
        "    df_input = df_input.copy()\n",
        "\n",
        "    min_date_global_training = df_input.order_date.min()\n",
        "\n",
        "    df_with_all_features, _ = feature_preprocessing(df_input, lags, min_date_global=min_date_global_training)\n",
        "\n",
        "    del _\n",
        "    gc.collect()\n",
        "\n",
        "    df_cleaned_for_training = df_with_all_features[~df_with_all_features[\"is_target_nan\"]].copy()\n",
        "\n",
        "    min_date_for_pred = df_with_all_features.order_date.min()\n",
        "\n",
        "    del df_with_all_features\n",
        "    gc.collect()\n",
        "\n",
        "    df_cleaned_for_training.set_index(\"order_date\", inplace=True)\n",
        "\n",
        "    y = df_cleaned_for_training.pop(\"tip\")\n",
        "\n",
        "    numerical_features_passthrough = [f\"tip_t-{lag}_is_nan\" for lag in range(1, lags + 1)] + [f\"tip_t-{lag}\" for lag in range(1, lags + 1)] + [\"days_since_start\"]\n",
        "    temporal_features = [\"weekday\"]\n",
        "\n",
        "    X_processed = df_cleaned_for_training[numerical_features_passthrough + temporal_features]\n",
        "\n",
        "    del df_cleaned_for_training\n",
        "    gc.collect()\n",
        "\n",
        "    fold_acc_scores = []\n",
        "    tscv = TimeSeriesSplit(n_splits=5)\n",
        "    for i, (train_idx, test_idx) in enumerate(tscv.split(X_processed)):\n",
        "        _log_print(log_print, f\"Current fold: {i + 1}\", \"header\", newline=\"start\")\n",
        "        X_train, X_test = X_processed.iloc[train_idx], X_processed.iloc[test_idx]\n",
        "        y_train, y_test = y.iloc[train_idx], y.iloc[test_idx]\n",
        "\n",
        "        del train_idx, test_idx\n",
        "        gc.collect()\n",
        "\n",
        "        _log_print(log_print, \"Preprocessing\", \"bullet\", 1)\n",
        "        current_preprocessor = ColumnTransformer(\n",
        "            transformers=[\n",
        "                (\"weekly\", SinCosTransformer(period=7), [\"weekday\"]),\n",
        "                (\"nan_indicators\", \"passthrough\", numerical_features_passthrough)\n",
        "            ], remainder=\"drop\"\n",
        "        )\n",
        "        current_preprocessor.fit(X_train)\n",
        "\n",
        "        X_train_transformed = current_preprocessor.transform(X_train)\n",
        "        X_test_transformed = current_preprocessor.transform(X_test)\n",
        "\n",
        "        del current_preprocessor, X_train, X_test\n",
        "        gc.collect()\n",
        "\n",
        "        _log_print(log_print, \"Training\", \"bullet\", 1)\n",
        "        current_model = LogisticRegressionCV(cv=5, n_jobs=-1, max_iter=1000)\n",
        "        current_model.fit(X_train_transformed, y_train)\n",
        "\n",
        "        del X_train_transformed, y_train\n",
        "        gc.collect()\n",
        "\n",
        "        _log_print(log_print, \"Testing\", \"bullet\", 1)\n",
        "        y_pred = current_model.predict(X_test_transformed)\n",
        "        accuracy = accuracy_score(y_test, y_pred)\n",
        "\n",
        "        del X_test_transformed, y_pred, current_model, y_test\n",
        "        gc.collect()\n",
        "\n",
        "        fold_acc_scores.append(accuracy)\n",
        "\n",
        "    del tscv\n",
        "    gc.collect()\n",
        "\n",
        "    acc_mean = np.mean(fold_acc_scores)\n",
        "\n",
        "    _log_print(log_print, \"Finally\", \"header\", newline=\"start\")\n",
        "    _log_print(log_print, \"Preprocessing\", \"bullet\", 1)\n",
        "    final_preprocessor_for_pred = ColumnTransformer(\n",
        "        transformers=[\n",
        "            (\"weekly\", SinCosTransformer(period=7), [\"weekday\"]),\n",
        "            (\"nan_indicators\", \"passthrough\", numerical_features_passthrough)\n",
        "        ], remainder=\"drop\"\n",
        "    )\n",
        "    final_preprocessor_for_pred.fit(X_processed)\n",
        "\n",
        "    X_processed_transformed = final_preprocessor_for_pred.transform(X_processed)\n",
        "\n",
        "    del X_processed\n",
        "    gc.collect()\n",
        "\n",
        "    _log_print(log_print, \"Training\", \"bullet\", 1)\n",
        "    final_model_for_pred = LogisticRegressionCV(cv=5, n_jobs=-1, max_iter=1000)\n",
        "    final_model_for_pred.fit(X_processed_transformed, y)\n",
        "    _log_print(log_print, \"Model training finished successfully\", \"bullet\", 1)\n",
        "\n",
        "    del X_processed_transformed\n",
        "    gc.collect()\n",
        "\n",
        "    return final_model_for_pred, final_preprocessor_for_pred, min_date_for_pred, acc_mean"
      ]
    },
    {
      "cell_type": "code",
      "execution_count": null,
      "metadata": {
        "id": "N6VQ0tMauVqB"
      },
      "outputs": [],
      "source": [
        "def make_predictions(\n",
        "    data_frame: pd.DataFrame,\n",
        "    trained_model: LogisticRegressionCV,\n",
        "    trained_preprocessor: ColumnTransformer,\n",
        "    lags: int,\n",
        "    min_date_from_training: pd.Timestamp\n",
        ") -> pd.DataFrame:\n",
        "    \"\"\"\n",
        "    Generates tip probability predictions for new, unseen orders using a\n",
        "    pre-trained model and preprocessor.\n",
        "\n",
        "    This function applies the same feature engineering and preprocessing steps\n",
        "    used during training to the new data, then uses the trained model to make predictions.\n",
        "    It specifically targets orders where the tip value is missing (NaN),\n",
        "    assuming these are the instances requiring prediction.\n",
        "\n",
        "    Args:\n",
        "        data_frame (pd.DataFrame): Input DataFrame containing order data for which\n",
        "                                   predictions are to be made. This DataFrame should\n",
        "                                   include 'order_id', 'user_id', 'order_date',\n",
        "                                   and potentially other features used during training.\n",
        "                                   It should also contain 'tip' column with NaNs for\n",
        "                                   prediction targets.\n",
        "        trained_model (LogisticRegressionCV): The machine learning model\n",
        "                                              (e.g., LogisticRegressionCV) that has\n",
        "                                              already been fitted on training data.\n",
        "        trained_preprocessor (ColumnTransformer): The fitted ColumnTransformer\n",
        "                                                  used during training to preprocess\n",
        "                                                  the features. It must be consistent\n",
        "                                                  with the features expected by the model.\n",
        "        lags (int): The number of historical orders (lags) used as features\n",
        "                    in the autoregressive components of the model. Must match\n",
        "                    the 'lags' used during model training.\n",
        "        min_date_from_training (pd.Timestamp): The global minimum order date\n",
        "                                                used during feature generation in the\n",
        "                                                training phase. This ensures 'days_since_start'\n",
        "                                                is calculated consistently.\n",
        "\n",
        "    Returns:\n",
        "        pd.DataFrame: A DataFrame containing 'order_id' and the binary\n",
        "                      'tip' prediction (True/False or 1/0) for the orders\n",
        "                      that initially had missing tip values.\n",
        "\n",
        "    Raises:\n",
        "        ValueError: If any NaN values are found in the final predictions,\n",
        "                    indicating a potential issue in preprocessing or model output.\n",
        "    \"\"\"\n",
        "    df_for_prediction = data_frame.copy()\n",
        "\n",
        "    data_frame_features, _ = feature_preprocessing(\n",
        "        df_for_prediction,\n",
        "        lags,\n",
        "        min_date_global=min_date_from_training\n",
        "    )\n",
        "\n",
        "    categorical_features = [\"user_id\"]\n",
        "    numerical_features_to_scale = [f\"tip_t-{lag}\" for lag in range(1, lags + 1)] + [\"days_since_start\"]\n",
        "    numerical_features_passthrough = [f\"tip_t-{lag}_is_nan\" for lag in range(1, lags + 1)]\n",
        "    temporal_features = [\"weekday\", \"hour\"]\n",
        "\n",
        "    data_frame_features = data_frame_features[data_frame_features.is_target_nan == True]\n",
        "\n",
        "    data_frame_features.drop(columns=[\"tip\"], inplace=True)\n",
        "\n",
        "    features_for_pred = data_frame_features[\n",
        "        categorical_features +\n",
        "        numerical_features_to_scale +\n",
        "        numerical_features_passthrough +\n",
        "        temporal_features\n",
        "    ].dropna()\n",
        "\n",
        "    X_transformed = trained_preprocessor.transform(features_for_pred)\n",
        "\n",
        "    predictions = trained_model.predict(X_transformed)\n",
        "\n",
        "    data_frame[\"prediction\"] = np.nan\n",
        "\n",
        "    data_frame.loc[features_for_pred.index, \"prediction\"] = predictions\n",
        "\n",
        "    df_final = data_frame[data_frame.tip.isna()][[\"order_id\", \"prediction\"]].reset_index(drop=True)\n",
        "\n",
        "    if df_final.prediction.isna().values.any():\n",
        "        raise ValueError(\"Predictions contain NaN values! Check preprocessing or input data completeness.\")\n",
        "\n",
        "    df_final[\"prediction\"] = df_final.prediction.astype(bool)\n",
        "\n",
        "    df_final.rename(columns={\"prediction\": \"tip\"}, inplace=True)\n",
        "\n",
        "    return df_final"
      ]
    },
    {
      "cell_type": "code",
      "source": [
        "def load_from_chunks(columns: List[str]) -> pd.DataFrame:\n",
        "    extracted = []\n",
        "    for c in range(1, 12):\n",
        "        df = pd.read_parquet(f\"chunks/{c}_orders_products_user_chunk.parquet\")\n",
        "        extracted.append(df[columns])\n",
        "\n",
        "        del df, c\n",
        "        gc.collect()\n",
        "\n",
        "    return pd.concat(extracted)"
      ],
      "metadata": {
        "id": "fGxpdVycfS5W"
      },
      "execution_count": null,
      "outputs": []
    },
    {
      "cell_type": "code",
      "source": [
        "final_model, final_preprocessor, min_date, acc_mean =\\\n",
        "    train_ar_extended(orders_tips, lags=4)"
      ],
      "metadata": {
        "colab": {
          "base_uri": "https://localhost:8080/"
        },
        "id": "MZ-ybr1r1Jgb",
        "outputId": "763bd91b-4c11-40c9-b512-bd520e5034fc"
      },
      "execution_count": null,
      "outputs": [
        {
          "output_type": "stream",
          "name": "stdout",
          "text": [
            "--- Begin Feature Preprocessing ---\n",
            "\t- Generate temporal feature\n",
            "\t- Preparing Data for Shifting\n",
            "\t- Generating shifted Features\n",
            "\n",
            "\t- Initializing preprocessor\n",
            "\t- Feature Preprocessing finished successfully!\n",
            "\n",
            "--- Current fold: 1 ---\n",
            "\t- Preprocessing\n",
            "\t- Training\n",
            "\t- Testing\n",
            "\n",
            "--- Current fold: 2 ---\n",
            "\t- Preprocessing\n",
            "\t- Training\n",
            "\t- Testing\n",
            "\n",
            "--- Current fold: 3 ---\n",
            "\t- Preprocessing\n",
            "\t- Training\n",
            "\t- Testing\n",
            "\n",
            "--- Current fold: 4 ---\n",
            "\t- Preprocessing\n",
            "\t- Training\n",
            "\t- Testing\n",
            "\n",
            "--- Current fold: 5 ---\n",
            "\t- Preprocessing\n",
            "\t- Training\n",
            "\t- Testing\n",
            "\n",
            "--- Finally ---\n",
            "\t- Preprocessing\n",
            "\t- Training\n",
            "\t- Model training finished successfully\n"
          ]
        }
      ]
    },
    {
      "cell_type": "code",
      "source": [
        "acc_mean"
      ],
      "metadata": {
        "id": "-koBsmpQvpYC",
        "colab": {
          "base_uri": "https://localhost:8080/"
        },
        "outputId": "83bb61bc-8fbc-4f85-ce21-a3687d7290cb"
      },
      "execution_count": null,
      "outputs": [
        {
          "output_type": "execute_result",
          "data": {
            "text/plain": [
              "np.float64(0.7380094178082193)"
            ]
          },
          "metadata": {},
          "execution_count": 88
        }
      ]
    },
    {
      "cell_type": "code",
      "execution_count": null,
      "metadata": {
        "id": "A8LjzqHwuVqC"
      },
      "outputs": [],
      "source": [
        "tip_temp = pd.read_csv(\"tip_testdaten_template_V2.csv\", usecols=[\"order_id\", \"tip\"])"
      ]
    },
    {
      "cell_type": "code",
      "execution_count": null,
      "metadata": {
        "id": "kgfBnG3puVqD"
      },
      "outputs": [],
      "source": [
        "tip_temp_test = pd.concat([tips, tip_temp])\n",
        "tip_temp_test = tip_temp_test.merge(orders)"
      ]
    },
    {
      "cell_type": "code",
      "execution_count": null,
      "metadata": {
        "id": "fSqEwHg8uVqD"
      },
      "outputs": [],
      "source": [
        "tip_temp_test = tip_temp_test[tip_temp_test.user_id.isin(tip_temp_test[tip_temp_test.tip.isna()].user_id.unique())].sort_values([\"user_id\", \"order_date\"])"
      ]
    },
    {
      "cell_type": "code",
      "execution_count": null,
      "metadata": {
        "id": "JkqnYKDJuVqB",
        "colab": {
          "base_uri": "https://localhost:8080/"
        },
        "outputId": "f30cf08b-d196-4f24-d0e6-4f2693b9183d"
      },
      "outputs": [
        {
          "output_type": "stream",
          "name": "stdout",
          "text": [
            "---  Begin Feature Preprocessing ---\n",
            "\t- Generate temporal feature\n",
            "\t- Preparing Data for Shifting\n",
            "\t- Generating shifted Features\n",
            "\n",
            "\t- Initializing preprocessor\n",
            "\t- Feature Preprocessing finished successfully!\n"
          ]
        }
      ],
      "source": [
        "pred_df = make_predictions(tip_temp_test, final_model, final_preprocessor, 4, min_date)"
      ]
    },
    {
      "cell_type": "code",
      "source": [
        "pred_df.to_csv(\"task_2g_pred.csv\")"
      ],
      "metadata": {
        "id": "LeMtL-oy9_IS"
      },
      "execution_count": null,
      "outputs": []
    },
    {
      "cell_type": "markdown",
      "metadata": {
        "id": "xrxCYdBG9RX0"
      },
      "source": [
        "# Aufgabe 3"
      ]
    },
    {
      "cell_type": "markdown",
      "source": [
        "## Further interesting variables\n",
        "\n",
        "Following up after modeling the trend and the seasonalities, we are now going to identify further variables that may provide some additional information regarding the users' tipping behaviors.\n",
        "\n"
      ],
      "metadata": {
        "id": "dd1W4lJoJw-h"
      }
    },
    {
      "cell_type": "code",
      "source": [
        "class DateConversionTransformer(BaseEstimator, TransformerMixin):\n",
        "    def __init__(self, min_date_global: pd.Timestamp = None, log_print: bool = True) -> None:\n",
        "        self.min_date_global = min_date_global\n",
        "        self.log_print = log_print\n",
        "\n",
        "    def fit(self, X: pd.DataFrame, y: pd.Series = None) -> DateConversionTransformer:\n",
        "        if self.min_date_global is None:\n",
        "            self.min_date_global = pd.to_datetime(X[\"order_date\"]).min()\n",
        "\n",
        "        return self\n",
        "\n",
        "    def transform(self, X: pd.DataFrame) -> pd.DataFrame:\n",
        "        _log_print(self.log_print, \"Begin date conversion\", \"header\")\n",
        "        X = X.copy()\n",
        "        if not pd.api.types.is_datetime64_any_dtype(X[\"order_date\"]):\n",
        "            X[\"order_date\"] = pd.to_datetime(X[\"order_date\"])\n",
        "        X[\"days_since_start\"] = (X[\"order_date\"] - self.min_date_global).dt.days\n",
        "\n",
        "        return X"
      ],
      "metadata": {
        "id": "nUWINVH3kIS-"
      },
      "execution_count": null,
      "outputs": []
    },
    {
      "cell_type": "code",
      "source": [
        "class ClusterAssignmentTransformer(BaseEstimator, TransformerMixin):\n",
        "    def __init__(self, log_print: bool = True) -> None:\n",
        "        self.log_print = log_print\n",
        "\n",
        "    def fit(self, X: pd.DataFrame, y: pd.Series = None) -> ClusterAssignmentTransformer:\n",
        "        user_dept_df = X.pivot_table(index=\"user_id\", columns=\"tip\", aggfunc=\"size\", fill_value=0)\n",
        "\n",
        "        scaler = StandardScaler()\n",
        "        scaled = scaler.fit_transform(user_dept_df)\n",
        "\n",
        "        kmeans = KMeans(n_clusters=4, random_state=42, n_init=10)\n",
        "        self.cluster_mapping_ = pd.DataFrame({\n",
        "            \"user_id\": user_dept_df.index,\n",
        "            \"cluster\": kmeans.fit_predict(scaled)\n",
        "        })\n",
        "\n",
        "        return self\n",
        "\n",
        "    def transform(self, X: pd.DataFrame) -> pd.DataFrame:\n",
        "        _log_print(self.log_print, \"Begin cluster generation\", \"header\")\n",
        "        X = X.copy()\n",
        "        X = X.merge(self.cluster_mapping_, how=\"left\", on=\"user_id\")\n",
        "        X[\"cluster\"] = X[\"cluster\"].fillna(-1).astype(int).astype(str)\n",
        "\n",
        "        return X"
      ],
      "metadata": {
        "id": "SkAqH8TJlMts"
      },
      "execution_count": null,
      "outputs": []
    },
    {
      "cell_type": "code",
      "source": [
        "class OrganicProductsFlagTransformer(BaseEstimator, TransformerMixin):\n",
        "    def __init__(self, log_print: bool = True):\n",
        "        self.log_print = log_print\n",
        "\n",
        "    def fit(self, X: pd.DataFrame, y: pd.Series = None) -> OrganicProductsFlagTransformer:\n",
        "        chunks = []\n",
        "        for c in range(1, 12):\n",
        "            df = pd.read_parquet(f\"chunks/{c}_orders_products_user_chunk.parquet\")\n",
        "            df[\"order_contains_organic\"] = df[\"product_name\"].str.lower().str.contains(\"organic\")\n",
        "            chunks.append(df[[\"order_id\", \"order_contains_organic\"]])\n",
        "\n",
        "            del df\n",
        "            gc.collect()\n",
        "\n",
        "        self.organic_df_ = pd.concat(chunks).drop_duplicates(\"order_id\")\n",
        "\n",
        "        del chunks\n",
        "        gc.collect()\n",
        "\n",
        "        return self\n",
        "\n",
        "    def transform(self, X: pd.DataFrame) -> pd.DataFrame:\n",
        "        _log_print(self.log_print, \"Begin organic-products-flagging\", \"header\")\n",
        "        X = X.copy()\n",
        "        X = X.merge(self.organic_df_, how=\"left\", on=\"order_id\")\n",
        "\n",
        "        del self.organic_df_\n",
        "        gc.collect()\n",
        "\n",
        "        X[\"order_contains_organic\"] = X[\"order_contains_organic\"].fillna(False)\n",
        "\n",
        "        return X"
      ],
      "metadata": {
        "id": "R0UCxdtCmSa8"
      },
      "execution_count": null,
      "outputs": []
    },
    {
      "cell_type": "code",
      "source": [
        "class OrderCountTransformer(BaseEstimator, TransformerMixin):\n",
        "    def __init__(self, log_print: bool = True) -> None:\n",
        "        self.log_print = log_print\n",
        "\n",
        "    def fit(self, X, y=None):\n",
        "        return self\n",
        "\n",
        "    def transform(self, X):\n",
        "        _log_print(self.log_print, \"Counting orders per user\", \"header\")\n",
        "        X = X.copy()\n",
        "        X = X.merge(X.groupby(\"user_id\").agg(no_orders=(\"order_id\", \"nunique\")), how=\"left\", on=\"user_id\")\n",
        "\n",
        "        return X"
      ],
      "metadata": {
        "id": "MAeG5BaRLWLF"
      },
      "execution_count": null,
      "outputs": []
    },
    {
      "cell_type": "code",
      "source": [
        "class CartSizeTransformer(BaseEstimator, TransformerMixin):\n",
        "    def __init__(self, log_print: bool = True) -> None:\n",
        "        self.log_print = log_print\n",
        "\n",
        "    def fit(self, X, y=None):\n",
        "        chunks = []\n",
        "        for c in range(1, 12):\n",
        "            df = pd.read_parquet(f\"chunks/{c}_orders_products_user_chunk.parquet\")\n",
        "            chunks.append(df[[\"order_id\", \"add_to_cart_order\"]])\n",
        "\n",
        "            del df\n",
        "            gc.collect()\n",
        "\n",
        "        self.cart_size_df_ = pd.concat(chunks)\n",
        "\n",
        "        del chunks\n",
        "        gc.collect()\n",
        "\n",
        "        return self\n",
        "\n",
        "    def transform(self, X):\n",
        "        _log_print(self.log_print, \"Getting cart size\", \"header\")\n",
        "        X = X.copy()\n",
        "\n",
        "        self.cart_size_df_.sort_values([\"order_id\", \"add_to_cart_order\"], inplace=True)\n",
        "        X = X.merge(\n",
        "            self.cart_size_df_.groupby(\"order_id\", as_index=False).agg(cart_size=(\"add_to_cart_order\", \"max\")),\n",
        "            on=\"order_id\"\n",
        "        )\n",
        "\n",
        "        del self.cart_size_df_\n",
        "        gc.collect()\n",
        "\n",
        "        return X"
      ],
      "metadata": {
        "id": "J9FajzDzXPbN"
      },
      "execution_count": null,
      "outputs": []
    },
    {
      "cell_type": "code",
      "source": [
        "class MeanNoProductsOrderedTransformer(BaseEstimator, TransformerMixin):\n",
        "    def __init__(self, log_print: bool = True) -> None:\n",
        "        self.log_print = log_print\n",
        "\n",
        "    def fit(self, X, y=None):\n",
        "        return self\n",
        "\n",
        "    def transform(self, X):\n",
        "        _log_print(self.log_print, \"Making AVG cart size\", \"header\")\n",
        "        X = X.copy()\n",
        "\n",
        "        X = X.merge(X.groupby(\"user_id\", as_index=False).agg(avg_no_prod=(\"cart_size\", \"mean\")), on=\"user_id\")\n",
        "\n",
        "        return X"
      ],
      "metadata": {
        "id": "tQPLa5M_5prp"
      },
      "execution_count": null,
      "outputs": []
    },
    {
      "cell_type": "code",
      "source": [
        "class TemporalFeatureGenerator(BaseEstimator, TransformerMixin):\n",
        "    def __init__(self, min_date_global: pd.Timestamp, log_print: bool = True) -> None:\n",
        "        self.min_date_global = min_date_global\n",
        "        self.log_print = log_print\n",
        "\n",
        "    def fit(self, X: pd.DataFrame, y: pd.Series = None) -> TemporalFeatureGenerator:\n",
        "        return self\n",
        "\n",
        "    def transform(self, X: pd.DataFrame) -> pd.DataFrame:\n",
        "        _log_print(self.log_print, \"Begin generating temporal features\", \"header\")\n",
        "        X = X.copy()\n",
        "        X[\"weekday\"] = X[\"order_date\"].dt.day_of_week\n",
        "        X[\"hour\"] = X[\"order_date\"].dt.hour\n",
        "\n",
        "        us_holidays = holidays.UnitedStates(years=X[\"order_date\"].dt.year.unique())\n",
        "        X[\"is_holiday\"] = X[\"order_date\"].dt.date.isin(us_holidays.keys())\n",
        "\n",
        "        return X"
      ],
      "metadata": {
        "id": "zAE_hRxxncPg"
      },
      "execution_count": null,
      "outputs": []
    },
    {
      "cell_type": "code",
      "source": [
        "class LagFeatureGenerator(BaseEstimator, TransformerMixin):\n",
        "    def __init__(self, lags: int, log_print: bool = True) -> None:\n",
        "        self.lags = lags\n",
        "        self.log_print = log_print\n",
        "\n",
        "    def fit(self, X: pd.DataFrame, y: pd.Series = None) -> LagFeatureGenerator:\n",
        "        return self\n",
        "\n",
        "    def transform(self, X: pd.DataFrame) -> pd.DataFrame:\n",
        "        _log_print(self.log_print, \"Begin generating lag features\", \"header\")\n",
        "        X = X.copy()\n",
        "\n",
        "        X.sort_values([\"user_id\", \"order_date\"], inplace=True)\n",
        "        X[\"is_target_nan\"] = X[\"tip\"].isna()\n",
        "\n",
        "        if X[\"tip\"].isna().any():\n",
        "            X[\"tip_for_shifting\"] = X.groupby(\"user_id\")[\"tip\"].ffill()\n",
        "            X[\"tip_for_shifting\"] = X.groupby(\"user_id\")[\"tip_for_shifting\"].bfill()\n",
        "        else:\n",
        "            X[\"tip_for_shifting\"] = X[\"tip\"]\n",
        "\n",
        "        for lag in range(1, self.lags + 1):\n",
        "            lag_col = f\"tip_t-{lag}\"\n",
        "            nan_col = f\"tip_t-{lag}_is_nan\"\n",
        "            X[lag_col] = X.groupby(\"user_id\")[\"tip_for_shifting\"].shift(lag)\n",
        "            X[nan_col] = X[lag_col].isna().astype(int)\n",
        "\n",
        "        return X"
      ],
      "metadata": {
        "id": "U_7gMNTyopA-"
      },
      "execution_count": null,
      "outputs": []
    },
    {
      "cell_type": "code",
      "source": [
        "class OverallTipProbaTransformer(BaseEstimator, TransformerMixin):\n",
        "    def __init__(self, log_print: bool = True):\n",
        "        self.log_print = log_print\n",
        "\n",
        "    def fit(self, X, y=None):\n",
        "        return self\n",
        "\n",
        "    def transform(self, X):\n",
        "        _log_print(self.log_print, \"Begin overall tip\", \"header\")\n",
        "        X = X.copy()\n",
        "        X[\"overall_tip_proba\"] = X[\"tip\"].mean() * 100\n",
        "\n",
        "        return X"
      ],
      "metadata": {
        "id": "WoH2ozsU-0gU"
      },
      "execution_count": null,
      "outputs": []
    },
    {
      "cell_type": "code",
      "source": [
        "class TipProbaPerHourTransformer(BaseEstimator, TransformerMixin):\n",
        "    def __init__(self, log_print: bool = True):\n",
        "        self.log_print = log_print\n",
        "\n",
        "    def fit(self, X, y=None):\n",
        "        return self\n",
        "\n",
        "    def transform(self, X: pd.DataFrame) -> pd.DataFrame:\n",
        "        _log_print(self.log_print, \"Begin tip proba per hour\", \"header\")\n",
        "        X = X.copy()\n",
        "        X = X.merge(X.groupby(\"hour\", as_index=False).agg(tip_proba_per_hour=(\"tip\", \"mean\")), how=\"left\", on=\"hour\")\n",
        "\n",
        "        X[\"tip_proba_per_hour\"] = X[\"tip_proba_per_hour\"] * 100\n",
        "\n",
        "        X.sort_values(\"tip_proba_per_hour\", ascending=False, inplace=True)\n",
        "\n",
        "        return X"
      ],
      "metadata": {
        "id": "d6oCzF5g5fcZ"
      },
      "execution_count": null,
      "outputs": []
    },
    {
      "cell_type": "code",
      "source": [
        "class TipProbaPerWeekdayTransformer(BaseEstimator, TransformerMixin):\n",
        "    def __init__(self, log_print: bool = True):\n",
        "        self.log_print = log_print\n",
        "\n",
        "    def fit(self, X: pd.DataFrame, y: pd.Series = None) -> TipProbaPerWeekdayTransformer:\n",
        "        return self\n",
        "\n",
        "    def transform(self, X: pd.DataFrame) -> pd.DataFrame:\n",
        "        _log_print(self.log_print, \"Begin tip proba by weekday\", \"header\")\n",
        "        X = X.copy()\n",
        "        X = X.merge(X.groupby(\"weekday\", as_index=False).agg(tip_proba_per_weekday=(\"tip\", \"mean\")), how=\"left\", on=\"weekday\")\n",
        "\n",
        "        X[\"tip_proba_per_weekday\"] = X[\"tip_proba_per_weekday\"] * 100\n",
        "\n",
        "        X.sort_values(\"tip_proba_per_weekday\", ascending=False, inplace=True)\n",
        "\n",
        "        return X"
      ],
      "metadata": {
        "id": "cQTJPcuw-yXJ"
      },
      "execution_count": null,
      "outputs": []
    },
    {
      "cell_type": "code",
      "source": [
        "class TipProbaPerDepartmentTransformer(BaseEstimator, TransformerMixin):\n",
        "    def __init__(self, log_print):\n",
        "        self.log_print = log_print\n",
        "\n",
        "    def fit(self, X, y=None):\n",
        "        chunks = []\n",
        "        for c in range(1, 12):\n",
        "            df = pd.read_parquet(f\"chunks/{c}_orders_products_user_chunk.parquet\")\n",
        "            chunks.append(df[[\"order_id\", \"department\"]])\n",
        "\n",
        "            del df\n",
        "            gc.collect()\n",
        "\n",
        "        self.dept_df_ = pd.concat(chunks)\n",
        "\n",
        "        del chunks\n",
        "        gc.collect()\n",
        "\n",
        "        return self\n",
        "\n",
        "    def transform(self, X):\n",
        "        _log_print(self.log_print, \"Begin tip proba by department\", \"header\")\n",
        "        X = X.copy()\n",
        "        X = X.merge(self.dept_df_)\n",
        "\n",
        "        del self.dept_df_\n",
        "        gc.collect()\n",
        "\n",
        "        X = X.merge(X.groupby(\"department\", as_index=False).agg(tip_proba_per_department=(\"tip\", \"mean\")), how=\"left\", on=\"department\")\n",
        "\n",
        "        X[\"tip_proba_per_department\"] = X[\"tip_proba_per_department\"] * 100\n",
        "\n",
        "        X.sort_values(\"tip_proba_per_department\", ascending=False, inplace=True)\n",
        "\n",
        "        return X"
      ],
      "metadata": {
        "id": "iRrPiXwGDKI_"
      },
      "execution_count": null,
      "outputs": []
    },
    {
      "cell_type": "code",
      "source": [
        "def build_feature_pipeline(lags: int, min_date_global: pd.Timestamp = None, log_print: bool = True) -> Pipeline:\n",
        "    categorical_features = [\"order_contains_organic\", \"is_holiday\", \"cluster\"]\n",
        "    numerical_features_to_scale = [\"avg_no_prod\", \"overall_tip_proba\",\n",
        "                                   \"tip_proba_per_hour\", \"tip_proba_per_weekday\",\n",
        "                                   \"tip_proba_per_department\", \"days_since_start\"]\n",
        "    numerical_features_to_minmax = [\"no_orders\", \"cart_size\"]\n",
        "    shifted_features = [f\"tip_t-{lag}\" for lag in range(1, lags + 1)]\n",
        "    nan_indicators = [f\"tip_t-{lag}_is_nan\" for lag in range(1, lags + 1)]\n",
        "\n",
        "    preprocessor = ColumnTransformer([\n",
        "        (\"imputation\", SimpleImputer(strategy=\"most_frequent\"), shifted_features),\n",
        "        (\"cat\", OneHotEncoder(handle_unknown=\"ignore\"), categorical_features),\n",
        "        (\"num\", StandardScaler(), numerical_features_to_scale),\n",
        "        (\"no\", MinMaxScaler(), numerical_features_to_minmax),\n",
        "        (\"weekly\", SinCosTransformer(period=7), [\"weekday\"]),\n",
        "        (\"nan_indicators\", \"passthrough\", nan_indicators),\n",
        "    ], remainder=\"drop\")\n",
        "\n",
        "    pipeline = Pipeline([\n",
        "        (\"date_conversion\", DateConversionTransformer(min_date_global=min_date_global, log_print=log_print)),\n",
        "        (\"cluster_generation\", ClusterAssignmentTransformer(log_print=log_print)),\n",
        "        (\"lag_features\", LagFeatureGenerator(lags=lags, log_print=log_print)),\n",
        "        (\"organic_flag\", OrganicProductsFlagTransformer(log_print=log_print)),\n",
        "        (\"count_orders\", OrderCountTransformer(log_print=log_print)),\n",
        "        (\"cart_size\", CartSizeTransformer(log_print=log_print)),\n",
        "        (\"avg_no_prod\", MeanNoProductsOrderedTransformer(log_print=log_print)),\n",
        "        (\"temporal_features\", TemporalFeatureGenerator(min_date_global=min_date_global, log_print=log_print)),\n",
        "        (\"overall_tip_proba\", OverallTipProbaTransformer(log_print=log_print)),\n",
        "        (\"tip_proba_per_hour\", TipProbaPerHourTransformer(log_print=log_print)),\n",
        "        (\"tip_proba_per_weekday\", TipProbaPerWeekdayTransformer(log_print=log_print)),\n",
        "        (\"tip_proba_per_department\", TipProbaPerDepartmentTransformer(log_print=log_print)),\n",
        "        (\"column_preprocessor\", preprocessor)\n",
        "    ])\n",
        "\n",
        "    return pipeline"
      ],
      "metadata": {
        "id": "yI9AGwX3qIzV"
      },
      "execution_count": null,
      "outputs": []
    },
    {
      "cell_type": "code",
      "source": [
        "def feature_engineering_only(df: pd.DataFrame, lags: int, min_date_global=None, log_print=True) -> pd.DataFrame:\n",
        "    pipeline = build_feature_pipeline(lags, min_date_global, log_print=log_print)\n",
        "\n",
        "    steps_except_last = pipeline.steps[:-1]\n",
        "\n",
        "    for name, transformer in steps_except_last:\n",
        "        df = transformer.fit_transform(df)\n",
        "\n",
        "    return df"
      ],
      "metadata": {
        "id": "zAsEGFxjv48H"
      },
      "execution_count": null,
      "outputs": []
    },
    {
      "cell_type": "code",
      "source": [
        "def train_ar_final(df_input: pd.DataFrame, lags: int, log_print: bool = True) -> Tuple[LogisticRegressionCV, ColumnTransformer, pd.Timestamp, float]:\n",
        "    df_input = df_input.copy()\n",
        "\n",
        "    min_date_global_training = df_input.order_date.min()\n",
        "\n",
        "    df_with_all_features = feature_engineering_only(df_input, lags, min_date_global=min_date_global_training, log_print=log_print)\n",
        "\n",
        "    df_cleaned_for_training = df_with_all_features[~df_with_all_features[\"is_target_nan\"]].copy()\n",
        "\n",
        "    min_date_for_pred = df_with_all_features.order_date.min()\n",
        "\n",
        "    del df_with_all_features\n",
        "    gc.collect()\n",
        "\n",
        "    df_cleaned_for_training.set_index(\"order_date\", inplace=True)\n",
        "\n",
        "    y = df_cleaned_for_training.pop(\"tip\")\n",
        "\n",
        "    categorical_features = [\"order_contains_organic\", \"is_holiday\", \"cluster\"]\n",
        "    numerical_features_to_scale = [\"avg_no_prod\", \"overall_tip_proba\",\n",
        "                                   \"tip_proba_per_hour\", \"tip_proba_per_weekday\",\n",
        "                                   \"tip_proba_per_department\"] + [\"days_since_start\"]\n",
        "    numerical_features_to_minmax = [\"no_orders\", \"cart_size\"]\n",
        "    numerical_features_passthrough = [f\"tip_t-{lag}_is_nan\" for lag in range(1, lags + 1)]\n",
        "    shifted_features = [f\"tip_t-{lag}\" for lag in range(1, lags + 1)]\n",
        "    temporal_features = [\"weekday\"]\n",
        "\n",
        "    X_processed = df_cleaned_for_training[categorical_features + numerical_features_to_scale + numerical_features_passthrough + temporal_features + shifted_features + [\"no_orders\", \"cart_size\"]]\n",
        "\n",
        "    del df_cleaned_for_training\n",
        "    gc.collect()\n",
        "\n",
        "    fold_acc_scores = []\n",
        "    tscv = TimeSeriesSplit(n_splits=5)\n",
        "    for i, (train_idx, test_idx) in enumerate(tscv.split(X_processed)):\n",
        "        _log_print(log_print, f\"Current fold: {i + 1}\", \"header\", newline=\"start\")\n",
        "        X_train, X_test = X_processed.iloc[train_idx], X_processed.iloc[test_idx]\n",
        "        y_train, y_test = y.iloc[train_idx], y.iloc[test_idx]\n",
        "\n",
        "        del train_idx, test_idx\n",
        "        gc.collect()\n",
        "\n",
        "        _log_print(log_print, \"Preprocessing\", \"bullet\", 1)\n",
        "        current_preprocessor = ColumnTransformer(\n",
        "            transformers=[\n",
        "                (\"imputation\", SimpleImputer(strategy=\"most_frequent\"), shifted_features),\n",
        "                (\"nan_indicators\", \"passthrough\", numerical_features_passthrough),\n",
        "                (\"cat\", OneHotEncoder(handle_unknown=\"ignore\"), categorical_features),\n",
        "                (\"num\", StandardScaler(), numerical_features_to_scale),\n",
        "                (\"no\", MinMaxScaler(), numerical_features_to_minmax),\n",
        "                (\"weekly\", SinCosTransformer(period=7), [\"weekday\"])\n",
        "            ], remainder=\"drop\"\n",
        "        )\n",
        "        current_preprocessor.fit(X_train)\n",
        "\n",
        "        X_train_transformed = current_preprocessor.transform(X_train)\n",
        "        X_test_transformed = current_preprocessor.transform(X_test)\n",
        "\n",
        "        del current_preprocessor, X_train, X_test\n",
        "        gc.collect()\n",
        "\n",
        "        _log_print(log_print, \"Training\", \"bullet\", 1)\n",
        "        current_model = LogisticRegressionCV(cv=5, n_jobs=-1, max_iter=1000)\n",
        "        current_model.fit(X_train_transformed, y_train)\n",
        "\n",
        "        del X_train_transformed, y_train\n",
        "        gc.collect()\n",
        "\n",
        "        _log_print(log_print, \"Testing\", \"bullet\", 1)\n",
        "        y_pred = current_model.predict(X_test_transformed)\n",
        "        accuracy = accuracy_score(y_test, y_pred)\n",
        "\n",
        "        _log_print(log_print, f\"Accuracy Fold {i + 1}: {accuracy}\", \"text\", 1)\n",
        "\n",
        "        del X_test_transformed, y_pred, current_model, y_test\n",
        "        gc.collect()\n",
        "\n",
        "        fold_acc_scores.append(accuracy)\n",
        "\n",
        "    del tscv\n",
        "    gc.collect()\n",
        "\n",
        "    acc_mean = np.mean(fold_acc_scores)\n",
        "\n",
        "    _log_print(log_print, \"Finally\", \"header\", newline=\"start\")\n",
        "    _log_print(log_print, \"Preprocessing\", \"bullet\", 1)\n",
        "    final_preprocessor_for_pred = ColumnTransformer(\n",
        "        transformers=[\n",
        "            (\"imputation\", SimpleImputer(strategy=\"most_frequent\"), shifted_features),\n",
        "            (\"nan_indicators\", \"passthrough\", numerical_features_passthrough),\n",
        "            (\"cat\", OneHotEncoder(handle_unknown=\"ignore\"), categorical_features),\n",
        "            (\"num\", StandardScaler(), numerical_features_to_scale),\n",
        "            (\"no\", MinMaxScaler(), numerical_features_to_minmax),\n",
        "            (\"weekly\", SinCosTransformer(period=7), [\"weekday\"])\n",
        "        ], remainder=\"drop\"\n",
        "    )\n",
        "    final_preprocessor_for_pred.fit(X_processed)\n",
        "\n",
        "    X_processed_transformed = final_preprocessor_for_pred.transform(X_processed)\n",
        "\n",
        "    del X_processed\n",
        "    gc.collect()\n",
        "\n",
        "    _log_print(log_print, \"Training\", \"bullet\", 1)\n",
        "    final_model_for_pred = LogisticRegressionCV(cv=5, n_jobs=-1, max_iter=1000)\n",
        "    final_model_for_pred.fit(X_processed_transformed, y)\n",
        "    _log_print(log_print, \"Model training finished successfully\", \"bullet\", 1)\n",
        "\n",
        "    del X_processed_transformed\n",
        "    gc.collect()\n",
        "\n",
        "    return final_model_for_pred, final_preprocessor_for_pred, min_date_for_pred, acc_mean"
      ],
      "metadata": {
        "id": "iXYXURrutGiH"
      },
      "execution_count": null,
      "outputs": []
    },
    {
      "cell_type": "code",
      "source": [
        "final_model, final_preprocessor, min_date, acc_mean =\\\n",
        "    train_ar(orders_tips, lags=4)"
      ],
      "metadata": {
        "colab": {
          "base_uri": "https://localhost:8080/"
        },
        "id": "jZxbNO-6wSCX",
        "outputId": "0182e6a1-68ac-454b-ae0d-d65b85287135"
      },
      "execution_count": null,
      "outputs": [
        {
          "output_type": "stream",
          "name": "stdout",
          "text": [
            "--- Begin date conversion ---\n",
            "--- Begin cluster generation ---\n",
            "--- Begin generating lag features ---\n",
            "--- Begin organic-products-flagging ---\n",
            "--- Counting orders per user ---\n",
            "--- Getting cart size ---\n",
            "--- Making AVG cart size ---\n",
            "--- Begin generating temporal features ---\n",
            "--- Begin overall tip ---\n",
            "--- Begin tip proba per hour ---\n",
            "--- Begin tip proba by weekday ---\n",
            "--- Begin tip proba by department ---\n",
            "\n",
            "--- Current fold: 1 ---\n",
            "\t- Preprocessing\n",
            "\t- Training\n",
            "\t- Testing\n",
            "\tAccuracy Fold 1: 0.7532378035213362\n",
            "\n",
            "--- Current fold: 2 ---\n",
            "\t- Preprocessing\n",
            "\t- Training\n",
            "\t- Testing\n",
            "\tAccuracy Fold 2: 0.7599935121242178\n",
            "\n",
            "--- Current fold: 3 ---\n",
            "\t- Preprocessing\n",
            "\t- Training\n"
          ]
        }
      ]
    },
    {
      "cell_type": "code",
      "source": [
        "acc_mean"
      ],
      "metadata": {
        "colab": {
          "base_uri": "https://localhost:8080/"
        },
        "id": "aFqnXvBvwdvq",
        "outputId": "dca5596b-f40d-4116-8757-5e6bf3d31ddf"
      },
      "execution_count": null,
      "outputs": [
        {
          "output_type": "execute_result",
          "data": {
            "text/plain": [
              "np.float64(0.7416857876712329)"
            ]
          },
          "metadata": {},
          "execution_count": 293
        }
      ]
    },
    {
      "cell_type": "code",
      "source": [],
      "metadata": {
        "id": "k6D7imNyRF8x"
      },
      "execution_count": null,
      "outputs": []
    }
  ],
  "metadata": {
    "colab": {
      "provenance": []
    },
    "kernelspec": {
      "display_name": "venv",
      "language": "python",
      "name": "python3"
    },
    "language_info": {
      "codemirror_mode": {
        "name": "ipython",
        "version": 3
      },
      "file_extension": ".py",
      "mimetype": "text/x-python",
      "name": "python",
      "nbconvert_exporter": "python",
      "pygments_lexer": "ipython3",
      "version": "3.12.3"
    }
  },
  "nbformat": 4,
  "nbformat_minor": 0
}